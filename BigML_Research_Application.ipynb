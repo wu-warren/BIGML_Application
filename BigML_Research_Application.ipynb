{
  "nbformat": 4,
  "nbformat_minor": 0,
  "metadata": {
    "colab": {
      "provenance": [],
      "authorship_tag": "ABX9TyPJQWRbXigcbAZFgTxO/9TV",
      "include_colab_link": true
    },
    "kernelspec": {
      "name": "python3",
      "display_name": "Python 3"
    },
    "language_info": {
      "name": "python"
    }
  },
  "cells": [
    {
      "cell_type": "markdown",
      "metadata": {
        "id": "view-in-github",
        "colab_type": "text"
      },
      "source": [
        "<a href=\"https://colab.research.google.com/github/wu-warren/BIGML_Application/blob/main/BigML_Research_Application.ipynb\" target=\"_parent\"><img src=\"https://colab.research.google.com/assets/colab-badge.svg\" alt=\"Open In Colab\"/></a>"
      ]
    },
    {
      "cell_type": "code",
      "source": [
        "!pip install spuco"
      ],
      "metadata": {
        "colab": {
          "base_uri": "https://localhost:8080/"
        },
        "id": "2OJ0HbTsq08_",
        "outputId": "12de2081-3fa4-43b4-c57a-464aaa5853ec"
      },
      "execution_count": null,
      "outputs": [
        {
          "output_type": "stream",
          "name": "stdout",
          "text": [
            "Requirement already satisfied: spuco in /usr/local/lib/python3.12/dist-packages (2.0.3)\n",
            "Requirement already satisfied: matplotlib>=3.7.1 in /usr/local/lib/python3.12/dist-packages (from spuco) (3.10.0)\n",
            "Requirement already satisfied: numpy>=1.23.5 in /usr/local/lib/python3.12/dist-packages (from spuco) (2.0.2)\n",
            "Requirement already satisfied: setuptools>=61.0 in /usr/local/lib/python3.12/dist-packages (from spuco) (75.2.0)\n",
            "Requirement already satisfied: torch>=2.0.0 in /usr/local/lib/python3.12/dist-packages (from spuco) (2.8.0+cu126)\n",
            "Requirement already satisfied: torchvision>=0.15.1 in /usr/local/lib/python3.12/dist-packages (from spuco) (0.23.0+cu126)\n",
            "Requirement already satisfied: tqdm>=4.65.0 in /usr/local/lib/python3.12/dist-packages (from spuco) (4.67.1)\n",
            "Requirement already satisfied: scikit-learn>=0.20.0 in /usr/local/lib/python3.12/dist-packages (from spuco) (1.6.1)\n",
            "Requirement already satisfied: wilds>=2.0.0 in /usr/local/lib/python3.12/dist-packages (from spuco) (2.0.0)\n",
            "Requirement already satisfied: transformers>=3.5.0 in /usr/local/lib/python3.12/dist-packages (from spuco) (4.57.1)\n",
            "Requirement already satisfied: umap-learn>=0.5.5 in /usr/local/lib/python3.12/dist-packages (from spuco) (0.5.9.post2)\n",
            "Requirement already satisfied: grad-cam>=1.5.0 in /usr/local/lib/python3.12/dist-packages (from spuco) (1.5.5)\n",
            "Requirement already satisfied: Pillow in /usr/local/lib/python3.12/dist-packages (from grad-cam>=1.5.0->spuco) (11.3.0)\n",
            "Requirement already satisfied: ttach in /usr/local/lib/python3.12/dist-packages (from grad-cam>=1.5.0->spuco) (0.0.3)\n",
            "Requirement already satisfied: opencv-python in /usr/local/lib/python3.12/dist-packages (from grad-cam>=1.5.0->spuco) (4.12.0.88)\n",
            "Requirement already satisfied: contourpy>=1.0.1 in /usr/local/lib/python3.12/dist-packages (from matplotlib>=3.7.1->spuco) (1.3.3)\n",
            "Requirement already satisfied: cycler>=0.10 in /usr/local/lib/python3.12/dist-packages (from matplotlib>=3.7.1->spuco) (0.12.1)\n",
            "Requirement already satisfied: fonttools>=4.22.0 in /usr/local/lib/python3.12/dist-packages (from matplotlib>=3.7.1->spuco) (4.60.1)\n",
            "Requirement already satisfied: kiwisolver>=1.3.1 in /usr/local/lib/python3.12/dist-packages (from matplotlib>=3.7.1->spuco) (1.4.9)\n",
            "Requirement already satisfied: packaging>=20.0 in /usr/local/lib/python3.12/dist-packages (from matplotlib>=3.7.1->spuco) (25.0)\n",
            "Requirement already satisfied: pyparsing>=2.3.1 in /usr/local/lib/python3.12/dist-packages (from matplotlib>=3.7.1->spuco) (3.2.5)\n",
            "Requirement already satisfied: python-dateutil>=2.7 in /usr/local/lib/python3.12/dist-packages (from matplotlib>=3.7.1->spuco) (2.9.0.post0)\n",
            "Requirement already satisfied: scipy>=1.6.0 in /usr/local/lib/python3.12/dist-packages (from scikit-learn>=0.20.0->spuco) (1.16.2)\n",
            "Requirement already satisfied: joblib>=1.2.0 in /usr/local/lib/python3.12/dist-packages (from scikit-learn>=0.20.0->spuco) (1.5.2)\n",
            "Requirement already satisfied: threadpoolctl>=3.1.0 in /usr/local/lib/python3.12/dist-packages (from scikit-learn>=0.20.0->spuco) (3.6.0)\n",
            "Requirement already satisfied: filelock in /usr/local/lib/python3.12/dist-packages (from torch>=2.0.0->spuco) (3.20.0)\n",
            "Requirement already satisfied: typing-extensions>=4.10.0 in /usr/local/lib/python3.12/dist-packages (from torch>=2.0.0->spuco) (4.15.0)\n",
            "Requirement already satisfied: sympy>=1.13.3 in /usr/local/lib/python3.12/dist-packages (from torch>=2.0.0->spuco) (1.13.3)\n",
            "Requirement already satisfied: networkx in /usr/local/lib/python3.12/dist-packages (from torch>=2.0.0->spuco) (3.5)\n",
            "Requirement already satisfied: jinja2 in /usr/local/lib/python3.12/dist-packages (from torch>=2.0.0->spuco) (3.1.6)\n",
            "Requirement already satisfied: fsspec in /usr/local/lib/python3.12/dist-packages (from torch>=2.0.0->spuco) (2025.3.0)\n",
            "Requirement already satisfied: nvidia-cuda-nvrtc-cu12==12.6.77 in /usr/local/lib/python3.12/dist-packages (from torch>=2.0.0->spuco) (12.6.77)\n",
            "Requirement already satisfied: nvidia-cuda-runtime-cu12==12.6.77 in /usr/local/lib/python3.12/dist-packages (from torch>=2.0.0->spuco) (12.6.77)\n",
            "Requirement already satisfied: nvidia-cuda-cupti-cu12==12.6.80 in /usr/local/lib/python3.12/dist-packages (from torch>=2.0.0->spuco) (12.6.80)\n",
            "Requirement already satisfied: nvidia-cudnn-cu12==9.10.2.21 in /usr/local/lib/python3.12/dist-packages (from torch>=2.0.0->spuco) (9.10.2.21)\n",
            "Requirement already satisfied: nvidia-cublas-cu12==12.6.4.1 in /usr/local/lib/python3.12/dist-packages (from torch>=2.0.0->spuco) (12.6.4.1)\n",
            "Requirement already satisfied: nvidia-cufft-cu12==11.3.0.4 in /usr/local/lib/python3.12/dist-packages (from torch>=2.0.0->spuco) (11.3.0.4)\n",
            "Requirement already satisfied: nvidia-curand-cu12==10.3.7.77 in /usr/local/lib/python3.12/dist-packages (from torch>=2.0.0->spuco) (10.3.7.77)\n",
            "Requirement already satisfied: nvidia-cusolver-cu12==11.7.1.2 in /usr/local/lib/python3.12/dist-packages (from torch>=2.0.0->spuco) (11.7.1.2)\n",
            "Requirement already satisfied: nvidia-cusparse-cu12==12.5.4.2 in /usr/local/lib/python3.12/dist-packages (from torch>=2.0.0->spuco) (12.5.4.2)\n",
            "Requirement already satisfied: nvidia-cusparselt-cu12==0.7.1 in /usr/local/lib/python3.12/dist-packages (from torch>=2.0.0->spuco) (0.7.1)\n",
            "Requirement already satisfied: nvidia-nccl-cu12==2.27.3 in /usr/local/lib/python3.12/dist-packages (from torch>=2.0.0->spuco) (2.27.3)\n",
            "Requirement already satisfied: nvidia-nvtx-cu12==12.6.77 in /usr/local/lib/python3.12/dist-packages (from torch>=2.0.0->spuco) (12.6.77)\n",
            "Requirement already satisfied: nvidia-nvjitlink-cu12==12.6.85 in /usr/local/lib/python3.12/dist-packages (from torch>=2.0.0->spuco) (12.6.85)\n",
            "Requirement already satisfied: nvidia-cufile-cu12==1.11.1.6 in /usr/local/lib/python3.12/dist-packages (from torch>=2.0.0->spuco) (1.11.1.6)\n",
            "Requirement already satisfied: triton==3.4.0 in /usr/local/lib/python3.12/dist-packages (from torch>=2.0.0->spuco) (3.4.0)\n",
            "Requirement already satisfied: huggingface-hub<1.0,>=0.34.0 in /usr/local/lib/python3.12/dist-packages (from transformers>=3.5.0->spuco) (0.36.0)\n",
            "Requirement already satisfied: pyyaml>=5.1 in /usr/local/lib/python3.12/dist-packages (from transformers>=3.5.0->spuco) (6.0.3)\n",
            "Requirement already satisfied: regex!=2019.12.17 in /usr/local/lib/python3.12/dist-packages (from transformers>=3.5.0->spuco) (2024.11.6)\n",
            "Requirement already satisfied: requests in /usr/local/lib/python3.12/dist-packages (from transformers>=3.5.0->spuco) (2.32.4)\n",
            "Requirement already satisfied: tokenizers<=0.23.0,>=0.22.0 in /usr/local/lib/python3.12/dist-packages (from transformers>=3.5.0->spuco) (0.22.1)\n",
            "Requirement already satisfied: safetensors>=0.4.3 in /usr/local/lib/python3.12/dist-packages (from transformers>=3.5.0->spuco) (0.6.2)\n",
            "Requirement already satisfied: numba>=0.51.2 in /usr/local/lib/python3.12/dist-packages (from umap-learn>=0.5.5->spuco) (0.60.0)\n",
            "Requirement already satisfied: pynndescent>=0.5 in /usr/local/lib/python3.12/dist-packages (from umap-learn>=0.5.5->spuco) (0.5.13)\n",
            "Requirement already satisfied: ogb>=1.2.6 in /usr/local/lib/python3.12/dist-packages (from wilds>=2.0.0->spuco) (1.3.6)\n",
            "Requirement already satisfied: outdated>=0.2.0 in /usr/local/lib/python3.12/dist-packages (from wilds>=2.0.0->spuco) (0.2.2)\n",
            "Requirement already satisfied: pandas>=1.1.0 in /usr/local/lib/python3.12/dist-packages (from wilds>=2.0.0->spuco) (2.2.2)\n",
            "Requirement already satisfied: pytz>=2020.4 in /usr/local/lib/python3.12/dist-packages (from wilds>=2.0.0->spuco) (2025.2)\n",
            "Requirement already satisfied: hf-xet<2.0.0,>=1.1.3 in /usr/local/lib/python3.12/dist-packages (from huggingface-hub<1.0,>=0.34.0->transformers>=3.5.0->spuco) (1.2.0)\n",
            "Requirement already satisfied: llvmlite<0.44,>=0.43.0dev0 in /usr/local/lib/python3.12/dist-packages (from numba>=0.51.2->umap-learn>=0.5.5->spuco) (0.43.0)\n",
            "Requirement already satisfied: six>=1.12.0 in /usr/local/lib/python3.12/dist-packages (from ogb>=1.2.6->wilds>=2.0.0->spuco) (1.17.0)\n",
            "Requirement already satisfied: urllib3>=1.24.0 in /usr/local/lib/python3.12/dist-packages (from ogb>=1.2.6->wilds>=2.0.0->spuco) (2.5.0)\n",
            "Requirement already satisfied: littleutils in /usr/local/lib/python3.12/dist-packages (from outdated>=0.2.0->wilds>=2.0.0->spuco) (0.2.4)\n",
            "Requirement already satisfied: tzdata>=2022.7 in /usr/local/lib/python3.12/dist-packages (from pandas>=1.1.0->wilds>=2.0.0->spuco) (2025.2)\n",
            "Requirement already satisfied: mpmath<1.4,>=1.1.0 in /usr/local/lib/python3.12/dist-packages (from sympy>=1.13.3->torch>=2.0.0->spuco) (1.3.0)\n",
            "Requirement already satisfied: MarkupSafe>=2.0 in /usr/local/lib/python3.12/dist-packages (from jinja2->torch>=2.0.0->spuco) (3.0.3)\n",
            "Requirement already satisfied: charset_normalizer<4,>=2 in /usr/local/lib/python3.12/dist-packages (from requests->transformers>=3.5.0->spuco) (3.4.4)\n",
            "Requirement already satisfied: idna<4,>=2.5 in /usr/local/lib/python3.12/dist-packages (from requests->transformers>=3.5.0->spuco) (3.11)\n",
            "Requirement already satisfied: certifi>=2017.4.17 in /usr/local/lib/python3.12/dist-packages (from requests->transformers>=3.5.0->spuco) (2025.10.5)\n"
          ]
        }
      ]
    },
    {
      "cell_type": "code",
      "source": [
        "# !pip install triton==3.2.0\n",
        "# I ran into errors importing SpuCo package so installed an earlier version of triton"
      ],
      "metadata": {
        "id": "GWTh2shxtv-P"
      },
      "execution_count": null,
      "outputs": []
    },
    {
      "cell_type": "markdown",
      "source": [
        "**1. Train a model using ERM**"
      ],
      "metadata": {
        "id": "zvC1Cmd51Fs2"
      }
    },
    {
      "cell_type": "code",
      "execution_count": null,
      "metadata": {
        "id": "5OOvxi_xuNeg"
      },
      "outputs": [],
      "source": [
        "from spuco.datasets import SpuCoMNIST\n",
        "from spuco.datasets.base_spuco_dataset import SpuriousFeatureDifficulty\n",
        "import torchvision.transforms as T\n",
        "\n",
        "\n",
        "# default parameters\n",
        "trainset = SpuCoMNIST(\n",
        "    root=\"/data/mnist/\",\n",
        "    spurious_feature_difficulty=SpuriousFeatureDifficulty.MAGNITUDE_LARGE,\n",
        "    spurious_correlation_strength=0.995,\n",
        "        # high correlation strength since we are trying to test these methods on datasets with minority subclasses\n",
        "    classes=[[0,1],[2,3],[4,5], [6,7],[8,9]], # superclasses\n",
        "    split=\"train\"\n",
        ")\n",
        "trainset.initialize()\n",
        "\n",
        "testset = SpuCoMNIST(\n",
        "    root=\"/data/mnist/\",\n",
        "    spurious_feature_difficulty=SpuriousFeatureDifficulty.MAGNITUDE_LARGE,\n",
        "    classes=[[0,1],[2,3],[4,5], [6,7],[8,9]],\n",
        "    split=\"test\"\n",
        ")\n",
        "testset.initialize()\n"
      ]
    },
    {
      "cell_type": "code",
      "source": [
        "T.ToPILImage()(trainset[19000][0]).resize((28,28))\n",
        "# we see that the colored background is the spurious feature"
      ],
      "metadata": {
        "colab": {
          "base_uri": "https://localhost:8080/",
          "height": 45
        },
        "id": "xqxx4IZOUfDu",
        "outputId": "264ef8df-c29a-4555-b528-3402122295b4"
      },
      "execution_count": null,
      "outputs": [
        {
          "output_type": "execute_result",
          "data": {
            "text/plain": [
              "<PIL.Image.Image image mode=RGB size=28x28>"
            ],
            "image/png": "[encoded data removed]",
            "image/jpeg": "[encoded data removed]"
          },
          "metadata": {},
          "execution_count": 34
        }
      ]
    },
    {
      "cell_type": "code",
      "source": [
        "trainset[0][0]"
      ],
      "metadata": {
        "colab": {
          "base_uri": "https://localhost:8080/"
        },
        "id": "a21jt7vAW4Lm",
        "outputId": "6d9c6fb6-2179-49bb-f794-d88ddb0d5e8c"
      },
      "execution_count": null,
      "outputs": [
        {
          "output_type": "execute_result",
          "data": {
            "text/plain": [
              "tensor([[[0.0000, 0.0000, 0.0000,  ..., 0.0000, 0.0000, 0.0000],\n",
              "         [0.0000, 0.0000, 0.0000,  ..., 0.0000, 0.0000, 0.0000],\n",
              "         [0.0000, 0.0000, 0.0000,  ..., 0.0000, 0.0000, 0.0000],\n",
              "         ...,\n",
              "         [0.0000, 0.0000, 0.0000,  ..., 0.0000, 0.0000, 0.0000],\n",
              "         [0.0000, 0.0000, 0.0000,  ..., 0.0000, 0.0000, 0.0000],\n",
              "         [0.0000, 0.0000, 0.0000,  ..., 0.0000, 0.0000, 0.0000]],\n",
              "\n",
              "        [[1.0000, 1.0000, 1.0000,  ..., 1.0000, 1.0000, 1.0000],\n",
              "         [1.0000, 1.0000, 1.0000,  ..., 1.0000, 1.0000, 1.0000],\n",
              "         [1.0000, 1.0000, 1.0000,  ..., 1.0000, 1.0000, 1.0000],\n",
              "         ...,\n",
              "         [1.0000, 1.0000, 1.0000,  ..., 1.0000, 1.0000, 1.0000],\n",
              "         [1.0000, 1.0000, 1.0000,  ..., 1.0000, 1.0000, 1.0000],\n",
              "         [1.0000, 1.0000, 1.0000,  ..., 1.0000, 1.0000, 1.0000]],\n",
              "\n",
              "        [[0.3625, 0.3625, 0.3625,  ..., 0.3625, 0.3625, 0.3625],\n",
              "         [0.3625, 0.3625, 0.3625,  ..., 0.3625, 0.3625, 0.3625],\n",
              "         [0.3625, 0.3625, 0.3625,  ..., 0.3625, 0.3625, 0.3625],\n",
              "         ...,\n",
              "         [0.3625, 0.3625, 0.3625,  ..., 0.3625, 0.3625, 0.3625],\n",
              "         [0.3625, 0.3625, 0.3625,  ..., 0.3625, 0.3625, 0.3625],\n",
              "         [0.3625, 0.3625, 0.3625,  ..., 0.3625, 0.3625, 0.3625]]])"
            ]
          },
          "metadata": {},
          "execution_count": 35
        }
      ]
    },
    {
      "cell_type": "code",
      "source": [
        "from spuco.robust_train import ERM\n",
        "import torch.nn as nn\n",
        "import torch.nn.functional as F\n",
        "from spuco.models import model_factory\n",
        "\n",
        "# first tried with FFNN but switched to lenet after clustering did not yield clusters that captured the spurious features\n",
        "\n",
        "# class Net(nn.Module):\n",
        "#     def __init__(self):\n",
        "#         super(Net, self).__init__()\n",
        "#         self.fc1 = nn.Linear(28 * 28 * 3, 256)  # input layer (flattened 28x28 pixel image with 3-color channel)\n",
        "#         self.fc2 = nn.Linear(256, 128)      # hidden layer\n",
        "#         self.fc3 = nn.Linear(128, 5)       # output layer (5 classes for the 5 superclasses)\n",
        "\n",
        "#     def forward(self, x):\n",
        "#         x = x.view(-1, 28 * 28 * 3)  # flatten the image into 28 * 28 * 3 element vector\n",
        "#         x = F.relu(self.fc1(x)) # relu for introducing nonlinearity\n",
        "#         x = F.relu(self.fc2(x))\n",
        "#         x = self.fc3(x)\n",
        "#         return x # no softmax since we are going to use this output for clustering\n",
        "\n",
        "# model = Net()"
      ],
      "metadata": {
        "id": "YR_lmP5h1QOj"
      },
      "execution_count": null,
      "outputs": []
    },
    {
      "cell_type": "code",
      "source": [
        "import torch.optim as optim\n",
        "\n",
        "model = model_factory('lenet', trainset[0][0].shape, trainset.num_classes)\n",
        "\n",
        "optimizer = optim.Adam(model.parameters(), lr=0.001) # Adam optimizer\n",
        "\n",
        "erm = ERM(\n",
        "    model = model,\n",
        "    trainset = trainset,\n",
        "    batch_size = 64,\n",
        "    optimizer = optimizer,\n",
        "    num_epochs = 1,\n",
        "    device = \"cpu\",\n",
        "    verbose = True\n",
        ")"
      ],
      "metadata": {
        "colab": {
          "base_uri": "https://localhost:8080/"
        },
        "id": "KhDxghC0ZPt7",
        "outputId": "bbffcc9d-014a-4a6d-98a7-46c2717d8115"
      },
      "execution_count": null,
      "outputs": [
        {
          "output_type": "stream",
          "name": "stderr",
          "text": [
            "/usr/local/lib/python3.12/dist-packages/torch/utils/data/dataloader.py:627: UserWarning: This DataLoader will create 4 worker processes in total. Our suggested max number of worker in current system is 2, which is smaller than what this DataLoader is going to create. Please be aware that excessive worker creation might get DataLoader running slow or even freeze, lower the worker number to avoid potential slowness/freeze if necessary.\n",
            "  warnings.warn(\n"
          ]
        }
      ]
    },
    {
      "cell_type": "code",
      "source": [
        "erm.train()"
      ],
      "metadata": {
        "colab": {
          "base_uri": "https://localhost:8080/"
        },
        "id": "_HleCPJVajyT",
        "outputId": "98d740f4-dacc-4552-f7c8-4f0308de4485"
      },
      "execution_count": null,
      "outputs": [
        {
          "output_type": "stream",
          "name": "stderr",
          "text": [
            "Epoch 0:   0%|          | 0/751 [00:00<?, ?batch/s]/usr/local/lib/python3.12/dist-packages/torch/utils/data/dataloader.py:666: UserWarning: 'pin_memory' argument is set as true but no accelerator is found, then device pinned memory won't be used.\n",
            "  warnings.warn(warn_msg)\n",
            "Epoch 0:   1%|          | 6/751 [00:00<00:39, 18.70batch/s, accuracy=64.0625%, loss=1.46]"
          ]
        },
        {
          "output_type": "stream",
          "name": "stdout",
          "text": [
            "ERM | Epoch 0 | Loss: 1.617039442062378 | Accuracy: 25.0%\n",
            "ERM | Epoch 0 | Loss: 1.6198195219039917 | Accuracy: 12.5%\n",
            "ERM | Epoch 0 | Loss: 1.6000875234603882 | Accuracy: 20.3125%\n",
            "ERM | Epoch 0 | Loss: 1.5937166213989258 | Accuracy: 17.1875%\n",
            "ERM | Epoch 0 | Loss: 1.5729663372039795 | Accuracy: 28.125%\n",
            "ERM | Epoch 0 | Loss: 1.579785943031311 | Accuracy: 14.0625%\n",
            "ERM | Epoch 0 | Loss: 1.5661741495132446 | Accuracy: 20.3125%\n",
            "ERM | Epoch 0 | Loss: 1.55601167678833 | Accuracy: 28.125%\n",
            "ERM | Epoch 0 | Loss: 1.508431315422058 | Accuracy: 48.4375%\n",
            "ERM | Epoch 0 | Loss: 1.4616222381591797 | Accuracy: 64.0625%\n"
          ]
        },
        {
          "output_type": "stream",
          "name": "stderr",
          "text": [
            "Epoch 0:   2%|▏         | 15/751 [00:00<00:23, 30.82batch/s, accuracy=68.75%, loss=0.784]"
          ]
        },
        {
          "output_type": "stream",
          "name": "stdout",
          "text": [
            "ERM | Epoch 0 | Loss: 1.4255963563919067 | Accuracy: 59.375%\n",
            "ERM | Epoch 0 | Loss: 1.3774404525756836 | Accuracy: 57.8125%\n",
            "ERM | Epoch 0 | Loss: 1.2933591604232788 | Accuracy: 59.375%\n",
            "ERM | Epoch 0 | Loss: 1.2227082252502441 | Accuracy: 64.0625%\n",
            "ERM | Epoch 0 | Loss: 1.1701159477233887 | Accuracy: 57.8125%\n",
            "ERM | Epoch 0 | Loss: 1.1078497171401978 | Accuracy: 53.125%\n",
            "ERM | Epoch 0 | Loss: 0.9932467937469482 | Accuracy: 45.3125%\n",
            "ERM | Epoch 0 | Loss: 0.9066041111946106 | Accuracy: 43.75%\n",
            "ERM | Epoch 0 | Loss: 0.7841891646385193 | Accuracy: 68.75%\n"
          ]
        },
        {
          "output_type": "stream",
          "name": "stderr",
          "text": [
            "Epoch 0:   3%|▎         | 25/751 [00:00<00:18, 38.26batch/s, accuracy=98.4375%, loss=0.201]"
          ]
        },
        {
          "output_type": "stream",
          "name": "stdout",
          "text": [
            "ERM | Epoch 0 | Loss: 0.7966377139091492 | Accuracy: 78.125%\n",
            "ERM | Epoch 0 | Loss: 0.6730702519416809 | Accuracy: 79.6875%\n",
            "ERM | Epoch 0 | Loss: 0.5802975296974182 | Accuracy: 98.4375%\n",
            "ERM | Epoch 0 | Loss: 0.5193635821342468 | Accuracy: 93.75%\n",
            "ERM | Epoch 0 | Loss: 0.5438257455825806 | Accuracy: 87.5%\n",
            "ERM | Epoch 0 | Loss: 0.41352543234825134 | Accuracy: 95.3125%\n",
            "ERM | Epoch 0 | Loss: 0.3450583517551422 | Accuracy: 90.625%\n",
            "ERM | Epoch 0 | Loss: 0.28561657667160034 | Accuracy: 96.875%\n",
            "ERM | Epoch 0 | Loss: 0.2934664487838745 | Accuracy: 95.3125%\n",
            "ERM | Epoch 0 | Loss: 0.2010461986064911 | Accuracy: 98.4375%\n"
          ]
        },
        {
          "output_type": "stream",
          "name": "stderr",
          "text": [
            "Epoch 0:   5%|▍         | 35/751 [00:01<00:16, 42.30batch/s, accuracy=100.0%, loss=0.0315]"
          ]
        },
        {
          "output_type": "stream",
          "name": "stdout",
          "text": [
            "ERM | Epoch 0 | Loss: 0.2912217676639557 | Accuracy: 90.625%\n",
            "ERM | Epoch 0 | Loss: 0.20542806386947632 | Accuracy: 95.3125%\n",
            "ERM | Epoch 0 | Loss: 0.14080803096294403 | Accuracy: 100.0%\n",
            "ERM | Epoch 0 | Loss: 0.19124075770378113 | Accuracy: 96.875%\n",
            "ERM | Epoch 0 | Loss: 0.1336943805217743 | Accuracy: 100.0%\n",
            "ERM | Epoch 0 | Loss: 0.09114860743284225 | Accuracy: 98.4375%\n",
            "ERM | Epoch 0 | Loss: 0.07720334827899933 | Accuracy: 98.4375%\n",
            "ERM | Epoch 0 | Loss: 0.37852126359939575 | Accuracy: 93.75%\n",
            "ERM | Epoch 0 | Loss: 0.19131477177143097 | Accuracy: 93.75%\n",
            "ERM | Epoch 0 | Loss: 0.031543295830488205 | Accuracy: 100.0%\n"
          ]
        },
        {
          "output_type": "stream",
          "name": "stderr",
          "text": [
            "Epoch 0:   6%|▌         | 45/751 [00:01<00:15, 44.62batch/s, accuracy=98.4375%, loss=0.32]"
          ]
        },
        {
          "output_type": "stream",
          "name": "stdout",
          "text": [
            "ERM | Epoch 0 | Loss: 0.06451205909252167 | Accuracy: 98.4375%\n",
            "ERM | Epoch 0 | Loss: 0.07782010734081268 | Accuracy: 98.4375%\n",
            "ERM | Epoch 0 | Loss: 0.12161566317081451 | Accuracy: 98.4375%\n",
            "ERM | Epoch 0 | Loss: 0.03753877431154251 | Accuracy: 98.4375%\n",
            "ERM | Epoch 0 | Loss: 0.02693471685051918 | Accuracy: 100.0%\n",
            "ERM | Epoch 0 | Loss: 0.12039687484502792 | Accuracy: 96.875%\n",
            "ERM | Epoch 0 | Loss: 0.06777544319629669 | Accuracy: 96.875%\n",
            "ERM | Epoch 0 | Loss: 0.19787274301052094 | Accuracy: 93.75%\n",
            "ERM | Epoch 0 | Loss: 0.013844775035977364 | Accuracy: 100.0%\n",
            "ERM | Epoch 0 | Loss: 0.32005369663238525 | Accuracy: 98.4375%\n"
          ]
        },
        {
          "output_type": "stream",
          "name": "stderr",
          "text": [
            "Epoch 0:   7%|▋         | 55/751 [00:01<00:14, 46.43batch/s, accuracy=100.0%, loss=0.00654]"
          ]
        },
        {
          "output_type": "stream",
          "name": "stdout",
          "text": [
            "ERM | Epoch 0 | Loss: 0.04174641892313957 | Accuracy: 100.0%\n",
            "ERM | Epoch 0 | Loss: 0.03593437746167183 | Accuracy: 98.4375%\n",
            "ERM | Epoch 0 | Loss: 0.010674833320081234 | Accuracy: 100.0%\n",
            "ERM | Epoch 0 | Loss: 0.016451524570584297 | Accuracy: 100.0%\n",
            "ERM | Epoch 0 | Loss: 0.025073494762182236 | Accuracy: 100.0%\n",
            "ERM | Epoch 0 | Loss: 0.016640789806842804 | Accuracy: 100.0%\n",
            "ERM | Epoch 0 | Loss: 0.02553153783082962 | Accuracy: 98.4375%\n",
            "ERM | Epoch 0 | Loss: 0.012416336685419083 | Accuracy: 100.0%\n",
            "ERM | Epoch 0 | Loss: 0.00782949198037386 | Accuracy: 100.0%\n"
          ]
        },
        {
          "output_type": "stream",
          "name": "stderr",
          "text": [
            "Epoch 0:   8%|▊         | 60/751 [00:01<00:16, 42.11batch/s, accuracy=100.0%, loss=0.0118]"
          ]
        },
        {
          "output_type": "stream",
          "name": "stdout",
          "text": [
            "ERM | Epoch 0 | Loss: 0.006542842835187912 | Accuracy: 100.0%\n",
            "ERM | Epoch 0 | Loss: 0.008070291951298714 | Accuracy: 100.0%\n",
            "ERM | Epoch 0 | Loss: 0.9930415749549866 | Accuracy: 95.3125%\n",
            "ERM | Epoch 0 | Loss: 0.010410245507955551 | Accuracy: 100.0%\n",
            "ERM | Epoch 0 | Loss: 0.018029307946562767 | Accuracy: 100.0%\n",
            "ERM | Epoch 0 | Loss: 0.011802171356976032 | Accuracy: 100.0%\n"
          ]
        },
        {
          "output_type": "stream",
          "name": "stderr",
          "text": [
            "Epoch 0:   9%|▉         | 69/751 [00:01<00:19, 34.73batch/s, accuracy=100.0%, loss=0.0172] "
          ]
        },
        {
          "output_type": "stream",
          "name": "stdout",
          "text": [
            "ERM | Epoch 0 | Loss: 0.005884366575628519 | Accuracy: 100.0%\n",
            "ERM | Epoch 0 | Loss: 0.004015604965388775 | Accuracy: 100.0%\n",
            "ERM | Epoch 0 | Loss: 0.004309224896132946 | Accuracy: 100.0%\n",
            "ERM | Epoch 0 | Loss: 0.002733170986175537 | Accuracy: 100.0%\n",
            "ERM | Epoch 0 | Loss: 0.008091961964964867 | Accuracy: 100.0%\n",
            "ERM | Epoch 0 | Loss: 0.0037166874390095472 | Accuracy: 100.0%\n",
            "ERM | Epoch 0 | Loss: 0.01715671643614769 | Accuracy: 100.0%\n"
          ]
        },
        {
          "output_type": "stream",
          "name": "stderr",
          "text": [
            "Epoch 0:  10%|█         | 77/751 [00:02<00:20, 32.17batch/s, accuracy=98.4375%, loss=0.309]"
          ]
        },
        {
          "output_type": "stream",
          "name": "stdout",
          "text": [
            "ERM | Epoch 0 | Loss: 0.0807579830288887 | Accuracy: 98.4375%\n",
            "ERM | Epoch 0 | Loss: 0.46372276544570923 | Accuracy: 96.875%\n",
            "ERM | Epoch 0 | Loss: 0.032100383192300797 | Accuracy: 100.0%\n",
            "ERM | Epoch 0 | Loss: 0.01800740510225296 | Accuracy: 100.0%\n",
            "ERM | Epoch 0 | Loss: 0.0572807714343071 | Accuracy: 98.4375%\n",
            "ERM | Epoch 0 | Loss: 0.2624981701374054 | Accuracy: 98.4375%\n",
            "ERM | Epoch 0 | Loss: 0.30901533365249634 | Accuracy: 98.4375%\n"
          ]
        },
        {
          "output_type": "stream",
          "name": "stderr",
          "text": [
            "Epoch 0:  11%|█         | 81/751 [00:02<00:20, 31.91batch/s, accuracy=98.4375%, loss=0.378]"
          ]
        },
        {
          "output_type": "stream",
          "name": "stdout",
          "text": [
            "ERM | Epoch 0 | Loss: 0.14823167026042938 | Accuracy: 98.4375%\n",
            "ERM | Epoch 0 | Loss: 0.11825452744960785 | Accuracy: 98.4375%\n",
            "ERM | Epoch 0 | Loss: 0.7548460364341736 | Accuracy: 96.875%\n",
            "ERM | Epoch 0 | Loss: 0.00965270958840847 | Accuracy: 100.0%\n",
            "ERM | Epoch 0 | Loss: 0.011159888468682766 | Accuracy: 100.0%\n",
            "ERM | Epoch 0 | Loss: 0.3782564699649811 | Accuracy: 98.4375%\n"
          ]
        },
        {
          "output_type": "stream",
          "name": "stderr",
          "text": [
            "Epoch 0:  12%|█▏        | 89/751 [00:02<00:21, 30.25batch/s, accuracy=100.0%, loss=0.0157] "
          ]
        },
        {
          "output_type": "stream",
          "name": "stdout",
          "text": [
            "ERM | Epoch 0 | Loss: 0.0076362662948668 | Accuracy: 100.0%\n",
            "ERM | Epoch 0 | Loss: 0.009589659981429577 | Accuracy: 100.0%\n",
            "ERM | Epoch 0 | Loss: 0.008826671168208122 | Accuracy: 100.0%\n",
            "ERM | Epoch 0 | Loss: 0.011595240794122219 | Accuracy: 100.0%\n",
            "ERM | Epoch 0 | Loss: 0.4774986803531647 | Accuracy: 95.3125%\n",
            "ERM | Epoch 0 | Loss: 0.015740200877189636 | Accuracy: 100.0%\n"
          ]
        },
        {
          "output_type": "stream",
          "name": "stderr",
          "text": [
            "Epoch 0:  13%|█▎        | 96/751 [00:02<00:22, 28.95batch/s, accuracy=100.0%, loss=0.0138]"
          ]
        },
        {
          "output_type": "stream",
          "name": "stdout",
          "text": [
            "ERM | Epoch 0 | Loss: 0.013033769093453884 | Accuracy: 100.0%\n",
            "ERM | Epoch 0 | Loss: 0.07176541537046432 | Accuracy: 98.4375%\n",
            "ERM | Epoch 0 | Loss: 0.012851910665631294 | Accuracy: 100.0%\n",
            "ERM | Epoch 0 | Loss: 0.10899870842695236 | Accuracy: 98.4375%\n",
            "ERM | Epoch 0 | Loss: 0.2622622549533844 | Accuracy: 96.875%\n",
            "ERM | Epoch 0 | Loss: 0.013791210018098354 | Accuracy: 100.0%\n"
          ]
        },
        {
          "output_type": "stream",
          "name": "stderr",
          "text": [
            "Epoch 0:  14%|█▎        | 102/751 [00:03<00:22, 29.04batch/s, accuracy=98.4375%, loss=0.098]"
          ]
        },
        {
          "output_type": "stream",
          "name": "stdout",
          "text": [
            "ERM | Epoch 0 | Loss: 0.11981381475925446 | Accuracy: 98.4375%\n",
            "ERM | Epoch 0 | Loss: 0.01644500158727169 | Accuracy: 100.0%\n",
            "ERM | Epoch 0 | Loss: 0.012989954091608524 | Accuracy: 100.0%\n",
            "ERM | Epoch 0 | Loss: 0.015366846695542336 | Accuracy: 100.0%\n",
            "ERM | Epoch 0 | Loss: 0.012912994250655174 | Accuracy: 100.0%\n",
            "ERM | Epoch 0 | Loss: 0.1989453285932541 | Accuracy: 96.875%\n"
          ]
        },
        {
          "output_type": "stream",
          "name": "stderr",
          "text": [
            "Epoch 0:  15%|█▍        | 109/751 [00:03<00:21, 29.58batch/s, accuracy=100.0%, loss=0.00859]"
          ]
        },
        {
          "output_type": "stream",
          "name": "stdout",
          "text": [
            "ERM | Epoch 0 | Loss: 0.098011314868927 | Accuracy: 98.4375%\n",
            "ERM | Epoch 0 | Loss: 0.011668006889522076 | Accuracy: 100.0%\n",
            "ERM | Epoch 0 | Loss: 0.008548072539269924 | Accuracy: 100.0%\n",
            "ERM | Epoch 0 | Loss: 0.009241152554750443 | Accuracy: 100.0%\n",
            "ERM | Epoch 0 | Loss: 0.12621283531188965 | Accuracy: 98.4375%\n",
            "ERM | Epoch 0 | Loss: 0.011554036289453506 | Accuracy: 100.0%\n",
            "ERM | Epoch 0 | Loss: 0.008585002273321152 | Accuracy: 100.0%\n"
          ]
        },
        {
          "output_type": "stream",
          "name": "stderr",
          "text": [
            "Epoch 0:  15%|█▌        | 116/751 [00:03<00:21, 30.03batch/s, accuracy=100.0%, loss=0.00912]"
          ]
        },
        {
          "output_type": "stream",
          "name": "stdout",
          "text": [
            "ERM | Epoch 0 | Loss: 0.1865304559469223 | Accuracy: 98.4375%\n",
            "ERM | Epoch 0 | Loss: 0.11088789999485016 | Accuracy: 98.4375%\n",
            "ERM | Epoch 0 | Loss: 0.012131460011005402 | Accuracy: 100.0%\n",
            "ERM | Epoch 0 | Loss: 0.0891185998916626 | Accuracy: 98.4375%\n",
            "ERM | Epoch 0 | Loss: 0.008502800948917866 | Accuracy: 100.0%\n",
            "ERM | Epoch 0 | Loss: 0.00843123346567154 | Accuracy: 100.0%\n",
            "ERM | Epoch 0 | Loss: 0.009120446629822254 | Accuracy: 100.0%\n"
          ]
        },
        {
          "output_type": "stream",
          "name": "stderr",
          "text": [
            "Epoch 0:  16%|█▌        | 122/751 [00:03<00:21, 29.65batch/s, accuracy=100.0%, loss=0.00587]"
          ]
        },
        {
          "output_type": "stream",
          "name": "stdout",
          "text": [
            "ERM | Epoch 0 | Loss: 0.012302609160542488 | Accuracy: 100.0%\n",
            "ERM | Epoch 0 | Loss: 0.009295840747654438 | Accuracy: 100.0%\n",
            "ERM | Epoch 0 | Loss: 0.008043847046792507 | Accuracy: 100.0%\n",
            "ERM | Epoch 0 | Loss: 0.009138396009802818 | Accuracy: 100.0%\n",
            "ERM | Epoch 0 | Loss: 0.11649731546640396 | Accuracy: 98.4375%\n",
            "ERM | Epoch 0 | Loss: 0.07698117941617966 | Accuracy: 98.4375%\n"
          ]
        },
        {
          "output_type": "stream",
          "name": "stderr",
          "text": [
            "Epoch 0:  17%|█▋        | 128/751 [00:03<00:22, 28.19batch/s, accuracy=100.0%, loss=0.00837]"
          ]
        },
        {
          "output_type": "stream",
          "name": "stdout",
          "text": [
            "ERM | Epoch 0 | Loss: 0.005866940598934889 | Accuracy: 100.0%\n",
            "ERM | Epoch 0 | Loss: 0.0059762983582913876 | Accuracy: 100.0%\n",
            "ERM | Epoch 0 | Loss: 0.08881162852048874 | Accuracy: 98.4375%\n",
            "ERM | Epoch 0 | Loss: 0.010180055163800716 | Accuracy: 100.0%\n",
            "ERM | Epoch 0 | Loss: 0.2466706484556198 | Accuracy: 98.4375%\n",
            "ERM | Epoch 0 | Loss: 0.008366651833057404 | Accuracy: 100.0%\n"
          ]
        },
        {
          "output_type": "stream",
          "name": "stderr",
          "text": [
            "Epoch 0:  18%|█▊        | 134/751 [00:04<00:21, 28.26batch/s, accuracy=100.0%, loss=0.00808]"
          ]
        },
        {
          "output_type": "stream",
          "name": "stdout",
          "text": [
            "ERM | Epoch 0 | Loss: 0.0075072250328958035 | Accuracy: 100.0%\n",
            "ERM | Epoch 0 | Loss: 0.006887486204504967 | Accuracy: 100.0%\n",
            "ERM | Epoch 0 | Loss: 0.1801559180021286 | Accuracy: 98.4375%\n",
            "ERM | Epoch 0 | Loss: 0.004827537573873997 | Accuracy: 100.0%\n",
            "ERM | Epoch 0 | Loss: 0.10597274452447891 | Accuracy: 98.4375%\n",
            "ERM | Epoch 0 | Loss: 0.008077646605670452 | Accuracy: 100.0%\n"
          ]
        },
        {
          "output_type": "stream",
          "name": "stderr",
          "text": [
            "Epoch 0:  19%|█▊        | 140/751 [00:04<00:22, 27.72batch/s, accuracy=100.0%, loss=0.0055]"
          ]
        },
        {
          "output_type": "stream",
          "name": "stdout",
          "text": [
            "ERM | Epoch 0 | Loss: 0.00762044545263052 | Accuracy: 100.0%\n",
            "ERM | Epoch 0 | Loss: 0.005987958982586861 | Accuracy: 100.0%\n",
            "ERM | Epoch 0 | Loss: 0.007004925049841404 | Accuracy: 100.0%\n",
            "ERM | Epoch 0 | Loss: 0.007372226100414991 | Accuracy: 100.0%\n",
            "ERM | Epoch 0 | Loss: 0.004984712693840265 | Accuracy: 100.0%\n",
            "ERM | Epoch 0 | Loss: 0.005497699603438377 | Accuracy: 100.0%\n"
          ]
        },
        {
          "output_type": "stream",
          "name": "stderr",
          "text": [
            "Epoch 0:  19%|█▉        | 146/751 [00:04<00:21, 28.25batch/s, accuracy=100.0%, loss=0.00248]"
          ]
        },
        {
          "output_type": "stream",
          "name": "stdout",
          "text": [
            "ERM | Epoch 0 | Loss: 0.00423525832593441 | Accuracy: 100.0%\n",
            "ERM | Epoch 0 | Loss: 0.00490947300568223 | Accuracy: 100.0%\n",
            "ERM | Epoch 0 | Loss: 0.004171302076429129 | Accuracy: 100.0%\n",
            "ERM | Epoch 0 | Loss: 0.0030629411339759827 | Accuracy: 100.0%\n",
            "ERM | Epoch 0 | Loss: 0.002495299559086561 | Accuracy: 100.0%\n",
            "ERM | Epoch 0 | Loss: 0.0029414030723273754 | Accuracy: 100.0%\n"
          ]
        },
        {
          "output_type": "stream",
          "name": "stderr",
          "text": [
            "Epoch 0:  20%|██        | 152/751 [00:04<00:21, 28.34batch/s, accuracy=100.0%, loss=0.00195]"
          ]
        },
        {
          "output_type": "stream",
          "name": "stdout",
          "text": [
            "ERM | Epoch 0 | Loss: 0.0024829849135130644 | Accuracy: 100.0%\n",
            "ERM | Epoch 0 | Loss: 0.0025446931831538677 | Accuracy: 100.0%\n",
            "ERM | Epoch 0 | Loss: 0.0026756057050079107 | Accuracy: 100.0%\n",
            "ERM | Epoch 0 | Loss: 0.0027843602001667023 | Accuracy: 100.0%\n",
            "ERM | Epoch 0 | Loss: 0.0023064161650836468 | Accuracy: 100.0%\n",
            "ERM | Epoch 0 | Loss: 0.0019475051667541265 | Accuracy: 100.0%\n"
          ]
        },
        {
          "output_type": "stream",
          "name": "stderr",
          "text": [
            "Epoch 0:  21%|██        | 158/751 [00:05<00:21, 27.09batch/s, accuracy=98.4375%, loss=0.19]"
          ]
        },
        {
          "output_type": "stream",
          "name": "stdout",
          "text": [
            "ERM | Epoch 0 | Loss: 0.001766045461408794 | Accuracy: 100.0%\n",
            "ERM | Epoch 0 | Loss: 0.0018071354134008288 | Accuracy: 100.0%\n",
            "ERM | Epoch 0 | Loss: 0.0018055374966934323 | Accuracy: 100.0%\n",
            "ERM | Epoch 0 | Loss: 0.0016299759736284614 | Accuracy: 100.0%\n",
            "ERM | Epoch 0 | Loss: 0.0016168636502698064 | Accuracy: 100.0%\n",
            "ERM | Epoch 0 | Loss: 0.19048090279102325 | Accuracy: 98.4375%\n"
          ]
        },
        {
          "output_type": "stream",
          "name": "stderr",
          "text": [
            "Epoch 0:  22%|██▏       | 164/751 [00:05<00:21, 27.54batch/s, accuracy=100.0%, loss=0.00672]"
          ]
        },
        {
          "output_type": "stream",
          "name": "stdout",
          "text": [
            "ERM | Epoch 0 | Loss: 0.117454394698143 | Accuracy: 98.4375%\n",
            "ERM | Epoch 0 | Loss: 0.002287458861246705 | Accuracy: 100.0%\n",
            "ERM | Epoch 0 | Loss: 0.0055121006444096565 | Accuracy: 100.0%\n",
            "ERM | Epoch 0 | Loss: 0.018590809777379036 | Accuracy: 100.0%\n",
            "ERM | Epoch 0 | Loss: 0.06533384323120117 | Accuracy: 98.4375%\n",
            "ERM | Epoch 0 | Loss: 0.006722976453602314 | Accuracy: 100.0%\n"
          ]
        },
        {
          "output_type": "stream",
          "name": "stderr",
          "text": [
            "Epoch 0:  23%|██▎       | 174/751 [00:05<00:15, 36.24batch/s, accuracy=100.0%, loss=0.012]"
          ]
        },
        {
          "output_type": "stream",
          "name": "stdout",
          "text": [
            "ERM | Epoch 0 | Loss: 0.004475161898881197 | Accuracy: 100.0%\n",
            "ERM | Epoch 0 | Loss: 0.11563742160797119 | Accuracy: 98.4375%\n",
            "ERM | Epoch 0 | Loss: 0.0015799173852428794 | Accuracy: 100.0%\n",
            "ERM | Epoch 0 | Loss: 0.17371401190757751 | Accuracy: 98.4375%\n",
            "ERM | Epoch 0 | Loss: 0.1168142706155777 | Accuracy: 98.4375%\n",
            "ERM | Epoch 0 | Loss: 0.012232432141900063 | Accuracy: 100.0%\n",
            "ERM | Epoch 0 | Loss: 0.02347300387918949 | Accuracy: 100.0%\n",
            "ERM | Epoch 0 | Loss: 0.22088401019573212 | Accuracy: 98.4375%\n",
            "ERM | Epoch 0 | Loss: 0.10778827965259552 | Accuracy: 98.4375%\n",
            "ERM | Epoch 0 | Loss: 0.01198585331439972 | Accuracy: 100.0%\n"
          ]
        },
        {
          "output_type": "stream",
          "name": "stderr",
          "text": [
            "Epoch 0:  24%|██▍       | 179/751 [00:05<00:14, 38.77batch/s, accuracy=100.0%, loss=0.00393]"
          ]
        },
        {
          "output_type": "stream",
          "name": "stdout",
          "text": [
            "ERM | Epoch 0 | Loss: 0.016396591439843178 | Accuracy: 100.0%\n",
            "ERM | Epoch 0 | Loss: 0.006635245867073536 | Accuracy: 100.0%\n",
            "ERM | Epoch 0 | Loss: 0.004570068791508675 | Accuracy: 100.0%\n",
            "ERM | Epoch 0 | Loss: 0.0030821694526821375 | Accuracy: 100.0%\n",
            "ERM | Epoch 0 | Loss: 0.0022476408630609512 | Accuracy: 100.0%\n",
            "ERM | Epoch 0 | Loss: 0.11537784337997437 | Accuracy: 98.4375%\n",
            "ERM | Epoch 0 | Loss: 0.008987322449684143 | Accuracy: 100.0%\n",
            "ERM | Epoch 0 | Loss: 0.104115791618824 | Accuracy: 98.4375%\n",
            "ERM | Epoch 0 | Loss: 0.0036739050410687923 | Accuracy: 100.0%\n",
            "ERM | Epoch 0 | Loss: 0.0039305537939071655 | Accuracy: 100.0%\n"
          ]
        },
        {
          "output_type": "stream",
          "name": "stderr",
          "text": [
            "Epoch 0:  26%|██▌       | 194/751 [00:05<00:13, 42.64batch/s, accuracy=100.0%, loss=0.00557]"
          ]
        },
        {
          "output_type": "stream",
          "name": "stdout",
          "text": [
            "ERM | Epoch 0 | Loss: 0.004966739099472761 | Accuracy: 100.0%\n",
            "ERM | Epoch 0 | Loss: 0.005890286527574062 | Accuracy: 100.0%\n",
            "ERM | Epoch 0 | Loss: 0.004571140743792057 | Accuracy: 100.0%\n",
            "ERM | Epoch 0 | Loss: 0.004902415443211794 | Accuracy: 100.0%\n",
            "ERM | Epoch 0 | Loss: 0.13225671648979187 | Accuracy: 98.4375%\n",
            "ERM | Epoch 0 | Loss: 0.003965345211327076 | Accuracy: 100.0%\n",
            "ERM | Epoch 0 | Loss: 0.007836924865841866 | Accuracy: 100.0%\n",
            "ERM | Epoch 0 | Loss: 0.0036486168392002583 | Accuracy: 100.0%\n",
            "ERM | Epoch 0 | Loss: 0.004530031234025955 | Accuracy: 100.0%\n",
            "ERM | Epoch 0 | Loss: 0.005574217531830072 | Accuracy: 100.0%\n"
          ]
        },
        {
          "output_type": "stream",
          "name": "stderr",
          "text": [
            "Epoch 0:  26%|██▋       | 199/751 [00:06<00:13, 41.65batch/s, accuracy=98.4375%, loss=0.14] "
          ]
        },
        {
          "output_type": "stream",
          "name": "stdout",
          "text": [
            "ERM | Epoch 0 | Loss: 0.0024897425901144743 | Accuracy: 100.0%\n",
            "ERM | Epoch 0 | Loss: 0.13251163065433502 | Accuracy: 98.4375%\n",
            "ERM | Epoch 0 | Loss: 0.002547832205891609 | Accuracy: 100.0%\n",
            "ERM | Epoch 0 | Loss: 0.11440324783325195 | Accuracy: 98.4375%\n",
            "ERM | Epoch 0 | Loss: 0.13940143585205078 | Accuracy: 98.4375%\n",
            "ERM | Epoch 0 | Loss: 0.00341459596529603 | Accuracy: 100.0%\n",
            "ERM | Epoch 0 | Loss: 0.004299255553632975 | Accuracy: 100.0%\n",
            "ERM | Epoch 0 | Loss: 0.005744493566453457 | Accuracy: 100.0%\n",
            "ERM | Epoch 0 | Loss: 0.14018915593624115 | Accuracy: 98.4375%\n"
          ]
        },
        {
          "output_type": "stream",
          "name": "stderr",
          "text": [
            "Epoch 0:  28%|██▊       | 209/751 [00:06<00:12, 43.59batch/s, accuracy=100.0%, loss=0.00504]"
          ]
        },
        {
          "output_type": "stream",
          "name": "stdout",
          "text": [
            "ERM | Epoch 0 | Loss: 0.09156569093465805 | Accuracy: 98.4375%\n",
            "ERM | Epoch 0 | Loss: 0.24929893016815186 | Accuracy: 96.875%\n",
            "ERM | Epoch 0 | Loss: 0.24135731160640717 | Accuracy: 98.4375%\n",
            "ERM | Epoch 0 | Loss: 0.029509659856557846 | Accuracy: 100.0%\n",
            "ERM | Epoch 0 | Loss: 0.011786005459725857 | Accuracy: 100.0%\n",
            "ERM | Epoch 0 | Loss: 0.010380227118730545 | Accuracy: 100.0%\n",
            "ERM | Epoch 0 | Loss: 0.006296351086348295 | Accuracy: 100.0%\n",
            "ERM | Epoch 0 | Loss: 0.007257317658513784 | Accuracy: 100.0%\n",
            "ERM | Epoch 0 | Loss: 0.11218699812889099 | Accuracy: 98.4375%\n",
            "ERM | Epoch 0 | Loss: 0.005040957126766443 | Accuracy: 100.0%\n"
          ]
        },
        {
          "output_type": "stream",
          "name": "stderr",
          "text": [
            "Epoch 0:  29%|██▉       | 219/751 [00:06<00:11, 45.19batch/s, accuracy=98.4375%, loss=0.139]"
          ]
        },
        {
          "output_type": "stream",
          "name": "stdout",
          "text": [
            "ERM | Epoch 0 | Loss: 0.007404608651995659 | Accuracy: 100.0%\n",
            "ERM | Epoch 0 | Loss: 0.006550286430865526 | Accuracy: 100.0%\n",
            "ERM | Epoch 0 | Loss: 0.1863476037979126 | Accuracy: 96.875%\n",
            "ERM | Epoch 0 | Loss: 0.007946073077619076 | Accuracy: 100.0%\n",
            "ERM | Epoch 0 | Loss: 0.01242938730865717 | Accuracy: 100.0%\n",
            "ERM | Epoch 0 | Loss: 0.010654033161699772 | Accuracy: 100.0%\n",
            "ERM | Epoch 0 | Loss: 0.10119377076625824 | Accuracy: 98.4375%\n",
            "ERM | Epoch 0 | Loss: 0.007983642630279064 | Accuracy: 100.0%\n",
            "ERM | Epoch 0 | Loss: 0.11717452108860016 | Accuracy: 98.4375%\n",
            "ERM | Epoch 0 | Loss: 0.13940824568271637 | Accuracy: 98.4375%\n"
          ]
        },
        {
          "output_type": "stream",
          "name": "stderr",
          "text": [
            "Epoch 0:  30%|███       | 229/751 [00:06<00:11, 46.14batch/s, accuracy=100.0%, loss=0.0112] "
          ]
        },
        {
          "output_type": "stream",
          "name": "stdout",
          "text": [
            "ERM | Epoch 0 | Loss: 0.008024771697819233 | Accuracy: 100.0%\n",
            "ERM | Epoch 0 | Loss: 0.008276724256575108 | Accuracy: 100.0%\n",
            "ERM | Epoch 0 | Loss: 0.10645698755979538 | Accuracy: 98.4375%\n",
            "ERM | Epoch 0 | Loss: 0.009053980931639671 | Accuracy: 100.0%\n",
            "ERM | Epoch 0 | Loss: 0.008846178650856018 | Accuracy: 100.0%\n",
            "ERM | Epoch 0 | Loss: 0.13143068552017212 | Accuracy: 98.4375%\n",
            "ERM | Epoch 0 | Loss: 0.008198901079595089 | Accuracy: 100.0%\n",
            "ERM | Epoch 0 | Loss: 0.10245905071496964 | Accuracy: 98.4375%\n",
            "ERM | Epoch 0 | Loss: 0.18891504406929016 | Accuracy: 98.4375%\n",
            "ERM | Epoch 0 | Loss: 0.011225542053580284 | Accuracy: 100.0%\n"
          ]
        },
        {
          "output_type": "stream",
          "name": "stderr",
          "text": [
            "Epoch 0:  32%|███▏      | 239/751 [00:07<00:11, 46.35batch/s, accuracy=100.0%, loss=0.00516]"
          ]
        },
        {
          "output_type": "stream",
          "name": "stdout",
          "text": [
            "ERM | Epoch 0 | Loss: 0.014714594930410385 | Accuracy: 100.0%\n",
            "ERM | Epoch 0 | Loss: 0.024127140641212463 | Accuracy: 100.0%\n",
            "ERM | Epoch 0 | Loss: 0.016467439010739326 | Accuracy: 100.0%\n",
            "ERM | Epoch 0 | Loss: 0.013642292469739914 | Accuracy: 100.0%\n",
            "ERM | Epoch 0 | Loss: 0.01077555026859045 | Accuracy: 100.0%\n",
            "ERM | Epoch 0 | Loss: 0.007719481363892555 | Accuracy: 100.0%\n",
            "ERM | Epoch 0 | Loss: 0.12121980637311935 | Accuracy: 98.4375%\n",
            "ERM | Epoch 0 | Loss: 0.09831323474645615 | Accuracy: 98.4375%\n",
            "ERM | Epoch 0 | Loss: 0.006068293936550617 | Accuracy: 100.0%\n",
            "ERM | Epoch 0 | Loss: 0.0051613254472613335 | Accuracy: 100.0%\n"
          ]
        },
        {
          "output_type": "stream",
          "name": "stderr",
          "text": [
            "Epoch 0:  33%|███▎      | 249/751 [00:07<00:11, 44.65batch/s, accuracy=100.0%, loss=0.00455]"
          ]
        },
        {
          "output_type": "stream",
          "name": "stdout",
          "text": [
            "ERM | Epoch 0 | Loss: 0.004251505713909864 | Accuracy: 100.0%\n",
            "ERM | Epoch 0 | Loss: 0.004354359116405249 | Accuracy: 100.0%\n",
            "ERM | Epoch 0 | Loss: 0.1510469764471054 | Accuracy: 98.4375%\n",
            "ERM | Epoch 0 | Loss: 0.004213362000882626 | Accuracy: 100.0%\n",
            "ERM | Epoch 0 | Loss: 0.0038309614174067974 | Accuracy: 100.0%\n",
            "ERM | Epoch 0 | Loss: 0.16243326663970947 | Accuracy: 98.4375%\n",
            "ERM | Epoch 0 | Loss: 0.2072557508945465 | Accuracy: 96.875%\n",
            "ERM | Epoch 0 | Loss: 0.0038818668108433485 | Accuracy: 100.0%\n",
            "ERM | Epoch 0 | Loss: 0.00455240486189723 | Accuracy: 100.0%\n"
          ]
        },
        {
          "output_type": "stream",
          "name": "stderr",
          "text": [
            "Epoch 0:  34%|███▍      | 259/751 [00:07<00:10, 45.63batch/s, accuracy=98.4375%, loss=0.128]"
          ]
        },
        {
          "output_type": "stream",
          "name": "stdout",
          "text": [
            "ERM | Epoch 0 | Loss: 0.10089316219091415 | Accuracy: 98.4375%\n",
            "ERM | Epoch 0 | Loss: 0.007276949007064104 | Accuracy: 100.0%\n",
            "ERM | Epoch 0 | Loss: 0.005680947098881006 | Accuracy: 100.0%\n",
            "ERM | Epoch 0 | Loss: 0.14037278294563293 | Accuracy: 98.4375%\n",
            "ERM | Epoch 0 | Loss: 0.011350446380674839 | Accuracy: 100.0%\n",
            "ERM | Epoch 0 | Loss: 0.012812799774110317 | Accuracy: 100.0%\n",
            "ERM | Epoch 0 | Loss: 0.010850375518202782 | Accuracy: 100.0%\n",
            "ERM | Epoch 0 | Loss: 0.19753722846508026 | Accuracy: 96.875%\n",
            "ERM | Epoch 0 | Loss: 0.011191515251994133 | Accuracy: 100.0%\n",
            "ERM | Epoch 0 | Loss: 0.12766003608703613 | Accuracy: 98.4375%\n"
          ]
        },
        {
          "output_type": "stream",
          "name": "stderr",
          "text": [
            "Epoch 0:  36%|███▌      | 269/751 [00:07<00:10, 44.77batch/s, accuracy=98.4375%, loss=0.0879]"
          ]
        },
        {
          "output_type": "stream",
          "name": "stdout",
          "text": [
            "ERM | Epoch 0 | Loss: 0.00996969174593687 | Accuracy: 100.0%\n",
            "ERM | Epoch 0 | Loss: 0.007372683379799128 | Accuracy: 100.0%\n",
            "ERM | Epoch 0 | Loss: 0.1228240430355072 | Accuracy: 98.4375%\n",
            "ERM | Epoch 0 | Loss: 0.006340966559946537 | Accuracy: 100.0%\n",
            "ERM | Epoch 0 | Loss: 0.007271872833371162 | Accuracy: 100.0%\n",
            "ERM | Epoch 0 | Loss: 0.007166416384279728 | Accuracy: 100.0%\n",
            "ERM | Epoch 0 | Loss: 0.0071276091039180756 | Accuracy: 100.0%\n",
            "ERM | Epoch 0 | Loss: 0.006790361367166042 | Accuracy: 100.0%\n",
            "ERM | Epoch 0 | Loss: 0.006297835614532232 | Accuracy: 100.0%\n",
            "ERM | Epoch 0 | Loss: 0.08788632601499557 | Accuracy: 98.4375%\n"
          ]
        },
        {
          "output_type": "stream",
          "name": "stderr",
          "text": [
            "Epoch 0:  37%|███▋      | 279/751 [00:07<00:10, 44.34batch/s, accuracy=98.4375%, loss=0.127]"
          ]
        },
        {
          "output_type": "stream",
          "name": "stdout",
          "text": [
            "ERM | Epoch 0 | Loss: 0.10571266710758209 | Accuracy: 98.4375%\n",
            "ERM | Epoch 0 | Loss: 0.006209746468812227 | Accuracy: 100.0%\n",
            "ERM | Epoch 0 | Loss: 0.005886505823582411 | Accuracy: 100.0%\n",
            "ERM | Epoch 0 | Loss: 0.0053345621563494205 | Accuracy: 100.0%\n",
            "ERM | Epoch 0 | Loss: 0.005028498824685812 | Accuracy: 100.0%\n",
            "ERM | Epoch 0 | Loss: 0.004552321508526802 | Accuracy: 100.0%\n",
            "ERM | Epoch 0 | Loss: 0.004743038211017847 | Accuracy: 100.0%\n",
            "ERM | Epoch 0 | Loss: 0.0036574623081833124 | Accuracy: 100.0%\n",
            "ERM | Epoch 0 | Loss: 0.1274411380290985 | Accuracy: 98.4375%\n"
          ]
        },
        {
          "output_type": "stream",
          "name": "stderr",
          "text": [
            "Epoch 0:  38%|███▊      | 289/751 [00:08<00:10, 44.92batch/s, accuracy=100.0%, loss=0.00522]"
          ]
        },
        {
          "output_type": "stream",
          "name": "stdout",
          "text": [
            "ERM | Epoch 0 | Loss: 0.004157676827162504 | Accuracy: 100.0%\n",
            "ERM | Epoch 0 | Loss: 0.10842281579971313 | Accuracy: 98.4375%\n",
            "ERM | Epoch 0 | Loss: 0.005740334279835224 | Accuracy: 100.0%\n",
            "ERM | Epoch 0 | Loss: 0.005463550332933664 | Accuracy: 100.0%\n",
            "ERM | Epoch 0 | Loss: 0.0045355381444096565 | Accuracy: 100.0%\n",
            "ERM | Epoch 0 | Loss: 0.004637384321540594 | Accuracy: 100.0%\n",
            "ERM | Epoch 0 | Loss: 0.005243976600468159 | Accuracy: 100.0%\n",
            "ERM | Epoch 0 | Loss: 0.005922793876379728 | Accuracy: 100.0%\n",
            "ERM | Epoch 0 | Loss: 0.11956518888473511 | Accuracy: 98.4375%\n",
            "ERM | Epoch 0 | Loss: 0.005218814127147198 | Accuracy: 100.0%\n"
          ]
        },
        {
          "output_type": "stream",
          "name": "stderr",
          "text": [
            "Epoch 0:  40%|███▉      | 299/751 [00:08<00:10, 43.47batch/s, accuracy=100.0%, loss=0.00548]"
          ]
        },
        {
          "output_type": "stream",
          "name": "stdout",
          "text": [
            "ERM | Epoch 0 | Loss: 0.004062000662088394 | Accuracy: 100.0%\n",
            "ERM | Epoch 0 | Loss: 0.09238895028829575 | Accuracy: 98.4375%\n",
            "ERM | Epoch 0 | Loss: 0.1928408145904541 | Accuracy: 98.4375%\n",
            "ERM | Epoch 0 | Loss: 0.004931292030960321 | Accuracy: 100.0%\n",
            "ERM | Epoch 0 | Loss: 0.005636127199977636 | Accuracy: 100.0%\n",
            "ERM | Epoch 0 | Loss: 0.005501838866621256 | Accuracy: 100.0%\n",
            "ERM | Epoch 0 | Loss: 0.0056502437219023705 | Accuracy: 100.0%\n",
            "ERM | Epoch 0 | Loss: 0.12750089168548584 | Accuracy: 98.4375%\n",
            "ERM | Epoch 0 | Loss: 0.0050504193641245365 | Accuracy: 100.0%\n"
          ]
        },
        {
          "output_type": "stream",
          "name": "stderr",
          "text": [
            "Epoch 0:  41%|████      | 309/751 [00:08<00:09, 45.34batch/s, accuracy=98.4375%, loss=0.0968]"
          ]
        },
        {
          "output_type": "stream",
          "name": "stdout",
          "text": [
            "ERM | Epoch 0 | Loss: 0.005483124405145645 | Accuracy: 100.0%\n",
            "ERM | Epoch 0 | Loss: 0.004338910337537527 | Accuracy: 100.0%\n",
            "ERM | Epoch 0 | Loss: 0.004490415100008249 | Accuracy: 100.0%\n",
            "ERM | Epoch 0 | Loss: 0.09546376764774323 | Accuracy: 98.4375%\n",
            "ERM | Epoch 0 | Loss: 0.15343071520328522 | Accuracy: 98.4375%\n",
            "ERM | Epoch 0 | Loss: 0.0036321014631539583 | Accuracy: 100.0%\n",
            "ERM | Epoch 0 | Loss: 0.00327564706094563 | Accuracy: 100.0%\n",
            "ERM | Epoch 0 | Loss: 0.003142070025205612 | Accuracy: 100.0%\n",
            "ERM | Epoch 0 | Loss: 0.0029439134523272514 | Accuracy: 100.0%\n",
            "ERM | Epoch 0 | Loss: 0.09676156938076019 | Accuracy: 98.4375%\n"
          ]
        },
        {
          "output_type": "stream",
          "name": "stderr",
          "text": [
            "Epoch 0:  42%|████▏     | 319/751 [00:08<00:09, 45.44batch/s, accuracy=100.0%, loss=0.00868]"
          ]
        },
        {
          "output_type": "stream",
          "name": "stdout",
          "text": [
            "ERM | Epoch 0 | Loss: 0.0035333086270838976 | Accuracy: 100.0%\n",
            "ERM | Epoch 0 | Loss: 0.0037194129545241594 | Accuracy: 100.0%\n",
            "ERM | Epoch 0 | Loss: 0.10020208358764648 | Accuracy: 98.4375%\n",
            "ERM | Epoch 0 | Loss: 0.004786504432559013 | Accuracy: 100.0%\n",
            "ERM | Epoch 0 | Loss: 0.12569862604141235 | Accuracy: 98.4375%\n",
            "ERM | Epoch 0 | Loss: 0.004675367381423712 | Accuracy: 100.0%\n",
            "ERM | Epoch 0 | Loss: 0.005728535354137421 | Accuracy: 100.0%\n",
            "ERM | Epoch 0 | Loss: 0.007888061925768852 | Accuracy: 100.0%\n",
            "ERM | Epoch 0 | Loss: 0.006661703810095787 | Accuracy: 100.0%\n",
            "ERM | Epoch 0 | Loss: 0.008681031875312328 | Accuracy: 100.0%\n"
          ]
        },
        {
          "output_type": "stream",
          "name": "stderr",
          "text": [
            "Epoch 0:  44%|████▍     | 329/751 [00:08<00:09, 45.78batch/s, accuracy=100.0%, loss=0.00414]"
          ]
        },
        {
          "output_type": "stream",
          "name": "stdout",
          "text": [
            "ERM | Epoch 0 | Loss: 0.08793879300355911 | Accuracy: 98.4375%\n",
            "ERM | Epoch 0 | Loss: 0.006781758274883032 | Accuracy: 100.0%\n",
            "ERM | Epoch 0 | Loss: 0.007210285868495703 | Accuracy: 100.0%\n",
            "ERM | Epoch 0 | Loss: 0.0066200257278978825 | Accuracy: 100.0%\n",
            "ERM | Epoch 0 | Loss: 0.005478315986692905 | Accuracy: 100.0%\n",
            "ERM | Epoch 0 | Loss: 0.15543274581432343 | Accuracy: 98.4375%\n",
            "ERM | Epoch 0 | Loss: 0.003573881695047021 | Accuracy: 100.0%\n",
            "ERM | Epoch 0 | Loss: 0.12285245954990387 | Accuracy: 98.4375%\n",
            "ERM | Epoch 0 | Loss: 0.003900522133335471 | Accuracy: 100.0%\n",
            "ERM | Epoch 0 | Loss: 0.004135773982852697 | Accuracy: 100.0%\n"
          ]
        },
        {
          "output_type": "stream",
          "name": "stderr",
          "text": [
            "Epoch 0:  45%|████▌     | 339/751 [00:09<00:09, 43.53batch/s, accuracy=100.0%, loss=0.00922]"
          ]
        },
        {
          "output_type": "stream",
          "name": "stdout",
          "text": [
            "ERM | Epoch 0 | Loss: 0.1030837744474411 | Accuracy: 98.4375%\n",
            "ERM | Epoch 0 | Loss: 0.005325904581695795 | Accuracy: 100.0%\n",
            "ERM | Epoch 0 | Loss: 0.12559197843074799 | Accuracy: 98.4375%\n",
            "ERM | Epoch 0 | Loss: 0.005299897864460945 | Accuracy: 100.0%\n",
            "ERM | Epoch 0 | Loss: 0.00524961668998003 | Accuracy: 100.0%\n",
            "ERM | Epoch 0 | Loss: 0.08164936304092407 | Accuracy: 98.4375%\n",
            "ERM | Epoch 0 | Loss: 0.005956034176051617 | Accuracy: 100.0%\n",
            "ERM | Epoch 0 | Loss: 0.0856427252292633 | Accuracy: 98.4375%\n",
            "ERM | Epoch 0 | Loss: 0.009218883700668812 | Accuracy: 100.0%\n"
          ]
        },
        {
          "output_type": "stream",
          "name": "stderr",
          "text": [
            "Epoch 0:  46%|████▋     | 349/751 [00:09<00:09, 44.62batch/s, accuracy=100.0%, loss=0.019]"
          ]
        },
        {
          "output_type": "stream",
          "name": "stdout",
          "text": [
            "ERM | Epoch 0 | Loss: 0.008781898766756058 | Accuracy: 100.0%\n",
            "ERM | Epoch 0 | Loss: 0.16451582312583923 | Accuracy: 98.4375%\n",
            "ERM | Epoch 0 | Loss: 0.006939784623682499 | Accuracy: 100.0%\n",
            "ERM | Epoch 0 | Loss: 0.009169289842247963 | Accuracy: 100.0%\n",
            "ERM | Epoch 0 | Loss: 0.008991662412881851 | Accuracy: 100.0%\n",
            "ERM | Epoch 0 | Loss: 0.0055794804356992245 | Accuracy: 100.0%\n",
            "ERM | Epoch 0 | Loss: 0.005354380235075951 | Accuracy: 100.0%\n",
            "ERM | Epoch 0 | Loss: 0.13217619061470032 | Accuracy: 98.4375%\n",
            "ERM | Epoch 0 | Loss: 0.276599645614624 | Accuracy: 96.875%\n",
            "ERM | Epoch 0 | Loss: 0.018971415236592293 | Accuracy: 100.0%\n"
          ]
        },
        {
          "output_type": "stream",
          "name": "stderr",
          "text": [
            "Epoch 0:  48%|████▊     | 359/751 [00:09<00:08, 44.41batch/s, accuracy=100.0%, loss=0.0054]"
          ]
        },
        {
          "output_type": "stream",
          "name": "stdout",
          "text": [
            "ERM | Epoch 0 | Loss: 0.010766949504613876 | Accuracy: 100.0%\n",
            "ERM | Epoch 0 | Loss: 0.005740296095609665 | Accuracy: 100.0%\n",
            "ERM | Epoch 0 | Loss: 0.0053995875641703606 | Accuracy: 100.0%\n",
            "ERM | Epoch 0 | Loss: 0.0044426992535591125 | Accuracy: 100.0%\n",
            "ERM | Epoch 0 | Loss: 0.00422116881236434 | Accuracy: 100.0%\n",
            "ERM | Epoch 0 | Loss: 0.14717455208301544 | Accuracy: 98.4375%\n",
            "ERM | Epoch 0 | Loss: 0.004145127255469561 | Accuracy: 100.0%\n",
            "ERM | Epoch 0 | Loss: 0.005012474022805691 | Accuracy: 100.0%\n",
            "ERM | Epoch 0 | Loss: 0.0975954532623291 | Accuracy: 98.4375%\n",
            "ERM | Epoch 0 | Loss: 0.005396587308496237 | Accuracy: 100.0%\n"
          ]
        },
        {
          "output_type": "stream",
          "name": "stderr",
          "text": [
            "Epoch 0:  49%|████▉     | 369/751 [00:09<00:08, 45.08batch/s, accuracy=98.4375%, loss=0.143]"
          ]
        },
        {
          "output_type": "stream",
          "name": "stdout",
          "text": [
            "ERM | Epoch 0 | Loss: 0.0066169979982078075 | Accuracy: 100.0%\n",
            "ERM | Epoch 0 | Loss: 0.005212353076785803 | Accuracy: 100.0%\n",
            "ERM | Epoch 0 | Loss: 0.008021102286875248 | Accuracy: 100.0%\n",
            "ERM | Epoch 0 | Loss: 0.008162828162312508 | Accuracy: 100.0%\n",
            "ERM | Epoch 0 | Loss: 0.0862862765789032 | Accuracy: 98.4375%\n",
            "ERM | Epoch 0 | Loss: 0.0072095878422260284 | Accuracy: 100.0%\n",
            "ERM | Epoch 0 | Loss: 0.0059073250740766525 | Accuracy: 100.0%\n",
            "ERM | Epoch 0 | Loss: 0.008334155194461346 | Accuracy: 100.0%\n",
            "ERM | Epoch 0 | Loss: 0.007882141508162022 | Accuracy: 100.0%\n",
            "ERM | Epoch 0 | Loss: 0.14332301914691925 | Accuracy: 98.4375%\n"
          ]
        },
        {
          "output_type": "stream",
          "name": "stderr",
          "text": [
            "Epoch 0:  50%|█████     | 379/751 [00:10<00:08, 45.09batch/s, accuracy=100.0%, loss=0.00498]"
          ]
        },
        {
          "output_type": "stream",
          "name": "stdout",
          "text": [
            "ERM | Epoch 0 | Loss: 0.00547773577272892 | Accuracy: 100.0%\n",
            "ERM | Epoch 0 | Loss: 0.004226865246891975 | Accuracy: 100.0%\n",
            "ERM | Epoch 0 | Loss: 0.004796802997589111 | Accuracy: 100.0%\n",
            "ERM | Epoch 0 | Loss: 0.005179865285754204 | Accuracy: 100.0%\n",
            "ERM | Epoch 0 | Loss: 0.22011955082416534 | Accuracy: 96.875%\n",
            "ERM | Epoch 0 | Loss: 0.004221608862280846 | Accuracy: 100.0%\n",
            "ERM | Epoch 0 | Loss: 0.121126689016819 | Accuracy: 98.4375%\n",
            "ERM | Epoch 0 | Loss: 0.005803369916975498 | Accuracy: 100.0%\n",
            "ERM | Epoch 0 | Loss: 0.005316488444805145 | Accuracy: 100.0%\n",
            "ERM | Epoch 0 | Loss: 0.0049837501719594 | Accuracy: 100.0%\n"
          ]
        },
        {
          "output_type": "stream",
          "name": "stderr",
          "text": [
            "Epoch 0:  51%|█████     | 384/751 [00:10<00:08, 44.87batch/s, accuracy=100.0%, loss=0.00348]"
          ]
        },
        {
          "output_type": "stream",
          "name": "stdout",
          "text": [
            "ERM | Epoch 0 | Loss: 0.006226317957043648 | Accuracy: 100.0%\n",
            "ERM | Epoch 0 | Loss: 0.005170411430299282 | Accuracy: 100.0%\n",
            "ERM | Epoch 0 | Loss: 0.005480168387293816 | Accuracy: 100.0%\n",
            "ERM | Epoch 0 | Loss: 0.0056276386603713036 | Accuracy: 100.0%\n",
            "ERM | Epoch 0 | Loss: 0.005210306961089373 | Accuracy: 100.0%\n",
            "ERM | Epoch 0 | Loss: 0.004760247189551592 | Accuracy: 100.0%\n",
            "ERM | Epoch 0 | Loss: 0.005514553282409906 | Accuracy: 100.0%\n",
            "ERM | Epoch 0 | Loss: 0.00391362514346838 | Accuracy: 100.0%\n",
            "ERM | Epoch 0 | Loss: 0.0034764516167342663 | Accuracy: 100.0%\n"
          ]
        },
        {
          "output_type": "stream",
          "name": "stderr",
          "text": [
            "Epoch 0:  52%|█████▏    | 394/751 [00:10<00:08, 43.92batch/s, accuracy=100.0%, loss=0.00605]"
          ]
        },
        {
          "output_type": "stream",
          "name": "stdout",
          "text": [
            "ERM | Epoch 0 | Loss: 0.08209902793169022 | Accuracy: 98.4375%\n",
            "ERM | Epoch 0 | Loss: 0.13259367644786835 | Accuracy: 98.4375%\n",
            "ERM | Epoch 0 | Loss: 0.0034998906776309013 | Accuracy: 100.0%\n",
            "ERM | Epoch 0 | Loss: 0.00876062922179699 | Accuracy: 100.0%\n",
            "ERM | Epoch 0 | Loss: 0.15540145337581635 | Accuracy: 98.4375%\n",
            "ERM | Epoch 0 | Loss: 0.005416142754256725 | Accuracy: 100.0%\n",
            "ERM | Epoch 0 | Loss: 0.009451364167034626 | Accuracy: 100.0%\n",
            "ERM | Epoch 0 | Loss: 0.08989107608795166 | Accuracy: 98.4375%\n",
            "ERM | Epoch 0 | Loss: 0.0064883045852184296 | Accuracy: 100.0%\n",
            "ERM | Epoch 0 | Loss: 0.006049178075045347 | Accuracy: 100.0%\n"
          ]
        },
        {
          "output_type": "stream",
          "name": "stderr",
          "text": [
            "Epoch 0:  54%|█████▍    | 404/751 [00:10<00:07, 44.30batch/s, accuracy=96.875%, loss=0.301] "
          ]
        },
        {
          "output_type": "stream",
          "name": "stdout",
          "text": [
            "ERM | Epoch 0 | Loss: 0.005908939056098461 | Accuracy: 100.0%\n",
            "ERM | Epoch 0 | Loss: 0.006812557112425566 | Accuracy: 100.0%\n",
            "ERM | Epoch 0 | Loss: 0.14204557240009308 | Accuracy: 98.4375%\n",
            "ERM | Epoch 0 | Loss: 0.004030774347484112 | Accuracy: 100.0%\n",
            "ERM | Epoch 0 | Loss: 0.00270011555403471 | Accuracy: 100.0%\n",
            "ERM | Epoch 0 | Loss: 0.08967138081789017 | Accuracy: 98.4375%\n",
            "ERM | Epoch 0 | Loss: 0.2496379166841507 | Accuracy: 96.875%\n",
            "ERM | Epoch 0 | Loss: 0.004492790903896093 | Accuracy: 100.0%\n",
            "ERM | Epoch 0 | Loss: 0.3012223541736603 | Accuracy: 96.875%\n"
          ]
        },
        {
          "output_type": "stream",
          "name": "stderr",
          "text": [
            "Epoch 0:  55%|█████▌    | 414/751 [00:10<00:07, 43.89batch/s, accuracy=100.0%, loss=0.00908]"
          ]
        },
        {
          "output_type": "stream",
          "name": "stdout",
          "text": [
            "ERM | Epoch 0 | Loss: 0.007518453057855368 | Accuracy: 100.0%\n",
            "ERM | Epoch 0 | Loss: 0.01078539527952671 | Accuracy: 100.0%\n",
            "ERM | Epoch 0 | Loss: 0.07459999620914459 | Accuracy: 98.4375%\n",
            "ERM | Epoch 0 | Loss: 0.10290925204753876 | Accuracy: 98.4375%\n",
            "ERM | Epoch 0 | Loss: 0.011310596950352192 | Accuracy: 100.0%\n",
            "ERM | Epoch 0 | Loss: 0.011441977694630623 | Accuracy: 100.0%\n",
            "ERM | Epoch 0 | Loss: 0.009380782954394817 | Accuracy: 100.0%\n",
            "ERM | Epoch 0 | Loss: 0.15443648397922516 | Accuracy: 98.4375%\n",
            "ERM | Epoch 0 | Loss: 0.009080104529857635 | Accuracy: 100.0%\n"
          ]
        },
        {
          "output_type": "stream",
          "name": "stderr",
          "text": [
            "Epoch 0:  56%|█████▋    | 424/751 [00:11<00:07, 44.49batch/s, accuracy=100.0%, loss=0.00765]"
          ]
        },
        {
          "output_type": "stream",
          "name": "stdout",
          "text": [
            "ERM | Epoch 0 | Loss: 0.008738832548260689 | Accuracy: 100.0%\n",
            "ERM | Epoch 0 | Loss: 0.11153615266084671 | Accuracy: 98.4375%\n",
            "ERM | Epoch 0 | Loss: 0.007271114736795425 | Accuracy: 100.0%\n",
            "ERM | Epoch 0 | Loss: 0.007957295514643192 | Accuracy: 100.0%\n",
            "ERM | Epoch 0 | Loss: 0.008311889134347439 | Accuracy: 100.0%\n",
            "ERM | Epoch 0 | Loss: 0.13447289168834686 | Accuracy: 98.4375%\n",
            "ERM | Epoch 0 | Loss: 0.007246593479067087 | Accuracy: 100.0%\n",
            "ERM | Epoch 0 | Loss: 0.10251304507255554 | Accuracy: 98.4375%\n",
            "ERM | Epoch 0 | Loss: 0.007788021117448807 | Accuracy: 100.0%\n",
            "ERM | Epoch 0 | Loss: 0.007652487605810165 | Accuracy: 100.0%\n"
          ]
        },
        {
          "output_type": "stream",
          "name": "stderr",
          "text": [
            "Epoch 0:  58%|█████▊    | 434/751 [00:11<00:07, 42.76batch/s, accuracy=100.0%, loss=0.00426]"
          ]
        },
        {
          "output_type": "stream",
          "name": "stdout",
          "text": [
            "ERM | Epoch 0 | Loss: 0.005951166618615389 | Accuracy: 100.0%\n",
            "ERM | Epoch 0 | Loss: 0.006401001941412687 | Accuracy: 100.0%\n",
            "ERM | Epoch 0 | Loss: 0.006192113272845745 | Accuracy: 100.0%\n",
            "ERM | Epoch 0 | Loss: 0.11890020221471786 | Accuracy: 98.4375%\n",
            "ERM | Epoch 0 | Loss: 0.00489466916769743 | Accuracy: 100.0%\n",
            "ERM | Epoch 0 | Loss: 0.006112940143793821 | Accuracy: 100.0%\n",
            "ERM | Epoch 0 | Loss: 0.005164695903658867 | Accuracy: 100.0%\n",
            "ERM | Epoch 0 | Loss: 0.004651034716516733 | Accuracy: 100.0%\n",
            "ERM | Epoch 0 | Loss: 0.004263440612703562 | Accuracy: 100.0%\n"
          ]
        },
        {
          "output_type": "stream",
          "name": "stderr",
          "text": [
            "Epoch 0:  59%|█████▉    | 444/751 [00:11<00:06, 44.35batch/s, accuracy=100.0%, loss=0.00239]"
          ]
        },
        {
          "output_type": "stream",
          "name": "stdout",
          "text": [
            "ERM | Epoch 0 | Loss: 0.0034451072569936514 | Accuracy: 100.0%\n",
            "ERM | Epoch 0 | Loss: 0.003714096499606967 | Accuracy: 100.0%\n",
            "ERM | Epoch 0 | Loss: 0.003292911220341921 | Accuracy: 100.0%\n",
            "ERM | Epoch 0 | Loss: 0.003011713270097971 | Accuracy: 100.0%\n",
            "ERM | Epoch 0 | Loss: 0.002862415509298444 | Accuracy: 100.0%\n",
            "ERM | Epoch 0 | Loss: 0.00242565106600523 | Accuracy: 100.0%\n",
            "ERM | Epoch 0 | Loss: 0.14348523318767548 | Accuracy: 98.4375%\n",
            "ERM | Epoch 0 | Loss: 0.0021806820295751095 | Accuracy: 100.0%\n",
            "ERM | Epoch 0 | Loss: 0.0019676426891237497 | Accuracy: 100.0%\n",
            "ERM | Epoch 0 | Loss: 0.002394014270976186 | Accuracy: 100.0%\n"
          ]
        },
        {
          "output_type": "stream",
          "name": "stderr",
          "text": [
            "Epoch 0:  60%|██████    | 454/751 [00:11<00:06, 45.18batch/s, accuracy=96.875%, loss=0.207] "
          ]
        },
        {
          "output_type": "stream",
          "name": "stdout",
          "text": [
            "ERM | Epoch 0 | Loss: 0.14334554970264435 | Accuracy: 98.4375%\n",
            "ERM | Epoch 0 | Loss: 0.0022305769380182028 | Accuracy: 100.0%\n",
            "ERM | Epoch 0 | Loss: 0.0021740030497312546 | Accuracy: 100.0%\n",
            "ERM | Epoch 0 | Loss: 0.09510792791843414 | Accuracy: 98.4375%\n",
            "ERM | Epoch 0 | Loss: 0.002386388136073947 | Accuracy: 100.0%\n",
            "ERM | Epoch 0 | Loss: 0.0026065099518746138 | Accuracy: 100.0%\n",
            "ERM | Epoch 0 | Loss: 0.0029491863679140806 | Accuracy: 100.0%\n",
            "ERM | Epoch 0 | Loss: 0.0031937777530401945 | Accuracy: 100.0%\n",
            "ERM | Epoch 0 | Loss: 0.0038813422434031963 | Accuracy: 100.0%\n",
            "ERM | Epoch 0 | Loss: 0.20745378732681274 | Accuracy: 96.875%\n"
          ]
        },
        {
          "output_type": "stream",
          "name": "stderr",
          "text": [
            "Epoch 0:  62%|██████▏   | 464/751 [00:12<00:06, 44.65batch/s, accuracy=98.4375%, loss=0.108]"
          ]
        },
        {
          "output_type": "stream",
          "name": "stdout",
          "text": [
            "ERM | Epoch 0 | Loss: 0.004223274998366833 | Accuracy: 100.0%\n",
            "ERM | Epoch 0 | Loss: 0.005537725519388914 | Accuracy: 100.0%\n",
            "ERM | Epoch 0 | Loss: 0.005754821468144655 | Accuracy: 100.0%\n",
            "ERM | Epoch 0 | Loss: 0.005868242587894201 | Accuracy: 100.0%\n",
            "ERM | Epoch 0 | Loss: 0.005814879667013884 | Accuracy: 100.0%\n",
            "ERM | Epoch 0 | Loss: 0.008236381225287914 | Accuracy: 100.0%\n",
            "ERM | Epoch 0 | Loss: 0.00945065263658762 | Accuracy: 100.0%\n",
            "ERM | Epoch 0 | Loss: 0.007084585260599852 | Accuracy: 100.0%\n",
            "ERM | Epoch 0 | Loss: 0.005089775193482637 | Accuracy: 100.0%\n",
            "ERM | Epoch 0 | Loss: 0.10761824250221252 | Accuracy: 98.4375%\n"
          ]
        },
        {
          "output_type": "stream",
          "name": "stderr",
          "text": [
            "Epoch 0:  63%|██████▎   | 474/751 [00:12<00:06, 45.14batch/s, accuracy=100.0%, loss=0.0106]"
          ]
        },
        {
          "output_type": "stream",
          "name": "stdout",
          "text": [
            "ERM | Epoch 0 | Loss: 0.004586259834468365 | Accuracy: 100.0%\n",
            "ERM | Epoch 0 | Loss: 0.004059767350554466 | Accuracy: 100.0%\n",
            "ERM | Epoch 0 | Loss: 0.08989731967449188 | Accuracy: 98.4375%\n",
            "ERM | Epoch 0 | Loss: 0.1628762036561966 | Accuracy: 98.4375%\n",
            "ERM | Epoch 0 | Loss: 0.004170000087469816 | Accuracy: 100.0%\n",
            "ERM | Epoch 0 | Loss: 0.21404482424259186 | Accuracy: 96.875%\n",
            "ERM | Epoch 0 | Loss: 0.29409149289131165 | Accuracy: 96.875%\n",
            "ERM | Epoch 0 | Loss: 0.01305567380040884 | Accuracy: 100.0%\n",
            "ERM | Epoch 0 | Loss: 0.1499248594045639 | Accuracy: 98.4375%\n",
            "ERM | Epoch 0 | Loss: 0.010642311535775661 | Accuracy: 100.0%\n"
          ]
        },
        {
          "output_type": "stream",
          "name": "stderr",
          "text": [
            "Epoch 0:  64%|██████▍   | 484/751 [00:12<00:06, 44.17batch/s, accuracy=100.0%, loss=0.00563]"
          ]
        },
        {
          "output_type": "stream",
          "name": "stdout",
          "text": [
            "ERM | Epoch 0 | Loss: 0.010832794941961765 | Accuracy: 100.0%\n",
            "ERM | Epoch 0 | Loss: 0.008239532820880413 | Accuracy: 100.0%\n",
            "ERM | Epoch 0 | Loss: 0.006445568520575762 | Accuracy: 100.0%\n",
            "ERM | Epoch 0 | Loss: 0.004822964780032635 | Accuracy: 100.0%\n",
            "ERM | Epoch 0 | Loss: 0.005463256035000086 | Accuracy: 100.0%\n",
            "ERM | Epoch 0 | Loss: 0.006196556147187948 | Accuracy: 100.0%\n",
            "ERM | Epoch 0 | Loss: 0.005411474499851465 | Accuracy: 100.0%\n",
            "ERM | Epoch 0 | Loss: 0.12100007385015488 | Accuracy: 98.4375%\n",
            "ERM | Epoch 0 | Loss: 0.005632761400192976 | Accuracy: 100.0%\n"
          ]
        },
        {
          "output_type": "stream",
          "name": "stderr",
          "text": [
            "Epoch 0:  66%|██████▌   | 494/751 [00:12<00:05, 44.89batch/s, accuracy=96.875%, loss=0.238]"
          ]
        },
        {
          "output_type": "stream",
          "name": "stdout",
          "text": [
            "ERM | Epoch 0 | Loss: 0.005635127890855074 | Accuracy: 100.0%\n",
            "ERM | Epoch 0 | Loss: 0.005006119143217802 | Accuracy: 100.0%\n",
            "ERM | Epoch 0 | Loss: 0.005075345281511545 | Accuracy: 100.0%\n",
            "ERM | Epoch 0 | Loss: 0.13783897459506989 | Accuracy: 98.4375%\n",
            "ERM | Epoch 0 | Loss: 0.005492737982422113 | Accuracy: 100.0%\n",
            "ERM | Epoch 0 | Loss: 0.005213040858507156 | Accuracy: 100.0%\n",
            "ERM | Epoch 0 | Loss: 0.0050980509258806705 | Accuracy: 100.0%\n",
            "ERM | Epoch 0 | Loss: 0.004878363572061062 | Accuracy: 100.0%\n",
            "ERM | Epoch 0 | Loss: 0.005546474363654852 | Accuracy: 100.0%\n",
            "ERM | Epoch 0 | Loss: 0.23824647068977356 | Accuracy: 96.875%\n"
          ]
        },
        {
          "output_type": "stream",
          "name": "stderr",
          "text": [
            "Epoch 0:  67%|██████▋   | 504/751 [00:12<00:05, 44.66batch/s, accuracy=100.0%, loss=0.00439]"
          ]
        },
        {
          "output_type": "stream",
          "name": "stdout",
          "text": [
            "ERM | Epoch 0 | Loss: 0.004740713629871607 | Accuracy: 100.0%\n",
            "ERM | Epoch 0 | Loss: 0.004953589290380478 | Accuracy: 100.0%\n",
            "ERM | Epoch 0 | Loss: 0.005000863689929247 | Accuracy: 100.0%\n",
            "ERM | Epoch 0 | Loss: 0.004976366180926561 | Accuracy: 100.0%\n",
            "ERM | Epoch 0 | Loss: 0.0046136449091136456 | Accuracy: 100.0%\n",
            "ERM | Epoch 0 | Loss: 0.005014864727854729 | Accuracy: 100.0%\n",
            "ERM | Epoch 0 | Loss: 0.11922259628772736 | Accuracy: 98.4375%\n",
            "ERM | Epoch 0 | Loss: 0.00419409666210413 | Accuracy: 100.0%\n",
            "ERM | Epoch 0 | Loss: 0.004682042635977268 | Accuracy: 100.0%\n",
            "ERM | Epoch 0 | Loss: 0.004391445778310299 | Accuracy: 100.0%\n"
          ]
        },
        {
          "output_type": "stream",
          "name": "stderr",
          "text": [
            "Epoch 0:  68%|██████▊   | 514/751 [00:13<00:05, 45.43batch/s, accuracy=100.0%, loss=0.0103]"
          ]
        },
        {
          "output_type": "stream",
          "name": "stdout",
          "text": [
            "ERM | Epoch 0 | Loss: 0.08916430920362473 | Accuracy: 98.4375%\n",
            "ERM | Epoch 0 | Loss: 0.10245730727910995 | Accuracy: 98.4375%\n",
            "ERM | Epoch 0 | Loss: 0.11008131504058838 | Accuracy: 98.4375%\n",
            "ERM | Epoch 0 | Loss: 0.0072071184404194355 | Accuracy: 100.0%\n",
            "ERM | Epoch 0 | Loss: 0.10824260860681534 | Accuracy: 98.4375%\n",
            "ERM | Epoch 0 | Loss: 0.010738778859376907 | Accuracy: 100.0%\n",
            "ERM | Epoch 0 | Loss: 0.015730977058410645 | Accuracy: 100.0%\n",
            "ERM | Epoch 0 | Loss: 0.15474773943424225 | Accuracy: 98.4375%\n",
            "ERM | Epoch 0 | Loss: 0.21706688404083252 | Accuracy: 96.875%\n",
            "ERM | Epoch 0 | Loss: 0.010251608677208424 | Accuracy: 100.0%\n"
          ]
        },
        {
          "output_type": "stream",
          "name": "stderr",
          "text": [
            "Epoch 0:  70%|██████▉   | 524/751 [00:13<00:05, 45.18batch/s, accuracy=100.0%, loss=0.00962]"
          ]
        },
        {
          "output_type": "stream",
          "name": "stdout",
          "text": [
            "ERM | Epoch 0 | Loss: 0.13530562818050385 | Accuracy: 98.4375%\n",
            "ERM | Epoch 0 | Loss: 0.12102391570806503 | Accuracy: 98.4375%\n",
            "ERM | Epoch 0 | Loss: 0.005421660840511322 | Accuracy: 100.0%\n",
            "ERM | Epoch 0 | Loss: 0.09704139083623886 | Accuracy: 98.4375%\n",
            "ERM | Epoch 0 | Loss: 0.009151999838650227 | Accuracy: 100.0%\n",
            "ERM | Epoch 0 | Loss: 0.015562927350401878 | Accuracy: 100.0%\n",
            "ERM | Epoch 0 | Loss: 0.016777584329247475 | Accuracy: 100.0%\n",
            "ERM | Epoch 0 | Loss: 0.015015295706689358 | Accuracy: 100.0%\n",
            "ERM | Epoch 0 | Loss: 0.009784403257071972 | Accuracy: 100.0%\n",
            "ERM | Epoch 0 | Loss: 0.009622092358767986 | Accuracy: 100.0%\n"
          ]
        },
        {
          "output_type": "stream",
          "name": "stderr",
          "text": [
            "Epoch 0:  71%|███████   | 534/751 [00:13<00:04, 43.80batch/s, accuracy=100.0%, loss=0.0102]"
          ]
        },
        {
          "output_type": "stream",
          "name": "stdout",
          "text": [
            "ERM | Epoch 0 | Loss: 0.007886639796197414 | Accuracy: 100.0%\n",
            "ERM | Epoch 0 | Loss: 0.1216018870472908 | Accuracy: 98.4375%\n",
            "ERM | Epoch 0 | Loss: 0.1469893604516983 | Accuracy: 98.4375%\n",
            "ERM | Epoch 0 | Loss: 0.006392426788806915 | Accuracy: 100.0%\n",
            "ERM | Epoch 0 | Loss: 0.006965838372707367 | Accuracy: 100.0%\n",
            "ERM | Epoch 0 | Loss: 0.2201942801475525 | Accuracy: 96.875%\n",
            "ERM | Epoch 0 | Loss: 0.007621425669640303 | Accuracy: 100.0%\n",
            "ERM | Epoch 0 | Loss: 0.10412700474262238 | Accuracy: 98.4375%\n",
            "ERM | Epoch 0 | Loss: 0.013077754527330399 | Accuracy: 100.0%\n",
            "ERM | Epoch 0 | Loss: 0.010177052579820156 | Accuracy: 100.0%\n"
          ]
        },
        {
          "output_type": "stream",
          "name": "stderr",
          "text": [
            "Epoch 0:  72%|███████▏  | 539/751 [00:13<00:04, 44.20batch/s, accuracy=100.0%, loss=0.00329]"
          ]
        },
        {
          "output_type": "stream",
          "name": "stdout",
          "text": [
            "ERM | Epoch 0 | Loss: 0.007658425252884626 | Accuracy: 100.0%\n",
            "ERM | Epoch 0 | Loss: 0.0077545009553432465 | Accuracy: 100.0%\n",
            "ERM | Epoch 0 | Loss: 0.006290115881711245 | Accuracy: 100.0%\n",
            "ERM | Epoch 0 | Loss: 0.0049610803835093975 | Accuracy: 100.0%\n",
            "ERM | Epoch 0 | Loss: 0.0041548809967935085 | Accuracy: 100.0%\n",
            "ERM | Epoch 0 | Loss: 0.004564434755593538 | Accuracy: 100.0%\n",
            "ERM | Epoch 0 | Loss: 0.003602739656344056 | Accuracy: 100.0%\n",
            "ERM | Epoch 0 | Loss: 0.004061912652105093 | Accuracy: 100.0%\n",
            "ERM | Epoch 0 | Loss: 0.0032906020060181618 | Accuracy: 100.0%\n"
          ]
        },
        {
          "output_type": "stream",
          "name": "stderr",
          "text": [
            "Epoch 0:  73%|███████▎  | 549/751 [00:13<00:04, 43.70batch/s, accuracy=100.0%, loss=0.00509]"
          ]
        },
        {
          "output_type": "stream",
          "name": "stdout",
          "text": [
            "ERM | Epoch 0 | Loss: 0.0031052050180733204 | Accuracy: 100.0%\n",
            "ERM | Epoch 0 | Loss: 0.10434062778949738 | Accuracy: 98.4375%\n",
            "ERM | Epoch 0 | Loss: 0.12128675729036331 | Accuracy: 98.4375%\n",
            "ERM | Epoch 0 | Loss: 0.0030498497653752565 | Accuracy: 100.0%\n",
            "ERM | Epoch 0 | Loss: 0.22689354419708252 | Accuracy: 96.875%\n",
            "ERM | Epoch 0 | Loss: 0.0030765370465815067 | Accuracy: 100.0%\n",
            "ERM | Epoch 0 | Loss: 0.004173768684267998 | Accuracy: 100.0%\n",
            "ERM | Epoch 0 | Loss: 0.004255695268511772 | Accuracy: 100.0%\n",
            "ERM | Epoch 0 | Loss: 0.11134746670722961 | Accuracy: 98.4375%\n",
            "ERM | Epoch 0 | Loss: 0.005087819416075945 | Accuracy: 100.0%\n"
          ]
        },
        {
          "output_type": "stream",
          "name": "stderr",
          "text": [
            "Epoch 0:  74%|███████▍  | 559/751 [00:14<00:04, 44.16batch/s, accuracy=100.0%, loss=0.00742]"
          ]
        },
        {
          "output_type": "stream",
          "name": "stdout",
          "text": [
            "ERM | Epoch 0 | Loss: 0.0054946597665548325 | Accuracy: 100.0%\n",
            "ERM | Epoch 0 | Loss: 0.13360510766506195 | Accuracy: 98.4375%\n",
            "ERM | Epoch 0 | Loss: 0.005623489152640104 | Accuracy: 100.0%\n",
            "ERM | Epoch 0 | Loss: 0.005415630992501974 | Accuracy: 100.0%\n",
            "ERM | Epoch 0 | Loss: 0.005650875624269247 | Accuracy: 100.0%\n",
            "ERM | Epoch 0 | Loss: 0.0056419591419398785 | Accuracy: 100.0%\n",
            "ERM | Epoch 0 | Loss: 0.00588200381025672 | Accuracy: 100.0%\n",
            "ERM | Epoch 0 | Loss: 0.11083445698022842 | Accuracy: 98.4375%\n",
            "ERM | Epoch 0 | Loss: 0.005806139204651117 | Accuracy: 100.0%\n",
            "ERM | Epoch 0 | Loss: 0.007423266302794218 | Accuracy: 100.0%\n"
          ]
        },
        {
          "output_type": "stream",
          "name": "stderr",
          "text": [
            "Epoch 0:  76%|███████▌  | 569/751 [00:14<00:04, 44.68batch/s, accuracy=100.0%, loss=0.00872]"
          ]
        },
        {
          "output_type": "stream",
          "name": "stdout",
          "text": [
            "ERM | Epoch 0 | Loss: 0.00782486330717802 | Accuracy: 100.0%\n",
            "ERM | Epoch 0 | Loss: 0.006106363143771887 | Accuracy: 100.0%\n",
            "ERM | Epoch 0 | Loss: 0.11248943209648132 | Accuracy: 98.4375%\n",
            "ERM | Epoch 0 | Loss: 0.11275412887334824 | Accuracy: 98.4375%\n",
            "ERM | Epoch 0 | Loss: 0.006432065740227699 | Accuracy: 100.0%\n",
            "ERM | Epoch 0 | Loss: 0.3131561875343323 | Accuracy: 95.3125%\n",
            "ERM | Epoch 0 | Loss: 0.00566450459882617 | Accuracy: 100.0%\n",
            "ERM | Epoch 0 | Loss: 0.006935472134500742 | Accuracy: 100.0%\n",
            "ERM | Epoch 0 | Loss: 0.008717971853911877 | Accuracy: 100.0%\n"
          ]
        },
        {
          "output_type": "stream",
          "name": "stderr",
          "text": [
            "Epoch 0:  77%|███████▋  | 579/751 [00:14<00:04, 42.96batch/s, accuracy=98.4375%, loss=0.161]"
          ]
        },
        {
          "output_type": "stream",
          "name": "stdout",
          "text": [
            "ERM | Epoch 0 | Loss: 0.07627414911985397 | Accuracy: 98.4375%\n",
            "ERM | Epoch 0 | Loss: 0.01662745140492916 | Accuracy: 100.0%\n",
            "ERM | Epoch 0 | Loss: 0.01218209695070982 | Accuracy: 100.0%\n",
            "ERM | Epoch 0 | Loss: 0.013148579746484756 | Accuracy: 100.0%\n",
            "ERM | Epoch 0 | Loss: 0.01188663113862276 | Accuracy: 100.0%\n",
            "ERM | Epoch 0 | Loss: 0.011976134032011032 | Accuracy: 100.0%\n",
            "ERM | Epoch 0 | Loss: 0.005802907515317202 | Accuracy: 100.0%\n",
            "ERM | Epoch 0 | Loss: 0.008196637034416199 | Accuracy: 100.0%\n",
            "ERM | Epoch 0 | Loss: 0.006652949843555689 | Accuracy: 100.0%\n"
          ]
        },
        {
          "output_type": "stream",
          "name": "stderr",
          "text": [
            "Epoch 0:  78%|███████▊  | 589/751 [00:14<00:03, 44.25batch/s, accuracy=100.0%, loss=0.00184]"
          ]
        },
        {
          "output_type": "stream",
          "name": "stdout",
          "text": [
            "ERM | Epoch 0 | Loss: 0.16086168587207794 | Accuracy: 98.4375%\n",
            "ERM | Epoch 0 | Loss: 0.004400159232318401 | Accuracy: 100.0%\n",
            "ERM | Epoch 0 | Loss: 0.0034661053214222193 | Accuracy: 100.0%\n",
            "ERM | Epoch 0 | Loss: 0.0030501484870910645 | Accuracy: 100.0%\n",
            "ERM | Epoch 0 | Loss: 0.093228779733181 | Accuracy: 98.4375%\n",
            "ERM | Epoch 0 | Loss: 0.0028844759799540043 | Accuracy: 100.0%\n",
            "ERM | Epoch 0 | Loss: 0.0033026065211743116 | Accuracy: 100.0%\n",
            "ERM | Epoch 0 | Loss: 0.002488477621227503 | Accuracy: 100.0%\n",
            "ERM | Epoch 0 | Loss: 0.0022890896070748568 | Accuracy: 100.0%\n",
            "ERM | Epoch 0 | Loss: 0.0018373958300799131 | Accuracy: 100.0%\n"
          ]
        },
        {
          "output_type": "stream",
          "name": "stderr",
          "text": [
            "Epoch 0:  80%|███████▉  | 599/751 [00:15<00:03, 44.99batch/s, accuracy=100.0%, loss=0.00432]"
          ]
        },
        {
          "output_type": "stream",
          "name": "stdout",
          "text": [
            "ERM | Epoch 0 | Loss: 0.13025298714637756 | Accuracy: 98.4375%\n",
            "ERM | Epoch 0 | Loss: 0.002071826485916972 | Accuracy: 100.0%\n",
            "ERM | Epoch 0 | Loss: 0.001993396319448948 | Accuracy: 100.0%\n",
            "ERM | Epoch 0 | Loss: 0.0016478938050568104 | Accuracy: 100.0%\n",
            "ERM | Epoch 0 | Loss: 0.11099439859390259 | Accuracy: 98.4375%\n",
            "ERM | Epoch 0 | Loss: 0.002478601410984993 | Accuracy: 100.0%\n",
            "ERM | Epoch 0 | Loss: 0.0027949390932917595 | Accuracy: 100.0%\n",
            "ERM | Epoch 0 | Loss: 0.001978006912395358 | Accuracy: 100.0%\n",
            "ERM | Epoch 0 | Loss: 0.2932743430137634 | Accuracy: 95.3125%\n",
            "ERM | Epoch 0 | Loss: 0.0043220822699368 | Accuracy: 100.0%\n"
          ]
        },
        {
          "output_type": "stream",
          "name": "stderr",
          "text": [
            "Epoch 0:  81%|████████  | 609/751 [00:15<00:03, 45.45batch/s, accuracy=98.4375%, loss=0.0843]"
          ]
        },
        {
          "output_type": "stream",
          "name": "stdout",
          "text": [
            "ERM | Epoch 0 | Loss: 0.17121945321559906 | Accuracy: 98.4375%\n",
            "ERM | Epoch 0 | Loss: 0.009188122116029263 | Accuracy: 100.0%\n",
            "ERM | Epoch 0 | Loss: 0.00921388529241085 | Accuracy: 100.0%\n",
            "ERM | Epoch 0 | Loss: 0.009290584363043308 | Accuracy: 100.0%\n",
            "ERM | Epoch 0 | Loss: 0.07717517018318176 | Accuracy: 98.4375%\n",
            "ERM | Epoch 0 | Loss: 0.06896504014730453 | Accuracy: 98.4375%\n",
            "ERM | Epoch 0 | Loss: 0.010179628618061543 | Accuracy: 100.0%\n",
            "ERM | Epoch 0 | Loss: 0.13314248621463776 | Accuracy: 98.4375%\n",
            "ERM | Epoch 0 | Loss: 0.08430491387844086 | Accuracy: 98.4375%\n"
          ]
        },
        {
          "output_type": "stream",
          "name": "stderr",
          "text": [
            "Epoch 0:  82%|████████▏ | 614/751 [00:15<00:03, 38.65batch/s, accuracy=100.0%, loss=0.0136] "
          ]
        },
        {
          "output_type": "stream",
          "name": "stdout",
          "text": [
            "ERM | Epoch 0 | Loss: 0.1064680963754654 | Accuracy: 98.4375%\n",
            "ERM | Epoch 0 | Loss: 0.126054048538208 | Accuracy: 98.4375%\n",
            "ERM | Epoch 0 | Loss: 0.009538569487631321 | Accuracy: 100.0%\n",
            "ERM | Epoch 0 | Loss: 0.010420169681310654 | Accuracy: 100.0%\n",
            "ERM | Epoch 0 | Loss: 0.009543316438794136 | Accuracy: 100.0%\n",
            "ERM | Epoch 0 | Loss: 0.01364416815340519 | Accuracy: 100.0%\n"
          ]
        },
        {
          "output_type": "stream",
          "name": "stderr",
          "text": [
            "Epoch 0:  82%|████████▏ | 619/751 [00:15<00:03, 33.26batch/s, accuracy=100.0%, loss=0.00833]"
          ]
        },
        {
          "output_type": "stream",
          "name": "stdout",
          "text": [
            "ERM | Epoch 0 | Loss: 0.1131531372666359 | Accuracy: 98.4375%\n",
            "ERM | Epoch 0 | Loss: 0.01150490716099739 | Accuracy: 100.0%\n",
            "ERM | Epoch 0 | Loss: 0.1139783263206482 | Accuracy: 98.4375%\n",
            "ERM | Epoch 0 | Loss: 0.01033115666359663 | Accuracy: 100.0%\n",
            "ERM | Epoch 0 | Loss: 0.009463386610150337 | Accuracy: 100.0%\n",
            "ERM | Epoch 0 | Loss: 0.00832747109234333 | Accuracy: 100.0%\n"
          ]
        },
        {
          "output_type": "stream",
          "name": "stderr",
          "text": [
            "Epoch 0:  83%|████████▎ | 627/751 [00:15<00:04, 30.29batch/s, accuracy=100.0%, loss=0.0043] "
          ]
        },
        {
          "output_type": "stream",
          "name": "stdout",
          "text": [
            "ERM | Epoch 0 | Loss: 0.00841947179287672 | Accuracy: 100.0%\n",
            "ERM | Epoch 0 | Loss: 0.008064129389822483 | Accuracy: 100.0%\n",
            "ERM | Epoch 0 | Loss: 0.0060539087280631065 | Accuracy: 100.0%\n",
            "ERM | Epoch 0 | Loss: 0.13442584872245789 | Accuracy: 98.4375%\n",
            "ERM | Epoch 0 | Loss: 0.004647407680749893 | Accuracy: 100.0%\n",
            "ERM | Epoch 0 | Loss: 0.004301854874938726 | Accuracy: 100.0%\n"
          ]
        },
        {
          "output_type": "stream",
          "name": "stderr",
          "text": [
            "Epoch 0:  84%|████████▍ | 631/751 [00:16<00:04, 29.54batch/s, accuracy=98.4375%, loss=0.103]"
          ]
        },
        {
          "output_type": "stream",
          "name": "stdout",
          "text": [
            "ERM | Epoch 0 | Loss: 0.1334286779165268 | Accuracy: 98.4375%\n",
            "ERM | Epoch 0 | Loss: 0.003026253078132868 | Accuracy: 100.0%\n",
            "ERM | Epoch 0 | Loss: 0.09989050030708313 | Accuracy: 98.4375%\n",
            "ERM | Epoch 0 | Loss: 0.10042975097894669 | Accuracy: 98.4375%\n",
            "ERM | Epoch 0 | Loss: 0.005828922614455223 | Accuracy: 100.0%\n",
            "ERM | Epoch 0 | Loss: 0.10324247926473618 | Accuracy: 98.4375%\n"
          ]
        },
        {
          "output_type": "stream",
          "name": "stderr",
          "text": [
            "Epoch 0:  85%|████████▍ | 638/751 [00:16<00:04, 28.17batch/s, accuracy=98.4375%, loss=0.134]"
          ]
        },
        {
          "output_type": "stream",
          "name": "stdout",
          "text": [
            "ERM | Epoch 0 | Loss: 0.015352088958024979 | Accuracy: 100.0%\n",
            "ERM | Epoch 0 | Loss: 0.012957565486431122 | Accuracy: 100.0%\n",
            "ERM | Epoch 0 | Loss: 0.011651279404759407 | Accuracy: 100.0%\n",
            "ERM | Epoch 0 | Loss: 0.009731748141348362 | Accuracy: 100.0%\n",
            "ERM | Epoch 0 | Loss: 0.4109446108341217 | Accuracy: 95.3125%\n",
            "ERM | Epoch 0 | Loss: 0.13382989168167114 | Accuracy: 98.4375%\n"
          ]
        },
        {
          "output_type": "stream",
          "name": "stderr",
          "text": [
            "Epoch 0:  86%|████████▌ | 644/751 [00:16<00:03, 27.05batch/s, accuracy=100.0%, loss=0.00926]"
          ]
        },
        {
          "output_type": "stream",
          "name": "stdout",
          "text": [
            "ERM | Epoch 0 | Loss: 0.14201371371746063 | Accuracy: 98.4375%\n",
            "ERM | Epoch 0 | Loss: 0.006205267738550901 | Accuracy: 100.0%\n",
            "ERM | Epoch 0 | Loss: 0.00724628334864974 | Accuracy: 100.0%\n",
            "ERM | Epoch 0 | Loss: 0.011439763009548187 | Accuracy: 100.0%\n",
            "ERM | Epoch 0 | Loss: 0.012746577151119709 | Accuracy: 100.0%\n",
            "ERM | Epoch 0 | Loss: 0.009256212040781975 | Accuracy: 100.0%\n"
          ]
        },
        {
          "output_type": "stream",
          "name": "stderr",
          "text": [
            "Epoch 0:  87%|████████▋ | 652/751 [00:16<00:03, 29.00batch/s, accuracy=100.0%, loss=0.00948]"
          ]
        },
        {
          "output_type": "stream",
          "name": "stdout",
          "text": [
            "ERM | Epoch 0 | Loss: 0.014635182917118073 | Accuracy: 100.0%\n",
            "ERM | Epoch 0 | Loss: 0.014388512820005417 | Accuracy: 100.0%\n",
            "ERM | Epoch 0 | Loss: 0.010469592176377773 | Accuracy: 100.0%\n",
            "ERM | Epoch 0 | Loss: 0.00924969557672739 | Accuracy: 100.0%\n",
            "ERM | Epoch 0 | Loss: 0.01025525201112032 | Accuracy: 100.0%\n",
            "ERM | Epoch 0 | Loss: 0.009477473795413971 | Accuracy: 100.0%\n"
          ]
        },
        {
          "output_type": "stream",
          "name": "stderr",
          "text": [
            "Epoch 0:  88%|████████▊ | 658/751 [00:17<00:03, 28.23batch/s, accuracy=100.0%, loss=0.00259]"
          ]
        },
        {
          "output_type": "stream",
          "name": "stdout",
          "text": [
            "ERM | Epoch 0 | Loss: 0.008308378979563713 | Accuracy: 100.0%\n",
            "ERM | Epoch 0 | Loss: 0.008543475531041622 | Accuracy: 100.0%\n",
            "ERM | Epoch 0 | Loss: 0.00736824469640851 | Accuracy: 100.0%\n",
            "ERM | Epoch 0 | Loss: 0.003801983315497637 | Accuracy: 100.0%\n",
            "ERM | Epoch 0 | Loss: 0.003072338178753853 | Accuracy: 100.0%\n",
            "ERM | Epoch 0 | Loss: 0.0025937985628843307 | Accuracy: 100.0%\n"
          ]
        },
        {
          "output_type": "stream",
          "name": "stderr",
          "text": [
            "Epoch 0:  89%|████████▊ | 665/751 [00:17<00:02, 28.71batch/s, accuracy=98.4375%, loss=0.145]"
          ]
        },
        {
          "output_type": "stream",
          "name": "stdout",
          "text": [
            "ERM | Epoch 0 | Loss: 0.002161548472940922 | Accuracy: 100.0%\n",
            "ERM | Epoch 0 | Loss: 0.15059900283813477 | Accuracy: 98.4375%\n",
            "ERM | Epoch 0 | Loss: 0.0014737362507730722 | Accuracy: 100.0%\n",
            "ERM | Epoch 0 | Loss: 0.0012113574193790555 | Accuracy: 100.0%\n",
            "ERM | Epoch 0 | Loss: 0.0013790482189506292 | Accuracy: 100.0%\n",
            "ERM | Epoch 0 | Loss: 0.0013996476773172617 | Accuracy: 100.0%\n",
            "ERM | Epoch 0 | Loss: 0.14465594291687012 | Accuracy: 98.4375%\n"
          ]
        },
        {
          "output_type": "stream",
          "name": "stderr",
          "text": [
            "Epoch 0:  89%|████████▉ | 671/751 [00:17<00:02, 28.55batch/s, accuracy=98.4375%, loss=0.147]"
          ]
        },
        {
          "output_type": "stream",
          "name": "stdout",
          "text": [
            "ERM | Epoch 0 | Loss: 0.0013471681158989668 | Accuracy: 100.0%\n",
            "ERM | Epoch 0 | Loss: 0.15709884464740753 | Accuracy: 98.4375%\n",
            "ERM | Epoch 0 | Loss: 0.001377250999212265 | Accuracy: 100.0%\n",
            "ERM | Epoch 0 | Loss: 0.10222303122282028 | Accuracy: 98.4375%\n",
            "ERM | Epoch 0 | Loss: 0.0020300461910665035 | Accuracy: 100.0%\n",
            "ERM | Epoch 0 | Loss: 0.14732840657234192 | Accuracy: 98.4375%\n"
          ]
        },
        {
          "output_type": "stream",
          "name": "stderr",
          "text": [
            "Epoch 0:  90%|█████████ | 677/751 [00:17<00:02, 27.16batch/s, accuracy=98.4375%, loss=0.13]"
          ]
        },
        {
          "output_type": "stream",
          "name": "stdout",
          "text": [
            "ERM | Epoch 0 | Loss: 0.003580814925953746 | Accuracy: 100.0%\n",
            "ERM | Epoch 0 | Loss: 0.0036385084968060255 | Accuracy: 100.0%\n",
            "ERM | Epoch 0 | Loss: 0.004165156278759241 | Accuracy: 100.0%\n",
            "ERM | Epoch 0 | Loss: 0.005492351017892361 | Accuracy: 100.0%\n",
            "ERM | Epoch 0 | Loss: 0.14868973195552826 | Accuracy: 98.4375%\n",
            "ERM | Epoch 0 | Loss: 0.13029439747333527 | Accuracy: 98.4375%\n"
          ]
        },
        {
          "output_type": "stream",
          "name": "stderr",
          "text": [
            "Epoch 0:  91%|█████████ | 683/751 [00:17<00:02, 27.94batch/s, accuracy=100.0%, loss=0.00985]"
          ]
        },
        {
          "output_type": "stream",
          "name": "stdout",
          "text": [
            "ERM | Epoch 0 | Loss: 0.005067682359367609 | Accuracy: 100.0%\n",
            "ERM | Epoch 0 | Loss: 0.16132116317749023 | Accuracy: 98.4375%\n",
            "ERM | Epoch 0 | Loss: 0.006372491829097271 | Accuracy: 100.0%\n",
            "ERM | Epoch 0 | Loss: 0.2117571383714676 | Accuracy: 96.875%\n",
            "ERM | Epoch 0 | Loss: 0.009834949858486652 | Accuracy: 100.0%\n",
            "ERM | Epoch 0 | Loss: 0.00985145103186369 | Accuracy: 100.0%\n"
          ]
        },
        {
          "output_type": "stream",
          "name": "stderr",
          "text": [
            "Epoch 0:  92%|█████████▏| 689/751 [00:18<00:02, 27.05batch/s, accuracy=98.4375%, loss=0.15]"
          ]
        },
        {
          "output_type": "stream",
          "name": "stdout",
          "text": [
            "ERM | Epoch 0 | Loss: 0.009835785254836082 | Accuracy: 100.0%\n",
            "ERM | Epoch 0 | Loss: 0.010289265774190426 | Accuracy: 100.0%\n",
            "ERM | Epoch 0 | Loss: 0.011169029399752617 | Accuracy: 100.0%\n",
            "ERM | Epoch 0 | Loss: 0.11687412112951279 | Accuracy: 98.4375%\n",
            "ERM | Epoch 0 | Loss: 0.21778026223182678 | Accuracy: 96.875%\n",
            "ERM | Epoch 0 | Loss: 0.14991509914398193 | Accuracy: 98.4375%\n"
          ]
        },
        {
          "output_type": "stream",
          "name": "stderr",
          "text": [
            "Epoch 0:  93%|█████████▎| 695/751 [00:18<00:02, 26.46batch/s, accuracy=100.0%, loss=0.00951]"
          ]
        },
        {
          "output_type": "stream",
          "name": "stdout",
          "text": [
            "ERM | Epoch 0 | Loss: 0.013994046486914158 | Accuracy: 100.0%\n",
            "ERM | Epoch 0 | Loss: 0.01372621301561594 | Accuracy: 100.0%\n",
            "ERM | Epoch 0 | Loss: 0.012060655280947685 | Accuracy: 100.0%\n",
            "ERM | Epoch 0 | Loss: 0.013712444342672825 | Accuracy: 100.0%\n",
            "ERM | Epoch 0 | Loss: 0.010157671757042408 | Accuracy: 100.0%\n",
            "ERM | Epoch 0 | Loss: 0.009509515017271042 | Accuracy: 100.0%\n"
          ]
        },
        {
          "output_type": "stream",
          "name": "stderr",
          "text": [
            "Epoch 0:  93%|█████████▎| 701/751 [00:18<00:01, 26.33batch/s, accuracy=100.0%, loss=0.0049]"
          ]
        },
        {
          "output_type": "stream",
          "name": "stdout",
          "text": [
            "ERM | Epoch 0 | Loss: 0.007733761332929134 | Accuracy: 100.0%\n",
            "ERM | Epoch 0 | Loss: 0.00845349207520485 | Accuracy: 100.0%\n",
            "ERM | Epoch 0 | Loss: 0.13646389544010162 | Accuracy: 98.4375%\n",
            "ERM | Epoch 0 | Loss: 0.006436222232878208 | Accuracy: 100.0%\n",
            "ERM | Epoch 0 | Loss: 0.09410962462425232 | Accuracy: 98.4375%\n",
            "ERM | Epoch 0 | Loss: 0.004902025684714317 | Accuracy: 100.0%\n"
          ]
        },
        {
          "output_type": "stream",
          "name": "stderr",
          "text": [
            "Epoch 0:  94%|█████████▍| 707/751 [00:18<00:01, 26.63batch/s, accuracy=100.0%, loss=0.00598]"
          ]
        },
        {
          "output_type": "stream",
          "name": "stdout",
          "text": [
            "ERM | Epoch 0 | Loss: 0.006065854337066412 | Accuracy: 100.0%\n",
            "ERM | Epoch 0 | Loss: 0.1228780522942543 | Accuracy: 98.4375%\n",
            "ERM | Epoch 0 | Loss: 0.005728012416511774 | Accuracy: 100.0%\n",
            "ERM | Epoch 0 | Loss: 0.005156303755939007 | Accuracy: 100.0%\n",
            "ERM | Epoch 0 | Loss: 0.004629428498446941 | Accuracy: 100.0%\n",
            "ERM | Epoch 0 | Loss: 0.0059795258566737175 | Accuracy: 100.0%\n"
          ]
        },
        {
          "output_type": "stream",
          "name": "stderr",
          "text": [
            "Epoch 0:  95%|█████████▍| 713/751 [00:19<00:01, 27.15batch/s, accuracy=100.0%, loss=0.00202]"
          ]
        },
        {
          "output_type": "stream",
          "name": "stdout",
          "text": [
            "ERM | Epoch 0 | Loss: 0.0048529948107898235 | Accuracy: 100.0%\n",
            "ERM | Epoch 0 | Loss: 0.003945330623537302 | Accuracy: 100.0%\n",
            "ERM | Epoch 0 | Loss: 0.002943299477919936 | Accuracy: 100.0%\n",
            "ERM | Epoch 0 | Loss: 0.0029122394043952227 | Accuracy: 100.0%\n",
            "ERM | Epoch 0 | Loss: 0.1285189688205719 | Accuracy: 98.4375%\n",
            "ERM | Epoch 0 | Loss: 0.0020192055962979794 | Accuracy: 100.0%\n"
          ]
        },
        {
          "output_type": "stream",
          "name": "stderr",
          "text": [
            "Epoch 0:  96%|█████████▌| 719/751 [00:19<00:01, 27.14batch/s, accuracy=100.0%, loss=0.00504]"
          ]
        },
        {
          "output_type": "stream",
          "name": "stdout",
          "text": [
            "ERM | Epoch 0 | Loss: 0.10813085734844208 | Accuracy: 98.4375%\n",
            "ERM | Epoch 0 | Loss: 0.0024194889701902866 | Accuracy: 100.0%\n",
            "ERM | Epoch 0 | Loss: 0.002991716843098402 | Accuracy: 100.0%\n",
            "ERM | Epoch 0 | Loss: 0.0036104910541325808 | Accuracy: 100.0%\n",
            "ERM | Epoch 0 | Loss: 0.1255260705947876 | Accuracy: 98.4375%\n",
            "ERM | Epoch 0 | Loss: 0.0050439550541341305 | Accuracy: 100.0%\n"
          ]
        },
        {
          "output_type": "stream",
          "name": "stderr",
          "text": [
            "Epoch 0:  96%|█████████▋| 724/751 [00:19<00:00, 32.36batch/s, accuracy=98.4375%, loss=0.163]"
          ]
        },
        {
          "output_type": "stream",
          "name": "stdout",
          "text": [
            "ERM | Epoch 0 | Loss: 0.006620605476200581 | Accuracy: 100.0%\n",
            "ERM | Epoch 0 | Loss: 0.005936902016401291 | Accuracy: 100.0%\n",
            "ERM | Epoch 0 | Loss: 0.006375099997967482 | Accuracy: 100.0%\n",
            "ERM | Epoch 0 | Loss: 0.004798054229468107 | Accuracy: 100.0%\n",
            "ERM | Epoch 0 | Loss: 0.0028341792058199644 | Accuracy: 100.0%\n",
            "ERM | Epoch 0 | Loss: 0.004364239517599344 | Accuracy: 100.0%\n",
            "ERM | Epoch 0 | Loss: 0.002481915755197406 | Accuracy: 100.0%\n",
            "ERM | Epoch 0 | Loss: 0.15061113238334656 | Accuracy: 98.4375%\n",
            "ERM | Epoch 0 | Loss: 0.1626473218202591 | Accuracy: 98.4375%\n"
          ]
        },
        {
          "output_type": "stream",
          "name": "stderr",
          "text": [
            "Epoch 0:  98%|█████████▊| 734/751 [00:19<00:00, 37.63batch/s, accuracy=98.4375%, loss=0.111]"
          ]
        },
        {
          "output_type": "stream",
          "name": "stdout",
          "text": [
            "ERM | Epoch 0 | Loss: 0.0035012781154364347 | Accuracy: 100.0%\n",
            "ERM | Epoch 0 | Loss: 0.11985813826322556 | Accuracy: 98.4375%\n",
            "ERM | Epoch 0 | Loss: 0.13680019974708557 | Accuracy: 98.4375%\n",
            "ERM | Epoch 0 | Loss: 0.004282492678612471 | Accuracy: 100.0%\n",
            "ERM | Epoch 0 | Loss: 0.0053465343080461025 | Accuracy: 100.0%\n",
            "ERM | Epoch 0 | Loss: 0.006009641569107771 | Accuracy: 100.0%\n",
            "ERM | Epoch 0 | Loss: 0.008600112982094288 | Accuracy: 100.0%\n",
            "ERM | Epoch 0 | Loss: 0.008398224599659443 | Accuracy: 100.0%\n",
            "ERM | Epoch 0 | Loss: 0.11120826750993729 | Accuracy: 98.4375%\n"
          ]
        },
        {
          "output_type": "stream",
          "name": "stderr",
          "text": [
            "Epoch 0:  99%|█████████▉| 743/751 [00:19<00:00, 38.19batch/s, accuracy=96.875%, loss=0.256]"
          ]
        },
        {
          "output_type": "stream",
          "name": "stdout",
          "text": [
            "ERM | Epoch 0 | Loss: 0.007629780564457178 | Accuracy: 100.0%\n",
            "ERM | Epoch 0 | Loss: 0.010158208198845387 | Accuracy: 100.0%\n",
            "ERM | Epoch 0 | Loss: 0.010434936732053757 | Accuracy: 100.0%\n",
            "ERM | Epoch 0 | Loss: 0.00705661391839385 | Accuracy: 100.0%\n",
            "ERM | Epoch 0 | Loss: 0.1476878821849823 | Accuracy: 98.4375%\n",
            "ERM | Epoch 0 | Loss: 0.006909712217748165 | Accuracy: 100.0%\n",
            "ERM | Epoch 0 | Loss: 0.005298929288983345 | Accuracy: 100.0%\n",
            "ERM | Epoch 0 | Loss: 0.004101310856640339 | Accuracy: 100.0%\n",
            "ERM | Epoch 0 | Loss: 0.2563197910785675 | Accuracy: 96.875%\n"
          ]
        },
        {
          "output_type": "stream",
          "name": "stderr",
          "text": [
            "Epoch 0: 100%|█████████▉| 748/751 [00:20<00:00, 41.07batch/s, accuracy=100.0%, loss=0.00474]"
          ]
        },
        {
          "output_type": "stream",
          "name": "stdout",
          "text": [
            "ERM | Epoch 0 | Loss: 0.12349579483270645 | Accuracy: 98.4375%\n",
            "ERM | Epoch 0 | Loss: 0.004005237948149443 | Accuracy: 100.0%\n",
            "ERM | Epoch 0 | Loss: 0.0037333930376917124 | Accuracy: 100.0%\n",
            "ERM | Epoch 0 | Loss: 0.11890167742967606 | Accuracy: 98.4375%\n",
            "ERM | Epoch 0 | Loss: 0.0047407145611941814 | Accuracy: 100.0%\n"
          ]
        },
        {
          "output_type": "stream",
          "name": "stderr",
          "text": [
            "\rEpoch 0: 100%|██████████| 751/751 [00:20<00:00, 37.16batch/s, accuracy=100.0%, loss=0.00474]\n"
          ]
        }
      ]
    },
    {
      "cell_type": "code",
      "source": [
        "from spuco.evaluate import Evaluator\n",
        "\n",
        "evaluator = Evaluator(\n",
        "    testset=testset,\n",
        "    group_partition=testset.group_partition,\n",
        "    group_weights=testset.group_weights,\n",
        "    batch_size=64,\n",
        "    model=model,\n",
        "    device=\"cpu\",\n",
        "    verbose=True\n",
        ")\n",
        "evaluator.evaluate()"
      ],
      "metadata": {
        "id": "hBUUpvzEbLv_",
        "colab": {
          "base_uri": "https://localhost:8080/"
        },
        "outputId": "ff4cafba-3620-461e-e1ff-3f3d9ad54754"
      },
      "execution_count": null,
      "outputs": [
        {
          "output_type": "stream",
          "name": "stderr",
          "text": [
            "Evaluating group-wise accuracy:   4%|▍         | 1/25 [00:00<00:11,  2.14it/s]"
          ]
        },
        {
          "output_type": "stream",
          "name": "stdout",
          "text": [
            "Group (0, 0) Accuracy: 100.0\n"
          ]
        },
        {
          "output_type": "stream",
          "name": "stderr",
          "text": [
            "\rEvaluating group-wise accuracy:   8%|▊         | 2/25 [00:00<00:11,  2.08it/s]"
          ]
        },
        {
          "output_type": "stream",
          "name": "stdout",
          "text": [
            "Group (0, 1) Accuracy: 0.0\n"
          ]
        },
        {
          "output_type": "stream",
          "name": "stderr",
          "text": [
            "\rEvaluating group-wise accuracy:  12%|█▏        | 3/25 [00:01<00:10,  2.12it/s]"
          ]
        },
        {
          "output_type": "stream",
          "name": "stdout",
          "text": [
            "Group (0, 2) Accuracy: 0.0\n"
          ]
        },
        {
          "output_type": "stream",
          "name": "stderr",
          "text": [
            "\rEvaluating group-wise accuracy:  16%|█▌        | 4/25 [00:01<00:09,  2.11it/s]"
          ]
        },
        {
          "output_type": "stream",
          "name": "stdout",
          "text": [
            "Group (0, 3) Accuracy: 0.0\n"
          ]
        },
        {
          "output_type": "stream",
          "name": "stderr",
          "text": [
            "\rEvaluating group-wise accuracy:  20%|██        | 5/25 [00:02<00:09,  2.12it/s]"
          ]
        },
        {
          "output_type": "stream",
          "name": "stdout",
          "text": [
            "Group (0, 4) Accuracy: 0.0\n"
          ]
        },
        {
          "output_type": "stream",
          "name": "stderr",
          "text": [
            "\rEvaluating group-wise accuracy:  24%|██▍       | 6/25 [00:02<00:09,  2.10it/s]"
          ]
        },
        {
          "output_type": "stream",
          "name": "stdout",
          "text": [
            "Group (1, 0) Accuracy: 0.0\n"
          ]
        },
        {
          "output_type": "stream",
          "name": "stderr",
          "text": [
            "\rEvaluating group-wise accuracy:  28%|██▊       | 7/25 [00:03<00:08,  2.04it/s]"
          ]
        },
        {
          "output_type": "stream",
          "name": "stdout",
          "text": [
            "Group (1, 1) Accuracy: 100.0\n"
          ]
        },
        {
          "output_type": "stream",
          "name": "stderr",
          "text": [
            "\rEvaluating group-wise accuracy:  32%|███▏      | 8/25 [00:03<00:08,  2.04it/s]"
          ]
        },
        {
          "output_type": "stream",
          "name": "stdout",
          "text": [
            "Group (1, 2) Accuracy: 0.0\n"
          ]
        },
        {
          "output_type": "stream",
          "name": "stderr",
          "text": [
            "\rEvaluating group-wise accuracy:  36%|███▌      | 9/25 [00:04<00:07,  2.07it/s]"
          ]
        },
        {
          "output_type": "stream",
          "name": "stdout",
          "text": [
            "Group (1, 3) Accuracy: 0.0\n"
          ]
        },
        {
          "output_type": "stream",
          "name": "stderr",
          "text": [
            "\rEvaluating group-wise accuracy:  40%|████      | 10/25 [00:04<00:07,  2.08it/s]"
          ]
        },
        {
          "output_type": "stream",
          "name": "stdout",
          "text": [
            "Group (1, 4) Accuracy: 0.0\n"
          ]
        },
        {
          "output_type": "stream",
          "name": "stderr",
          "text": [
            "\rEvaluating group-wise accuracy:  44%|████▍     | 11/25 [00:05<00:06,  2.08it/s]"
          ]
        },
        {
          "output_type": "stream",
          "name": "stdout",
          "text": [
            "Group (2, 0) Accuracy: 0.0\n"
          ]
        },
        {
          "output_type": "stream",
          "name": "stderr",
          "text": [
            "\rEvaluating group-wise accuracy:  48%|████▊     | 12/25 [00:05<00:06,  2.11it/s]"
          ]
        },
        {
          "output_type": "stream",
          "name": "stdout",
          "text": [
            "Group (2, 1) Accuracy: 0.0\n"
          ]
        },
        {
          "output_type": "stream",
          "name": "stderr",
          "text": [
            "\rEvaluating group-wise accuracy:  52%|█████▏    | 13/25 [00:06<00:05,  2.11it/s]"
          ]
        },
        {
          "output_type": "stream",
          "name": "stdout",
          "text": [
            "Group (2, 2) Accuracy: 100.0\n"
          ]
        },
        {
          "output_type": "stream",
          "name": "stderr",
          "text": [
            "\rEvaluating group-wise accuracy:  56%|█████▌    | 14/25 [00:06<00:05,  2.12it/s]"
          ]
        },
        {
          "output_type": "stream",
          "name": "stdout",
          "text": [
            "Group (2, 3) Accuracy: 0.0\n"
          ]
        },
        {
          "output_type": "stream",
          "name": "stderr",
          "text": [
            "\rEvaluating group-wise accuracy:  60%|██████    | 15/25 [00:07<00:04,  2.11it/s]"
          ]
        },
        {
          "output_type": "stream",
          "name": "stdout",
          "text": [
            "Group (2, 4) Accuracy: 0.0\n"
          ]
        },
        {
          "output_type": "stream",
          "name": "stderr",
          "text": [
            "\rEvaluating group-wise accuracy:  64%|██████▍   | 16/25 [00:07<00:04,  2.13it/s]"
          ]
        },
        {
          "output_type": "stream",
          "name": "stdout",
          "text": [
            "Group (3, 0) Accuracy: 0.0\n"
          ]
        },
        {
          "output_type": "stream",
          "name": "stderr",
          "text": [
            "\rEvaluating group-wise accuracy:  68%|██████▊   | 17/25 [00:08<00:03,  2.10it/s]"
          ]
        },
        {
          "output_type": "stream",
          "name": "stdout",
          "text": [
            "Group (3, 1) Accuracy: 0.0\n"
          ]
        },
        {
          "output_type": "stream",
          "name": "stderr",
          "text": [
            "\rEvaluating group-wise accuracy:  72%|███████▏  | 18/25 [00:08<00:03,  2.10it/s]"
          ]
        },
        {
          "output_type": "stream",
          "name": "stdout",
          "text": [
            "Group (3, 2) Accuracy: 0.0\n"
          ]
        },
        {
          "output_type": "stream",
          "name": "stderr",
          "text": [
            "\rEvaluating group-wise accuracy:  76%|███████▌  | 19/25 [00:09<00:02,  2.07it/s]"
          ]
        },
        {
          "output_type": "stream",
          "name": "stdout",
          "text": [
            "Group (3, 3) Accuracy: 100.0\n"
          ]
        },
        {
          "output_type": "stream",
          "name": "stderr",
          "text": [
            "\rEvaluating group-wise accuracy:  80%|████████  | 20/25 [00:09<00:02,  1.74it/s]"
          ]
        },
        {
          "output_type": "stream",
          "name": "stdout",
          "text": [
            "Group (3, 4) Accuracy: 0.0\n"
          ]
        },
        {
          "output_type": "stream",
          "name": "stderr",
          "text": [
            "\rEvaluating group-wise accuracy:  84%|████████▍ | 21/25 [00:10<00:02,  1.58it/s]"
          ]
        },
        {
          "output_type": "stream",
          "name": "stdout",
          "text": [
            "Group (4, 0) Accuracy: 0.0\n"
          ]
        },
        {
          "output_type": "stream",
          "name": "stderr",
          "text": [
            "\rEvaluating group-wise accuracy:  88%|████████▊ | 22/25 [00:11<00:02,  1.48it/s]"
          ]
        },
        {
          "output_type": "stream",
          "name": "stdout",
          "text": [
            "Group (4, 1) Accuracy: 0.0\n"
          ]
        },
        {
          "output_type": "stream",
          "name": "stderr",
          "text": [
            "\rEvaluating group-wise accuracy:  92%|█████████▏| 23/25 [00:12<00:01,  1.44it/s]"
          ]
        },
        {
          "output_type": "stream",
          "name": "stdout",
          "text": [
            "Group (4, 2) Accuracy: 0.0\n"
          ]
        },
        {
          "output_type": "stream",
          "name": "stderr",
          "text": [
            "\rEvaluating group-wise accuracy:  96%|█████████▌| 24/25 [00:12<00:00,  1.52it/s]"
          ]
        },
        {
          "output_type": "stream",
          "name": "stdout",
          "text": [
            "Group (4, 3) Accuracy: 0.0\n"
          ]
        },
        {
          "output_type": "stream",
          "name": "stderr",
          "text": [
            "Evaluating group-wise accuracy: 100%|██████████| 25/25 [00:13<00:00,  1.89it/s]"
          ]
        },
        {
          "output_type": "stream",
          "name": "stdout",
          "text": [
            "Group (4, 4) Accuracy: 100.0\n"
          ]
        },
        {
          "output_type": "stream",
          "name": "stderr",
          "text": [
            "\n"
          ]
        },
        {
          "output_type": "execute_result",
          "data": {
            "text/plain": [
              "{(0, 0): 100.0,\n",
              " (0, 1): 0.0,\n",
              " (0, 2): 0.0,\n",
              " (0, 3): 0.0,\n",
              " (0, 4): 0.0,\n",
              " (1, 0): 0.0,\n",
              " (1, 1): 100.0,\n",
              " (1, 2): 0.0,\n",
              " (1, 3): 0.0,\n",
              " (1, 4): 0.0,\n",
              " (2, 0): 0.0,\n",
              " (2, 1): 0.0,\n",
              " (2, 2): 100.0,\n",
              " (2, 3): 0.0,\n",
              " (2, 4): 0.0,\n",
              " (3, 0): 0.0,\n",
              " (3, 1): 0.0,\n",
              " (3, 2): 0.0,\n",
              " (3, 3): 100.0,\n",
              " (3, 4): 0.0,\n",
              " (4, 0): 0.0,\n",
              " (4, 1): 0.0,\n",
              " (4, 2): 0.0,\n",
              " (4, 3): 0.0,\n",
              " (4, 4): 100.0}"
            ]
          },
          "metadata": {},
          "execution_count": 39
        }
      ]
    },
    {
      "cell_type": "code",
      "source": [
        "evaluator.worst_group_accuracy"
      ],
      "metadata": {
        "id": "p-M5ARBKBHtr",
        "colab": {
          "base_uri": "https://localhost:8080/"
        },
        "outputId": "f68bfe53-aacc-4ab5-8db5-eeb595b694e7"
      },
      "execution_count": null,
      "outputs": [
        {
          "output_type": "execute_result",
          "data": {
            "text/plain": [
              "((0, 1), 0.0)"
            ]
          },
          "metadata": {},
          "execution_count": 40
        }
      ]
    },
    {
      "cell_type": "code",
      "source": [
        "evaluator.average_accuracy"
      ],
      "metadata": {
        "id": "2f_umse9BJKF",
        "colab": {
          "base_uri": "https://localhost:8080/"
        },
        "outputId": "585e97ec-5d62-47bb-987a-3b0fda0aa403"
      },
      "execution_count": null,
      "outputs": [
        {
          "output_type": "execute_result",
          "data": {
            "text/plain": [
              "20.0"
            ]
          },
          "metadata": {},
          "execution_count": 41
        }
      ]
    },
    {
      "cell_type": "code",
      "source": [
        "evaluator.evaluate_spurious_attribute_prediction()"
      ],
      "metadata": {
        "id": "ExL-A9WsBKGe",
        "colab": {
          "base_uri": "https://localhost:8080/"
        },
        "outputId": "6d160160-28cf-4d41-de9e-79727b1de705"
      },
      "execution_count": null,
      "outputs": [
        {
          "output_type": "execute_result",
          "data": {
            "text/plain": [
              "20.29"
            ]
          },
          "metadata": {},
          "execution_count": 42
        }
      ]
    },
    {
      "cell_type": "code",
      "source": [
        "print(trainset.group_weights)\n",
        "print(testset.group_weights)\n",
        "\n",
        "# poor evaluations on test set cases where label =/= spurious label\n",
        "# this makes sense when you see that there are very few samples in the training\n",
        "# set where this is the case"
      ],
      "metadata": {
        "id": "n5xKD9dPdDDF",
        "colab": {
          "base_uri": "https://localhost:8080/"
        },
        "outputId": "e5262072-f041-4669-e8d4-8a68110973b5"
      },
      "execution_count": null,
      "outputs": [
        {
          "output_type": "stream",
          "name": "stdout",
          "text": [
            "{(2, 2): 0.1867552703941338, (0, 0): 0.2100241646529456, (4, 4): 0.19567119406716107, (1, 1): 0.20046246146154487, (3, 3): 0.20202483126406132, (4, 1): 0.0002916423631364053, (1, 4): 0.0002916423631364053, (3, 4): 0.0002708107657695192, (2, 1): 0.0002499791684026331, (3, 1): 0.0002499791684026331, (1, 0): 0.0003541371552370636, (1, 2): 0.00018748437630197485, (1, 3): 0.00018748437630197485, (2, 3): 0.00018748437630197485, (4, 0): 0.00016665277893508876, (0, 1): 0.00016665277893508876, (4, 3): 0.00016665277893508876, (4, 2): 0.0003749687526039497, (0, 3): 0.0003124739605032914, (0, 2): 0.0004166319473377219, (0, 4): 0.00016665277893508876, (3, 2): 0.00020831597366886094, (2, 0): 0.00018748437630197485, (2, 4): 0.0003333055578701775, (3, 0): 0.0002916423631364053}\n",
            "{(3, 3): 0.0397, (1, 0): 0.0409, (0, 4): 0.0423, (0, 0): 0.0423, (2, 3): 0.0375, (0, 2): 0.0423, (2, 0): 0.0375, (4, 4): 0.0396, (2, 4): 0.0374, (4, 0): 0.0397, (4, 1): 0.0397, (0, 1): 0.0423, (2, 1): 0.0375, (3, 1): 0.0397, (1, 1): 0.0409, (2, 2): 0.0375, (3, 0): 0.0398, (3, 2): 0.0397, (1, 3): 0.0408, (0, 3): 0.0423, (1, 2): 0.0408, (1, 4): 0.0408, (3, 4): 0.0397, (4, 3): 0.0396, (4, 2): 0.0397}\n"
          ]
        }
      ]
    },
    {
      "cell_type": "markdown",
      "source": [
        "**2. Clustering based on output produced for ERM**"
      ],
      "metadata": {
        "id": "nm9-CUx0dzX8"
      }
    },
    {
      "cell_type": "code",
      "source": [
        "from spuco.utils import get_model_outputs\n",
        "\n",
        "erm_superclass_pred = get_model_outputs(\n",
        "    model = model,\n",
        "    dataset = trainset,\n",
        "    device = \"cpu\",\n",
        "    verbose = True\n",
        ")"
      ],
      "metadata": {
        "id": "evvgYsqYIQSQ",
        "colab": {
          "base_uri": "https://localhost:8080/"
        },
        "outputId": "a094db42-d096-4225-f614-255c0d21ba12"
      },
      "execution_count": null,
      "outputs": [
        {
          "output_type": "stream",
          "name": "stderr",
          "text": [
            "Getting model outputs: 100%|██████████| 751/751 [00:09<00:00, 80.60batch/s]\n"
          ]
        }
      ]
    },
    {
      "cell_type": "code",
      "source": [
        "erm_superclass_pred[0:5]"
      ],
      "metadata": {
        "id": "SJfxjEcLIXjb",
        "colab": {
          "base_uri": "https://localhost:8080/"
        },
        "outputId": "dc6895ed-b227-481f-d931-54655adaf285"
      },
      "execution_count": null,
      "outputs": [
        {
          "output_type": "execute_result",
          "data": {
            "text/plain": [
              "tensor([[-0.7980, -1.0649,  7.8168,  0.1162, -1.2008],\n",
              "        [ 5.2946, -1.2267, -0.8801, -0.5173, -0.0895],\n",
              "        [-0.8492, -1.0603,  8.3519,  0.0234, -1.2803],\n",
              "        [ 5.4859, -1.3604, -0.8865, -0.5351, -0.1236],\n",
              "        [-1.8198, -1.1841, -0.5390,  0.4735,  6.1069]])"
            ]
          },
          "metadata": {},
          "execution_count": 45
        }
      ]
    },
    {
      "cell_type": "code",
      "source": [
        "from spuco.group_inference import Cluster\n",
        "\n",
        "cluster = Cluster(\n",
        "    # clustering within each superclass\n",
        "    Z = erm_superclass_pred,\n",
        "    class_labels = trainset.labels,\n",
        "    max_clusters = 5,\n",
        "    verbose = True\n",
        ")\n",
        "\n",
        "cluster_partition = (cluster.infer_groups())"
      ],
      "metadata": {
        "id": "k_obuunoqrT0",
        "colab": {
          "base_uri": "https://localhost:8080/"
        },
        "outputId": "15a7fc18-30d2-47bc-edb6-260cdc21d714"
      },
      "execution_count": null,
      "outputs": [
        {
          "output_type": "stream",
          "name": "stderr",
          "text": [
            "\rClustering class-wise:   0%|          | 0/5 [00:00<?, ?it/s]"
          ]
        },
        {
          "output_type": "stream",
          "name": "stdout",
          "text": [
            "For n_clusters = 2 The average silhouette_score is : 0.9641191\n",
            "For n_clusters = 3 The average silhouette_score is : 0.96420586\n",
            "For n_clusters = 4 The average silhouette_score is : 0.52052397\n"
          ]
        },
        {
          "output_type": "stream",
          "name": "stderr",
          "text": [
            "\rClustering class-wise:  20%|██        | 1/5 [00:05<00:23,  5.90s/it]"
          ]
        },
        {
          "output_type": "stream",
          "name": "stdout",
          "text": [
            "For n_clusters = 5 The average silhouette_score is : 0.52145165\n",
            "For n_clusters = 2 The average silhouette_score is : 0.95720077\n",
            "For n_clusters = 3 The average silhouette_score is : 0.9562984\n",
            "For n_clusters = 4 The average silhouette_score is : 0.60623664\n"
          ]
        },
        {
          "output_type": "stream",
          "name": "stderr",
          "text": [
            "\rClustering class-wise:  40%|████      | 2/5 [00:14<00:21,  7.26s/it]"
          ]
        },
        {
          "output_type": "stream",
          "name": "stdout",
          "text": [
            "For n_clusters = 5 The average silhouette_score is : 0.6075702\n",
            "For n_clusters = 2 The average silhouette_score is : 0.97074056\n",
            "For n_clusters = 3 The average silhouette_score is : 0.97286135\n",
            "For n_clusters = 4 The average silhouette_score is : 0.96755755\n"
          ]
        },
        {
          "output_type": "stream",
          "name": "stderr",
          "text": [
            "\rClustering class-wise:  60%|██████    | 3/5 [00:20<00:13,  6.99s/it]"
          ]
        },
        {
          "output_type": "stream",
          "name": "stdout",
          "text": [
            "For n_clusters = 5 The average silhouette_score is : 0.9686932\n",
            "For n_clusters = 2 The average silhouette_score is : 0.967947\n",
            "For n_clusters = 3 The average silhouette_score is : 0.9683742\n",
            "For n_clusters = 4 The average silhouette_score is : 0.96947134\n"
          ]
        },
        {
          "output_type": "stream",
          "name": "stderr",
          "text": [
            "\rClustering class-wise:  80%|████████  | 4/5 [00:33<00:09,  9.32s/it]"
          ]
        },
        {
          "output_type": "stream",
          "name": "stdout",
          "text": [
            "For n_clusters = 5 The average silhouette_score is : 0.9704802\n",
            "For n_clusters = 2 The average silhouette_score is : 0.971122\n",
            "For n_clusters = 3 The average silhouette_score is : 0.97154003\n",
            "For n_clusters = 4 The average silhouette_score is : 0.9706469\n"
          ]
        },
        {
          "output_type": "stream",
          "name": "stderr",
          "text": [
            "Clustering class-wise: 100%|██████████| 5/5 [00:45<00:00,  9.09s/it]"
          ]
        },
        {
          "output_type": "stream",
          "name": "stdout",
          "text": [
            "For n_clusters = 5 The average silhouette_score is : 0.97181666\n"
          ]
        },
        {
          "output_type": "stream",
          "name": "stderr",
          "text": [
            "\n"
          ]
        }
      ]
    },
    {
      "cell_type": "code",
      "source": [
        "for key in sorted(cluster_partition.keys()):\n",
        "  print(f\"{key}: {len(cluster_partition[key])}\")"
      ],
      "metadata": {
        "id": "A8J_BsJM62D-",
        "colab": {
          "base_uri": "https://localhost:8080/"
        },
        "outputId": "787d2110-8720-4e7a-be7c-8ba3b3d6ec87"
      },
      "execution_count": null,
      "outputs": [
        {
          "output_type": "stream",
          "name": "stdout",
          "text": [
            "(0, 0): 10082\n",
            "(0, 1): 51\n",
            "(1, 0): 9623\n",
            "(1, 1): 17\n",
            "(1, 2): 14\n",
            "(1, 3): 9\n",
            "(1, 4): 9\n",
            "(2, 0): 8965\n",
            "(2, 1): 34\n",
            "(2, 2): 12\n",
            "(3, 0): 9698\n",
            "(3, 1): 12\n",
            "(3, 2): 10\n",
            "(3, 3): 14\n",
            "(3, 4): 13\n",
            "(4, 0): 9409\n",
            "(4, 1): 14\n",
            "(4, 2): 18\n"
          ]
        }
      ]
    },
    {
      "cell_type": "code",
      "source": [
        "for key, indices in sorted(cluster_partition.items()):\n",
        "    print(f\"Displaying image from cluster {key}:\")\n",
        "    display(T.ToPILImage()(trainset[indices[0]][0]).resize((28,28)))"
      ],
      "metadata": {
        "colab": {
          "base_uri": "https://localhost:8080/",
          "height": 840
        },
        "id": "WoAJWrzl006T",
        "outputId": "d8d01ea1-29d1-4d47-fc28-d3a4eb0ab44d"
      },
      "execution_count": null,
      "outputs": [
        {
          "output_type": "stream",
          "name": "stdout",
          "text": [
            "Displaying image from cluster (0, 0):\n"
          ]
        },
        {
          "output_type": "display_data",
          "data": {
            "text/plain": [
              "<PIL.Image.Image image mode=RGB size=28x28>"
            ],
            "image/png": "[encoded data removed]",
            "image/jpeg": "[encoded data removed]"
          },
          "metadata": {}
        },
        {
          "output_type": "stream",
          "name": "stdout",
          "text": [
            "Displaying image from cluster (0, 1):\n"
          ]
        },
        {
          "output_type": "display_data",
          "data": {
            "text/plain": [
              "<PIL.Image.Image image mode=RGB size=28x28>"
            ],
            "image/png": "[encoded data removed]",
            "image/jpeg": "[encoded data removed]"
          },
          "metadata": {}
        },
        {
          "output_type": "stream",
          "name": "stdout",
          "text": [
            "Displaying image from cluster (1, 0):\n"
          ]
        },
        {
          "output_type": "display_data",
          "data": {
            "text/plain": [
              "<PIL.Image.Image image mode=RGB size=28x28>"
            ],
            "image/png": "[encoded data removed]",
            "image/jpeg": "[encoded data removed]"
          },
          "metadata": {}
        },
        {
          "output_type": "stream",
          "name": "stdout",
          "text": [
            "Displaying image from cluster (1, 1):\n"
          ]
        },
        {
          "output_type": "display_data",
          "data": {
            "text/plain": [
              "<PIL.Image.Image image mode=RGB size=28x28>"
            ],
            "image/png": "[encoded data removed]",
            "image/jpeg": "[encoded data removed]"
          },
          "metadata": {}
        },
        {
          "output_type": "stream",
          "name": "stdout",
          "text": [
            "Displaying image from cluster (1, 2):\n"
          ]
        },
        {
          "output_type": "display_data",
          "data": {
            "text/plain": [
              "<PIL.Image.Image image mode=RGB size=28x28>"
            ],
            "image/png": "[encoded data removed]",
            "image/jpeg": "[encoded data removed]"
          },
          "metadata": {}
        },
        {
          "output_type": "stream",
          "name": "stdout",
          "text": [
            "Displaying image from cluster (1, 3):\n"
          ]
        },
        {
          "output_type": "display_data",
          "data": {
            "text/plain": [
              "<PIL.Image.Image image mode=RGB size=28x28>"
            ],
            "image/png": "[encoded data removed]",
            "image/jpeg": "[encoded data removed]"
          },
          "metadata": {}
        },
        {
          "output_type": "stream",
          "name": "stdout",
          "text": [
            "Displaying image from cluster (1, 4):\n"
          ]
        },
        {
          "output_type": "display_data",
          "data": {
            "text/plain": [
              "<PIL.Image.Image image mode=RGB size=28x28>"
            ],
            "image/png": "[encoded data removed]",
            "image/jpeg": "[encoded data removed]"
          },
          "metadata": {}
        },
        {
          "output_type": "stream",
          "name": "stdout",
          "text": [
            "Displaying image from cluster (2, 0):\n"
          ]
        },
        {
          "output_type": "display_data",
          "data": {
            "text/plain": [
              "<PIL.Image.Image image mode=RGB size=28x28>"
            ],
            "image/png": "[encoded data removed]",
            "image/jpeg": "[encoded data removed]"
          },
          "metadata": {}
        },
        {
          "output_type": "stream",
          "name": "stdout",
          "text": [
            "Displaying image from cluster (2, 1):\n"
          ]
        },
        {
          "output_type": "display_data",
          "data": {
            "text/plain": [
              "<PIL.Image.Image image mode=RGB size=28x28>"
            ],
            "image/png": "[encoded data removed]",
            "image/jpeg": "[encoded data removed]"
          },
          "metadata": {}
        },
        {
          "output_type": "stream",
          "name": "stdout",
          "text": [
            "Displaying image from cluster (2, 2):\n"
          ]
        },
        {
          "output_type": "display_data",
          "data": {
            "text/plain": [
              "<PIL.Image.Image image mode=RGB size=28x28>"
            ],
            "image/png": "[encoded data removed]",
            "image/jpeg": "[encoded data removed]"
          },
          "metadata": {}
        },
        {
          "output_type": "stream",
          "name": "stdout",
          "text": [
            "Displaying image from cluster (3, 0):\n"
          ]
        },
        {
          "output_type": "display_data",
          "data": {
            "text/plain": [
              "<PIL.Image.Image image mode=RGB size=28x28>"
            ],
            "image/png": "[encoded data removed]",
            "image/jpeg": "[encoded data removed]"
          },
          "metadata": {}
        },
        {
          "output_type": "stream",
          "name": "stdout",
          "text": [
            "Displaying image from cluster (3, 1):\n"
          ]
        },
        {
          "output_type": "display_data",
          "data": {
            "text/plain": [
              "<PIL.Image.Image image mode=RGB size=28x28>"
            ],
            "image/png": "[encoded data removed]",
            "image/jpeg": "[encoded data removed]"
          },
          "metadata": {}
        },
        {
          "output_type": "stream",
          "name": "stdout",
          "text": [
            "Displaying image from cluster (3, 2):\n"
          ]
        },
        {
          "output_type": "display_data",
          "data": {
            "text/plain": [
              "<PIL.Image.Image image mode=RGB size=28x28>"
            ],
            "image/png": "[encoded data removed]",
            "image/jpeg": "[encoded data removed]"
          },
          "metadata": {}
        },
        {
          "output_type": "stream",
          "name": "stdout",
          "text": [
            "Displaying image from cluster (3, 3):\n"
          ]
        },
        {
          "output_type": "display_data",
          "data": {
            "text/plain": [
              "<PIL.Image.Image image mode=RGB size=28x28>"
            ],
            "image/png": "[encoded data removed]",
            "image/jpeg": "[encoded data removed]"
          },
          "metadata": {}
        },
        {
          "output_type": "stream",
          "name": "stdout",
          "text": [
            "Displaying image from cluster (3, 4):\n"
          ]
        },
        {
          "output_type": "display_data",
          "data": {
            "text/plain": [
              "<PIL.Image.Image image mode=RGB size=28x28>"
            ],
            "image/png": "[encoded data removed]",
            "image/jpeg": "[encoded data removed]"
          },
          "metadata": {}
        },
        {
          "output_type": "stream",
          "name": "stdout",
          "text": [
            "Displaying image from cluster (4, 0):\n"
          ]
        },
        {
          "output_type": "display_data",
          "data": {
            "text/plain": [
              "<PIL.Image.Image image mode=RGB size=28x28>"
            ],
            "image/png": "[encoded data removed]",
            "image/jpeg": "[encoded data removed]"
          },
          "metadata": {}
        },
        {
          "output_type": "stream",
          "name": "stdout",
          "text": [
            "Displaying image from cluster (4, 1):\n"
          ]
        },
        {
          "output_type": "display_data",
          "data": {
            "text/plain": [
              "<PIL.Image.Image image mode=RGB size=28x28>"
            ],
            "image/png": "[encoded data removed]",
            "image/jpeg": "[encoded data removed]"
          },
          "metadata": {}
        },
        {
          "output_type": "stream",
          "name": "stdout",
          "text": [
            "Displaying image from cluster (4, 2):\n"
          ]
        },
        {
          "output_type": "display_data",
          "data": {
            "text/plain": [
              "<PIL.Image.Image image mode=RGB size=28x28>"
            ],
            "image/png": "[encoded data removed]",
            "image/jpeg": "[encoded data removed]"
          },
          "metadata": {}
        }
      ]
    },
    {
      "cell_type": "markdown",
      "source": [
        "**3. Group Balancing**"
      ],
      "metadata": {
        "id": "N92NZl6Ex074"
      }
    },
    {
      "cell_type": "code",
      "source": [
        "from spuco.robust_train import GroupBalanceBatchERM\n",
        "\n",
        "# same model arch from part 1\n",
        "\n",
        "gbb_model = model_factory('lenet', trainset[0][0].shape, trainset.num_classes)\n",
        "\n",
        "gbb_erm = GroupBalanceBatchERM(\n",
        "    model = gbb_model,\n",
        "    trainset = trainset,\n",
        "    group_partition = cluster_partition,\n",
        "    batch_size = 64,\n",
        "    optimizer = optimizer,\n",
        "    num_epochs = 1,\n",
        "    device = \"cpu\",\n",
        "    verbose = True\n",
        ")\n",
        "\n",
        "gbb_erm.train()"
      ],
      "metadata": {
        "id": "jUUpbnxQd2aE",
        "colab": {
          "base_uri": "https://localhost:8080/"
        },
        "outputId": "54c1a6f9-c1c1-4050-bbdd-0b249f22ceb4"
      },
      "execution_count": null,
      "outputs": [
        {
          "output_type": "stream",
          "name": "stderr",
          "text": [
            "/usr/local/lib/python3.12/dist-packages/torch/utils/data/dataloader.py:627: UserWarning: This DataLoader will create 4 worker processes in total. Our suggested max number of worker in current system is 2, which is smaller than what this DataLoader is going to create. Please be aware that excessive worker creation might get DataLoader running slow or even freeze, lower the worker number to avoid potential slowness/freeze if necessary.\n",
            "  warnings.warn(\n",
            "Epoch 0:   0%|          | 0/751 [00:00<?, ?batch/s]/usr/local/lib/python3.12/dist-packages/torch/utils/data/dataloader.py:666: UserWarning: 'pin_memory' argument is set as true but no accelerator is found, then device pinned memory won't be used.\n",
            "  warnings.warn(warn_msg)\n",
            "Epoch 0:   1%|          | 6/751 [00:00<00:38, 19.34batch/s, accuracy=20.3125%, loss=1.61]"
          ]
        },
        {
          "output_type": "stream",
          "name": "stdout",
          "text": [
            "GB | Epoch 0 | Loss: 1.6061931848526 | Accuracy: 21.875%\n",
            "GB | Epoch 0 | Loss: 1.6061731576919556 | Accuracy: 17.1875%\n",
            "GB | Epoch 0 | Loss: 1.6130945682525635 | Accuracy: 12.5%\n",
            "GB | Epoch 0 | Loss: 1.6098393201828003 | Accuracy: 23.4375%\n",
            "GB | Epoch 0 | Loss: 1.6102557182312012 | Accuracy: 9.375%\n",
            "GB | Epoch 0 | Loss: 1.6126949787139893 | Accuracy: 10.9375%\n",
            "GB | Epoch 0 | Loss: 1.5978373289108276 | Accuracy: 28.125%\n",
            "GB | Epoch 0 | Loss: 1.6077436208724976 | Accuracy: 20.3125%\n",
            "GB | Epoch 0 | Loss: 1.6180031299591064 | Accuracy: 12.5%\n",
            "GB | Epoch 0 | Loss: 1.6063393354415894 | Accuracy: 20.3125%\n"
          ]
        },
        {
          "output_type": "stream",
          "name": "stderr",
          "text": [
            "Epoch 0:   2%|▏         | 16/751 [00:00<00:21, 33.94batch/s, accuracy=25.0%, loss=1.6]    "
          ]
        },
        {
          "output_type": "stream",
          "name": "stdout",
          "text": [
            "GB | Epoch 0 | Loss: 1.6156811714172363 | Accuracy: 10.9375%\n",
            "GB | Epoch 0 | Loss: 1.6078948974609375 | Accuracy: 14.0625%\n",
            "GB | Epoch 0 | Loss: 1.6084556579589844 | Accuracy: 18.75%\n",
            "GB | Epoch 0 | Loss: 1.6106401681900024 | Accuracy: 17.1875%\n",
            "GB | Epoch 0 | Loss: 1.6120940446853638 | Accuracy: 14.0625%\n",
            "GB | Epoch 0 | Loss: 1.6143401861190796 | Accuracy: 17.1875%\n",
            "GB | Epoch 0 | Loss: 1.61180579662323 | Accuracy: 23.4375%\n",
            "GB | Epoch 0 | Loss: 1.6075032949447632 | Accuracy: 10.9375%\n",
            "GB | Epoch 0 | Loss: 1.6020143032073975 | Accuracy: 25.0%\n"
          ]
        },
        {
          "output_type": "stream",
          "name": "stderr",
          "text": [
            "Epoch 0:   3%|▎         | 26/751 [00:00<00:18, 39.02batch/s, accuracy=25.0%, loss=1.61]"
          ]
        },
        {
          "output_type": "stream",
          "name": "stdout",
          "text": [
            "GB | Epoch 0 | Loss: 1.6052823066711426 | Accuracy: 17.1875%\n",
            "GB | Epoch 0 | Loss: 1.604951024055481 | Accuracy: 26.5625%\n",
            "GB | Epoch 0 | Loss: 1.6038120985031128 | Accuracy: 20.3125%\n",
            "GB | Epoch 0 | Loss: 1.6068077087402344 | Accuracy: 20.3125%\n",
            "GB | Epoch 0 | Loss: 1.60707688331604 | Accuracy: 15.625%\n",
            "GB | Epoch 0 | Loss: 1.6030062437057495 | Accuracy: 25.0%\n",
            "GB | Epoch 0 | Loss: 1.6031694412231445 | Accuracy: 21.875%\n",
            "GB | Epoch 0 | Loss: 1.6088958978652954 | Accuracy: 20.3125%\n",
            "GB | Epoch 0 | Loss: 1.611116886138916 | Accuracy: 12.5%\n",
            "GB | Epoch 0 | Loss: 1.6112864017486572 | Accuracy: 25.0%\n"
          ]
        },
        {
          "output_type": "stream",
          "name": "stderr",
          "text": [
            "Epoch 0:   5%|▍         | 36/751 [00:01<00:16, 42.72batch/s, accuracy=15.625%, loss=1.61] "
          ]
        },
        {
          "output_type": "stream",
          "name": "stdout",
          "text": [
            "GB | Epoch 0 | Loss: 1.6124904155731201 | Accuracy: 15.625%\n",
            "GB | Epoch 0 | Loss: 1.6079137325286865 | Accuracy: 17.1875%\n",
            "GB | Epoch 0 | Loss: 1.608841061592102 | Accuracy: 18.75%\n",
            "GB | Epoch 0 | Loss: 1.6126593351364136 | Accuracy: 10.9375%\n",
            "GB | Epoch 0 | Loss: 1.6015998125076294 | Accuracy: 23.4375%\n",
            "GB | Epoch 0 | Loss: 1.610438585281372 | Accuracy: 15.625%\n",
            "GB | Epoch 0 | Loss: 1.6103999614715576 | Accuracy: 15.625%\n",
            "GB | Epoch 0 | Loss: 1.6164087057113647 | Accuracy: 12.5%\n",
            "GB | Epoch 0 | Loss: 1.6116865873336792 | Accuracy: 14.0625%\n",
            "GB | Epoch 0 | Loss: 1.6126179695129395 | Accuracy: 15.625%\n"
          ]
        },
        {
          "output_type": "stream",
          "name": "stderr",
          "text": [
            "Epoch 0:   6%|▌         | 46/751 [00:01<00:15, 44.41batch/s, accuracy=23.4375%, loss=1.6] "
          ]
        },
        {
          "output_type": "stream",
          "name": "stdout",
          "text": [
            "GB | Epoch 0 | Loss: 1.6085597276687622 | Accuracy: 23.4375%\n",
            "GB | Epoch 0 | Loss: 1.6105620861053467 | Accuracy: 12.5%\n",
            "GB | Epoch 0 | Loss: 1.6009658575057983 | Accuracy: 23.4375%\n",
            "GB | Epoch 0 | Loss: 1.6085749864578247 | Accuracy: 15.625%\n",
            "GB | Epoch 0 | Loss: 1.605737328529358 | Accuracy: 21.875%\n",
            "GB | Epoch 0 | Loss: 1.6124941110610962 | Accuracy: 7.8125%\n",
            "GB | Epoch 0 | Loss: 1.6113786697387695 | Accuracy: 17.1875%\n",
            "GB | Epoch 0 | Loss: 1.6081721782684326 | Accuracy: 15.625%\n",
            "GB | Epoch 0 | Loss: 1.613398551940918 | Accuracy: 20.3125%\n",
            "GB | Epoch 0 | Loss: 1.6047717332839966 | Accuracy: 23.4375%\n"
          ]
        },
        {
          "output_type": "stream",
          "name": "stderr",
          "text": [
            "Epoch 0:   8%|▊         | 58/751 [00:01<00:14, 47.52batch/s, accuracy=25.0%, loss=1.6]    "
          ]
        },
        {
          "output_type": "stream",
          "name": "stdout",
          "text": [
            "GB | Epoch 0 | Loss: 1.6120052337646484 | Accuracy: 14.0625%\n",
            "GB | Epoch 0 | Loss: 1.6073837280273438 | Accuracy: 21.875%\n",
            "GB | Epoch 0 | Loss: 1.6111829280853271 | Accuracy: 7.8125%\n",
            "GB | Epoch 0 | Loss: 1.6079481840133667 | Accuracy: 10.9375%\n",
            "GB | Epoch 0 | Loss: 1.6094647645950317 | Accuracy: 21.875%\n",
            "GB | Epoch 0 | Loss: 1.6011035442352295 | Accuracy: 17.1875%\n",
            "GB | Epoch 0 | Loss: 1.6002544164657593 | Accuracy: 23.4375%\n",
            "GB | Epoch 0 | Loss: 1.6129026412963867 | Accuracy: 23.4375%\n",
            "GB | Epoch 0 | Loss: 1.6116448640823364 | Accuracy: 20.3125%\n",
            "GB | Epoch 0 | Loss: 1.5986534357070923 | Accuracy: 25.0%\n"
          ]
        },
        {
          "output_type": "stream",
          "name": "stderr",
          "text": [
            "Epoch 0:   9%|▉         | 68/751 [00:01<00:14, 46.24batch/s, accuracy=6.25%, loss=1.62]   "
          ]
        },
        {
          "output_type": "stream",
          "name": "stdout",
          "text": [
            "GB | Epoch 0 | Loss: 1.605851411819458 | Accuracy: 26.5625%\n",
            "GB | Epoch 0 | Loss: 1.614241361618042 | Accuracy: 6.25%\n",
            "GB | Epoch 0 | Loss: 1.613786220550537 | Accuracy: 12.5%\n",
            "GB | Epoch 0 | Loss: 1.6057215929031372 | Accuracy: 20.3125%\n",
            "GB | Epoch 0 | Loss: 1.6092153787612915 | Accuracy: 12.5%\n",
            "GB | Epoch 0 | Loss: 1.619553565979004 | Accuracy: 20.3125%\n",
            "GB | Epoch 0 | Loss: 1.617228627204895 | Accuracy: 12.5%\n",
            "GB | Epoch 0 | Loss: 1.616491675376892 | Accuracy: 21.875%\n",
            "GB | Epoch 0 | Loss: 1.6100263595581055 | Accuracy: 20.3125%\n",
            "GB | Epoch 0 | Loss: 1.6176432371139526 | Accuracy: 6.25%\n"
          ]
        },
        {
          "output_type": "stream",
          "name": "stderr",
          "text": [
            "Epoch 0:  10%|█         | 78/751 [00:01<00:14, 47.49batch/s, accuracy=12.5%, loss=1.61] "
          ]
        },
        {
          "output_type": "stream",
          "name": "stdout",
          "text": [
            "GB | Epoch 0 | Loss: 1.6096998453140259 | Accuracy: 15.625%\n",
            "GB | Epoch 0 | Loss: 1.6095974445343018 | Accuracy: 15.625%\n",
            "GB | Epoch 0 | Loss: 1.609762191772461 | Accuracy: 12.5%\n",
            "GB | Epoch 0 | Loss: 1.5974764823913574 | Accuracy: 21.875%\n",
            "GB | Epoch 0 | Loss: 1.6123276948928833 | Accuracy: 23.4375%\n",
            "GB | Epoch 0 | Loss: 1.6169530153274536 | Accuracy: 12.5%\n",
            "GB | Epoch 0 | Loss: 1.61705482006073 | Accuracy: 12.5%\n",
            "GB | Epoch 0 | Loss: 1.600927710533142 | Accuracy: 29.6875%\n",
            "GB | Epoch 0 | Loss: 1.6018180847167969 | Accuracy: 15.625%\n",
            "GB | Epoch 0 | Loss: 1.6147284507751465 | Accuracy: 12.5%\n"
          ]
        },
        {
          "output_type": "stream",
          "name": "stderr",
          "text": [
            "Epoch 0:  12%|█▏        | 88/751 [00:02<00:14, 46.72batch/s, accuracy=12.5%, loss=1.61]  "
          ]
        },
        {
          "output_type": "stream",
          "name": "stdout",
          "text": [
            "GB | Epoch 0 | Loss: 1.6119831800460815 | Accuracy: 20.3125%\n",
            "GB | Epoch 0 | Loss: 1.6068745851516724 | Accuracy: 28.125%\n",
            "GB | Epoch 0 | Loss: 1.605796217918396 | Accuracy: 15.625%\n",
            "GB | Epoch 0 | Loss: 1.6117161512374878 | Accuracy: 10.9375%\n",
            "GB | Epoch 0 | Loss: 1.6102255582809448 | Accuracy: 20.3125%\n",
            "GB | Epoch 0 | Loss: 1.6152219772338867 | Accuracy: 15.625%\n",
            "GB | Epoch 0 | Loss: 1.6179001331329346 | Accuracy: 10.9375%\n",
            "GB | Epoch 0 | Loss: 1.5993791818618774 | Accuracy: 21.875%\n",
            "GB | Epoch 0 | Loss: 1.6122664213180542 | Accuracy: 15.625%\n",
            "GB | Epoch 0 | Loss: 1.6115648746490479 | Accuracy: 12.5%\n"
          ]
        },
        {
          "output_type": "stream",
          "name": "stderr",
          "text": [
            "Epoch 0:  13%|█▎        | 98/751 [00:02<00:13, 46.95batch/s, accuracy=23.4375%, loss=1.61]"
          ]
        },
        {
          "output_type": "stream",
          "name": "stdout",
          "text": [
            "GB | Epoch 0 | Loss: 1.6103764772415161 | Accuracy: 21.875%\n",
            "GB | Epoch 0 | Loss: 1.6084965467453003 | Accuracy: 15.625%\n",
            "GB | Epoch 0 | Loss: 1.6107243299484253 | Accuracy: 15.625%\n",
            "GB | Epoch 0 | Loss: 1.6112072467803955 | Accuracy: 12.5%\n",
            "GB | Epoch 0 | Loss: 1.6165305376052856 | Accuracy: 14.0625%\n",
            "GB | Epoch 0 | Loss: 1.6103951930999756 | Accuracy: 17.1875%\n",
            "GB | Epoch 0 | Loss: 1.6141765117645264 | Accuracy: 10.9375%\n",
            "GB | Epoch 0 | Loss: 1.5983150005340576 | Accuracy: 25.0%\n",
            "GB | Epoch 0 | Loss: 1.604880690574646 | Accuracy: 28.125%\n",
            "GB | Epoch 0 | Loss: 1.6092501878738403 | Accuracy: 23.4375%\n"
          ]
        },
        {
          "output_type": "stream",
          "name": "stderr",
          "text": [
            "Epoch 0:  14%|█▍        | 108/751 [00:02<00:13, 47.84batch/s, accuracy=15.625%, loss=1.61]"
          ]
        },
        {
          "output_type": "stream",
          "name": "stdout",
          "text": [
            "GB | Epoch 0 | Loss: 1.606612205505371 | Accuracy: 25.0%\n",
            "GB | Epoch 0 | Loss: 1.6072571277618408 | Accuracy: 21.875%\n",
            "GB | Epoch 0 | Loss: 1.6053001880645752 | Accuracy: 15.625%\n",
            "GB | Epoch 0 | Loss: 1.608836054801941 | Accuracy: 28.125%\n",
            "GB | Epoch 0 | Loss: 1.607771873474121 | Accuracy: 10.9375%\n",
            "GB | Epoch 0 | Loss: 1.614518404006958 | Accuracy: 18.75%\n",
            "GB | Epoch 0 | Loss: 1.6174601316452026 | Accuracy: 12.5%\n",
            "GB | Epoch 0 | Loss: 1.6035981178283691 | Accuracy: 20.3125%\n",
            "GB | Epoch 0 | Loss: 1.6025421619415283 | Accuracy: 10.9375%\n",
            "GB | Epoch 0 | Loss: 1.6075537204742432 | Accuracy: 18.75%\n",
            "GB | Epoch 0 | Loss: 1.6104663610458374 | Accuracy: 15.625%\n"
          ]
        },
        {
          "output_type": "stream",
          "name": "stderr",
          "text": [
            "Epoch 0:  16%|█▌        | 118/751 [00:02<00:13, 45.83batch/s, accuracy=20.3125%, loss=1.61]"
          ]
        },
        {
          "output_type": "stream",
          "name": "stdout",
          "text": [
            "GB | Epoch 0 | Loss: 1.6033618450164795 | Accuracy: 20.3125%\n",
            "GB | Epoch 0 | Loss: 1.6116485595703125 | Accuracy: 15.625%\n",
            "GB | Epoch 0 | Loss: 1.609944224357605 | Accuracy: 21.875%\n",
            "GB | Epoch 0 | Loss: 1.6123590469360352 | Accuracy: 20.3125%\n",
            "GB | Epoch 0 | Loss: 1.6017800569534302 | Accuracy: 21.875%\n",
            "GB | Epoch 0 | Loss: 1.6091012954711914 | Accuracy: 21.875%\n",
            "GB | Epoch 0 | Loss: 1.6092238426208496 | Accuracy: 15.625%\n",
            "GB | Epoch 0 | Loss: 1.6099447011947632 | Accuracy: 9.375%\n",
            "GB | Epoch 0 | Loss: 1.6078695058822632 | Accuracy: 20.3125%\n",
            "GB | Epoch 0 | Loss: 1.6107181310653687 | Accuracy: 20.3125%\n"
          ]
        },
        {
          "output_type": "stream",
          "name": "stderr",
          "text": [
            "Epoch 0:  17%|█▋        | 129/751 [00:03<00:13, 47.60batch/s, accuracy=15.625%, loss=1.61]"
          ]
        },
        {
          "output_type": "stream",
          "name": "stdout",
          "text": [
            "GB | Epoch 0 | Loss: 1.6097192764282227 | Accuracy: 18.75%\n",
            "GB | Epoch 0 | Loss: 1.6064718961715698 | Accuracy: 14.0625%\n",
            "GB | Epoch 0 | Loss: 1.6125755310058594 | Accuracy: 18.75%\n",
            "GB | Epoch 0 | Loss: 1.6103007793426514 | Accuracy: 25.0%\n",
            "GB | Epoch 0 | Loss: 1.6107957363128662 | Accuracy: 18.75%\n",
            "GB | Epoch 0 | Loss: 1.603088140487671 | Accuracy: 21.875%\n",
            "GB | Epoch 0 | Loss: 1.612894892692566 | Accuracy: 18.75%\n",
            "GB | Epoch 0 | Loss: 1.6031033992767334 | Accuracy: 26.5625%\n",
            "GB | Epoch 0 | Loss: 1.6049987077713013 | Accuracy: 20.3125%\n",
            "GB | Epoch 0 | Loss: 1.6119089126586914 | Accuracy: 15.625%\n"
          ]
        },
        {
          "output_type": "stream",
          "name": "stderr",
          "text": [
            "Epoch 0:  19%|█▊        | 139/751 [00:03<00:12, 47.47batch/s, accuracy=12.5%, loss=1.61]   "
          ]
        },
        {
          "output_type": "stream",
          "name": "stdout",
          "text": [
            "GB | Epoch 0 | Loss: 1.6128265857696533 | Accuracy: 15.625%\n",
            "GB | Epoch 0 | Loss: 1.6041781902313232 | Accuracy: 23.4375%\n",
            "GB | Epoch 0 | Loss: 1.601941466331482 | Accuracy: 25.0%\n",
            "GB | Epoch 0 | Loss: 1.6145294904708862 | Accuracy: 14.0625%\n",
            "GB | Epoch 0 | Loss: 1.6117651462554932 | Accuracy: 14.0625%\n",
            "GB | Epoch 0 | Loss: 1.6079881191253662 | Accuracy: 17.1875%\n",
            "GB | Epoch 0 | Loss: 1.6154670715332031 | Accuracy: 15.625%\n",
            "GB | Epoch 0 | Loss: 1.6087381839752197 | Accuracy: 21.875%\n",
            "GB | Epoch 0 | Loss: 1.6152399778366089 | Accuracy: 14.0625%\n",
            "GB | Epoch 0 | Loss: 1.607717514038086 | Accuracy: 12.5%\n"
          ]
        },
        {
          "output_type": "stream",
          "name": "stderr",
          "text": [
            "Epoch 0:  20%|█▉        | 150/751 [00:03<00:12, 47.92batch/s, accuracy=12.5%, loss=1.61]"
          ]
        },
        {
          "output_type": "stream",
          "name": "stdout",
          "text": [
            "GB | Epoch 0 | Loss: 1.608310341835022 | Accuracy: 15.625%\n",
            "GB | Epoch 0 | Loss: 1.6098953485488892 | Accuracy: 12.5%\n",
            "GB | Epoch 0 | Loss: 1.6087009906768799 | Accuracy: 7.8125%\n",
            "GB | Epoch 0 | Loss: 1.6183559894561768 | Accuracy: 12.5%\n",
            "GB | Epoch 0 | Loss: 1.604382038116455 | Accuracy: 21.875%\n",
            "GB | Epoch 0 | Loss: 1.596358299255371 | Accuracy: 25.0%\n",
            "GB | Epoch 0 | Loss: 1.610215663909912 | Accuracy: 14.0625%\n",
            "GB | Epoch 0 | Loss: 1.6044824123382568 | Accuracy: 17.1875%\n",
            "GB | Epoch 0 | Loss: 1.6073094606399536 | Accuracy: 18.75%\n",
            "GB | Epoch 0 | Loss: 1.6120890378952026 | Accuracy: 12.5%\n"
          ]
        },
        {
          "output_type": "stream",
          "name": "stderr",
          "text": [
            "Epoch 0:  21%|██▏       | 161/751 [00:03<00:12, 49.16batch/s, accuracy=18.75%, loss=1.61]"
          ]
        },
        {
          "output_type": "stream",
          "name": "stdout",
          "text": [
            "GB | Epoch 0 | Loss: 1.6109660863876343 | Accuracy: 18.75%\n",
            "GB | Epoch 0 | Loss: 1.6188180446624756 | Accuracy: 10.9375%\n",
            "GB | Epoch 0 | Loss: 1.610284447669983 | Accuracy: 23.4375%\n",
            "GB | Epoch 0 | Loss: 1.6080169677734375 | Accuracy: 15.625%\n",
            "GB | Epoch 0 | Loss: 1.610654354095459 | Accuracy: 15.625%\n",
            "GB | Epoch 0 | Loss: 1.608524203300476 | Accuracy: 6.25%\n",
            "GB | Epoch 0 | Loss: 1.608426570892334 | Accuracy: 17.1875%\n",
            "GB | Epoch 0 | Loss: 1.6143016815185547 | Accuracy: 12.5%\n",
            "GB | Epoch 0 | Loss: 1.6084542274475098 | Accuracy: 12.5%\n",
            "GB | Epoch 0 | Loss: 1.6134626865386963 | Accuracy: 17.1875%\n",
            "GB | Epoch 0 | Loss: 1.6073977947235107 | Accuracy: 18.75%\n"
          ]
        },
        {
          "output_type": "stream",
          "name": "stderr",
          "text": [
            "Epoch 0:  23%|██▎       | 171/751 [00:03<00:12, 47.22batch/s, accuracy=12.5%, loss=1.61]"
          ]
        },
        {
          "output_type": "stream",
          "name": "stdout",
          "text": [
            "GB | Epoch 0 | Loss: 1.610044240951538 | Accuracy: 10.9375%\n",
            "GB | Epoch 0 | Loss: 1.6119002103805542 | Accuracy: 20.3125%\n",
            "GB | Epoch 0 | Loss: 1.608365535736084 | Accuracy: 15.625%\n",
            "GB | Epoch 0 | Loss: 1.6112135648727417 | Accuracy: 6.25%\n",
            "GB | Epoch 0 | Loss: 1.6065702438354492 | Accuracy: 17.1875%\n",
            "GB | Epoch 0 | Loss: 1.6068097352981567 | Accuracy: 15.625%\n",
            "GB | Epoch 0 | Loss: 1.6086313724517822 | Accuracy: 25.0%\n",
            "GB | Epoch 0 | Loss: 1.6136512756347656 | Accuracy: 14.0625%\n",
            "GB | Epoch 0 | Loss: 1.6141066551208496 | Accuracy: 10.9375%\n",
            "GB | Epoch 0 | Loss: 1.6103075742721558 | Accuracy: 12.5%\n"
          ]
        },
        {
          "output_type": "stream",
          "name": "stderr",
          "text": [
            "Epoch 0:  23%|██▎       | 176/751 [00:04<00:12, 46.85batch/s, accuracy=31.25%, loss=1.6]   "
          ]
        },
        {
          "output_type": "stream",
          "name": "stdout",
          "text": [
            "GB | Epoch 0 | Loss: 1.600907325744629 | Accuracy: 25.0%\n",
            "GB | Epoch 0 | Loss: 1.6126246452331543 | Accuracy: 12.5%\n",
            "GB | Epoch 0 | Loss: 1.6032969951629639 | Accuracy: 18.75%\n",
            "GB | Epoch 0 | Loss: 1.6068202257156372 | Accuracy: 26.5625%\n",
            "GB | Epoch 0 | Loss: 1.613614797592163 | Accuracy: 12.5%\n",
            "GB | Epoch 0 | Loss: 1.6166937351226807 | Accuracy: 17.1875%\n",
            "GB | Epoch 0 | Loss: 1.610532522201538 | Accuracy: 20.3125%\n",
            "GB | Epoch 0 | Loss: 1.6034696102142334 | Accuracy: 17.1875%\n",
            "GB | Epoch 0 | Loss: 1.6087340116500854 | Accuracy: 14.0625%\n",
            "GB | Epoch 0 | Loss: 1.5956287384033203 | Accuracy: 31.25%\n"
          ]
        },
        {
          "output_type": "stream",
          "name": "stderr",
          "text": [
            "Epoch 0:  25%|██▌       | 188/751 [00:04<00:11, 48.46batch/s, accuracy=10.9375%, loss=1.62]"
          ]
        },
        {
          "output_type": "stream",
          "name": "stdout",
          "text": [
            "GB | Epoch 0 | Loss: 1.6107913255691528 | Accuracy: 23.4375%\n",
            "GB | Epoch 0 | Loss: 1.6094695329666138 | Accuracy: 20.3125%\n",
            "GB | Epoch 0 | Loss: 1.6157951354980469 | Accuracy: 17.1875%\n",
            "GB | Epoch 0 | Loss: 1.6050610542297363 | Accuracy: 12.5%\n",
            "GB | Epoch 0 | Loss: 1.6105295419692993 | Accuracy: 18.75%\n",
            "GB | Epoch 0 | Loss: 1.5994256734848022 | Accuracy: 25.0%\n",
            "GB | Epoch 0 | Loss: 1.608628749847412 | Accuracy: 18.75%\n",
            "GB | Epoch 0 | Loss: 1.6118063926696777 | Accuracy: 18.75%\n",
            "GB | Epoch 0 | Loss: 1.6143698692321777 | Accuracy: 12.5%\n",
            "GB | Epoch 0 | Loss: 1.6117827892303467 | Accuracy: 14.0625%\n",
            "GB | Epoch 0 | Loss: 1.617039680480957 | Accuracy: 10.9375%\n"
          ]
        },
        {
          "output_type": "stream",
          "name": "stderr",
          "text": [
            "Epoch 0:  26%|██▋       | 199/751 [00:04<00:11, 49.03batch/s, accuracy=23.4375%, loss=1.61]"
          ]
        },
        {
          "output_type": "stream",
          "name": "stdout",
          "text": [
            "GB | Epoch 0 | Loss: 1.6105904579162598 | Accuracy: 17.1875%\n",
            "GB | Epoch 0 | Loss: 1.6074053049087524 | Accuracy: 18.75%\n",
            "GB | Epoch 0 | Loss: 1.6043788194656372 | Accuracy: 21.875%\n",
            "GB | Epoch 0 | Loss: 1.614891529083252 | Accuracy: 20.3125%\n",
            "GB | Epoch 0 | Loss: 1.60597562789917 | Accuracy: 18.75%\n",
            "GB | Epoch 0 | Loss: 1.6079013347625732 | Accuracy: 20.3125%\n",
            "GB | Epoch 0 | Loss: 1.606708288192749 | Accuracy: 31.25%\n",
            "GB | Epoch 0 | Loss: 1.619235634803772 | Accuracy: 9.375%\n",
            "GB | Epoch 0 | Loss: 1.6044586896896362 | Accuracy: 20.3125%\n",
            "GB | Epoch 0 | Loss: 1.6176282167434692 | Accuracy: 9.375%\n",
            "GB | Epoch 0 | Loss: 1.6074330806732178 | Accuracy: 23.4375%\n"
          ]
        },
        {
          "output_type": "stream",
          "name": "stderr",
          "text": [
            "Epoch 0:  28%|██▊       | 211/751 [00:04<00:10, 49.86batch/s, accuracy=14.0625%, loss=1.61]"
          ]
        },
        {
          "output_type": "stream",
          "name": "stdout",
          "text": [
            "GB | Epoch 0 | Loss: 1.6103729009628296 | Accuracy: 18.75%\n",
            "GB | Epoch 0 | Loss: 1.612152338027954 | Accuracy: 15.625%\n",
            "GB | Epoch 0 | Loss: 1.613261342048645 | Accuracy: 12.5%\n",
            "GB | Epoch 0 | Loss: 1.6090431213378906 | Accuracy: 25.0%\n",
            "GB | Epoch 0 | Loss: 1.6048520803451538 | Accuracy: 12.5%\n",
            "GB | Epoch 0 | Loss: 1.6006324291229248 | Accuracy: 26.5625%\n",
            "GB | Epoch 0 | Loss: 1.5994689464569092 | Accuracy: 26.5625%\n",
            "GB | Epoch 0 | Loss: 1.616390347480774 | Accuracy: 14.0625%\n",
            "GB | Epoch 0 | Loss: 1.6040513515472412 | Accuracy: 21.875%\n",
            "GB | Epoch 0 | Loss: 1.6100479364395142 | Accuracy: 12.5%\n",
            "GB | Epoch 0 | Loss: 1.612284541130066 | Accuracy: 14.0625%\n"
          ]
        },
        {
          "output_type": "stream",
          "name": "stderr",
          "text": [
            "Epoch 0:  29%|██▉       | 221/751 [00:04<00:11, 46.70batch/s, accuracy=17.1875%, loss=1.6] "
          ]
        },
        {
          "output_type": "stream",
          "name": "stdout",
          "text": [
            "GB | Epoch 0 | Loss: 1.6151399612426758 | Accuracy: 10.9375%\n",
            "GB | Epoch 0 | Loss: 1.6086006164550781 | Accuracy: 20.3125%\n",
            "GB | Epoch 0 | Loss: 1.6124780178070068 | Accuracy: 18.75%\n",
            "GB | Epoch 0 | Loss: 1.6060012578964233 | Accuracy: 15.625%\n",
            "GB | Epoch 0 | Loss: 1.6029471158981323 | Accuracy: 21.875%\n",
            "GB | Epoch 0 | Loss: 1.6114650964736938 | Accuracy: 26.5625%\n",
            "GB | Epoch 0 | Loss: 1.6053450107574463 | Accuracy: 23.4375%\n",
            "GB | Epoch 0 | Loss: 1.6177523136138916 | Accuracy: 14.0625%\n",
            "GB | Epoch 0 | Loss: 1.602272391319275 | Accuracy: 17.1875%\n"
          ]
        },
        {
          "output_type": "stream",
          "name": "stderr",
          "text": [
            "Epoch 0:  31%|███       | 232/751 [00:05<00:10, 48.29batch/s, accuracy=14.0625%, loss=1.61]"
          ]
        },
        {
          "output_type": "stream",
          "name": "stdout",
          "text": [
            "GB | Epoch 0 | Loss: 1.6074206829071045 | Accuracy: 21.875%\n",
            "GB | Epoch 0 | Loss: 1.6143908500671387 | Accuracy: 14.0625%\n",
            "GB | Epoch 0 | Loss: 1.60810124874115 | Accuracy: 14.0625%\n",
            "GB | Epoch 0 | Loss: 1.6015980243682861 | Accuracy: 20.3125%\n",
            "GB | Epoch 0 | Loss: 1.6060240268707275 | Accuracy: 23.4375%\n",
            "GB | Epoch 0 | Loss: 1.61477792263031 | Accuracy: 10.9375%\n",
            "GB | Epoch 0 | Loss: 1.6054275035858154 | Accuracy: 15.625%\n",
            "GB | Epoch 0 | Loss: 1.6041269302368164 | Accuracy: 21.875%\n",
            "GB | Epoch 0 | Loss: 1.6101740598678589 | Accuracy: 18.75%\n",
            "GB | Epoch 0 | Loss: 1.6128751039505005 | Accuracy: 14.0625%\n",
            "GB | Epoch 0 | Loss: 1.6107088327407837 | Accuracy: 14.0625%\n"
          ]
        },
        {
          "output_type": "stream",
          "name": "stderr",
          "text": [
            "Epoch 0:  32%|███▏      | 242/751 [00:05<00:10, 48.37batch/s, accuracy=21.875%, loss=1.6] "
          ]
        },
        {
          "output_type": "stream",
          "name": "stdout",
          "text": [
            "GB | Epoch 0 | Loss: 1.6149276494979858 | Accuracy: 15.625%\n",
            "GB | Epoch 0 | Loss: 1.6070915460586548 | Accuracy: 14.0625%\n",
            "GB | Epoch 0 | Loss: 1.6179633140563965 | Accuracy: 7.8125%\n",
            "GB | Epoch 0 | Loss: 1.6083680391311646 | Accuracy: 17.1875%\n",
            "GB | Epoch 0 | Loss: 1.6140564680099487 | Accuracy: 15.625%\n",
            "GB | Epoch 0 | Loss: 1.608262538909912 | Accuracy: 23.4375%\n",
            "GB | Epoch 0 | Loss: 1.6084680557250977 | Accuracy: 18.75%\n",
            "GB | Epoch 0 | Loss: 1.6223887205123901 | Accuracy: 6.25%\n",
            "GB | Epoch 0 | Loss: 1.6051599979400635 | Accuracy: 15.625%\n",
            "GB | Epoch 0 | Loss: 1.6047248840332031 | Accuracy: 21.875%\n"
          ]
        },
        {
          "output_type": "stream",
          "name": "stderr",
          "text": [
            "Epoch 0:  34%|███▎      | 252/751 [00:05<00:10, 49.08batch/s, accuracy=17.1875%, loss=1.61]"
          ]
        },
        {
          "output_type": "stream",
          "name": "stdout",
          "text": [
            "GB | Epoch 0 | Loss: 1.611288070678711 | Accuracy: 20.3125%\n",
            "GB | Epoch 0 | Loss: 1.6091458797454834 | Accuracy: 17.1875%\n",
            "GB | Epoch 0 | Loss: 1.6147899627685547 | Accuracy: 15.625%\n",
            "GB | Epoch 0 | Loss: 1.6092469692230225 | Accuracy: 18.75%\n",
            "GB | Epoch 0 | Loss: 1.6089825630187988 | Accuracy: 18.75%\n",
            "GB | Epoch 0 | Loss: 1.6014201641082764 | Accuracy: 29.6875%\n",
            "GB | Epoch 0 | Loss: 1.6186461448669434 | Accuracy: 12.5%\n",
            "GB | Epoch 0 | Loss: 1.6118749380111694 | Accuracy: 21.875%\n",
            "GB | Epoch 0 | Loss: 1.611847996711731 | Accuracy: 17.1875%\n",
            "GB | Epoch 0 | Loss: 1.6127849817276 | Accuracy: 17.1875%\n"
          ]
        },
        {
          "output_type": "stream",
          "name": "stderr",
          "text": [
            "Epoch 0:  35%|███▍      | 262/751 [00:05<00:09, 49.01batch/s, accuracy=23.4375%, loss=1.61]"
          ]
        },
        {
          "output_type": "stream",
          "name": "stdout",
          "text": [
            "GB | Epoch 0 | Loss: 1.606553077697754 | Accuracy: 18.75%\n",
            "GB | Epoch 0 | Loss: 1.603329062461853 | Accuracy: 20.3125%\n",
            "GB | Epoch 0 | Loss: 1.6130657196044922 | Accuracy: 10.9375%\n",
            "GB | Epoch 0 | Loss: 1.6060888767242432 | Accuracy: 17.1875%\n",
            "GB | Epoch 0 | Loss: 1.6155362129211426 | Accuracy: 14.0625%\n",
            "GB | Epoch 0 | Loss: 1.6080273389816284 | Accuracy: 18.75%\n",
            "GB | Epoch 0 | Loss: 1.6029844284057617 | Accuracy: 15.625%\n",
            "GB | Epoch 0 | Loss: 1.607839584350586 | Accuracy: 18.75%\n",
            "GB | Epoch 0 | Loss: 1.6124036312103271 | Accuracy: 15.625%\n",
            "GB | Epoch 0 | Loss: 1.6095712184906006 | Accuracy: 23.4375%\n"
          ]
        },
        {
          "output_type": "stream",
          "name": "stderr",
          "text": [
            "Epoch 0:  36%|███▌      | 272/751 [00:06<00:10, 47.07batch/s, accuracy=4.6875%, loss=1.62]"
          ]
        },
        {
          "output_type": "stream",
          "name": "stdout",
          "text": [
            "GB | Epoch 0 | Loss: 1.6083827018737793 | Accuracy: 14.0625%\n",
            "GB | Epoch 0 | Loss: 1.6146373748779297 | Accuracy: 15.625%\n",
            "GB | Epoch 0 | Loss: 1.609708547592163 | Accuracy: 14.0625%\n",
            "GB | Epoch 0 | Loss: 1.6090584993362427 | Accuracy: 15.625%\n",
            "GB | Epoch 0 | Loss: 1.6097450256347656 | Accuracy: 12.5%\n",
            "GB | Epoch 0 | Loss: 1.6104649305343628 | Accuracy: 14.0625%\n",
            "GB | Epoch 0 | Loss: 1.6021572351455688 | Accuracy: 21.875%\n",
            "GB | Epoch 0 | Loss: 1.6183964014053345 | Accuracy: 15.625%\n",
            "GB | Epoch 0 | Loss: 1.604554533958435 | Accuracy: 28.125%\n",
            "GB | Epoch 0 | Loss: 1.6175177097320557 | Accuracy: 4.6875%\n"
          ]
        },
        {
          "output_type": "stream",
          "name": "stderr",
          "text": [
            "Epoch 0:  38%|███▊      | 282/751 [00:06<00:09, 48.05batch/s, accuracy=17.1875%, loss=1.61]"
          ]
        },
        {
          "output_type": "stream",
          "name": "stdout",
          "text": [
            "GB | Epoch 0 | Loss: 1.6081047058105469 | Accuracy: 9.375%\n",
            "GB | Epoch 0 | Loss: 1.616838812828064 | Accuracy: 20.3125%\n",
            "GB | Epoch 0 | Loss: 1.619654893875122 | Accuracy: 10.9375%\n",
            "GB | Epoch 0 | Loss: 1.6080386638641357 | Accuracy: 18.75%\n",
            "GB | Epoch 0 | Loss: 1.6058555841445923 | Accuracy: 15.625%\n",
            "GB | Epoch 0 | Loss: 1.6057281494140625 | Accuracy: 15.625%\n",
            "GB | Epoch 0 | Loss: 1.6189582347869873 | Accuracy: 10.9375%\n",
            "GB | Epoch 0 | Loss: 1.6153600215911865 | Accuracy: 21.875%\n",
            "GB | Epoch 0 | Loss: 1.6124169826507568 | Accuracy: 9.375%\n",
            "GB | Epoch 0 | Loss: 1.612259030342102 | Accuracy: 17.1875%\n"
          ]
        },
        {
          "output_type": "stream",
          "name": "stderr",
          "text": [
            "Epoch 0:  39%|███▉      | 292/751 [00:06<00:09, 48.15batch/s, accuracy=20.3125%, loss=1.62]"
          ]
        },
        {
          "output_type": "stream",
          "name": "stdout",
          "text": [
            "GB | Epoch 0 | Loss: 1.6080904006958008 | Accuracy: 15.625%\n",
            "GB | Epoch 0 | Loss: 1.6169761419296265 | Accuracy: 15.625%\n",
            "GB | Epoch 0 | Loss: 1.6083095073699951 | Accuracy: 17.1875%\n",
            "GB | Epoch 0 | Loss: 1.6023317575454712 | Accuracy: 23.4375%\n",
            "GB | Epoch 0 | Loss: 1.6104708909988403 | Accuracy: 18.75%\n",
            "GB | Epoch 0 | Loss: 1.6034512519836426 | Accuracy: 18.75%\n",
            "GB | Epoch 0 | Loss: 1.6093995571136475 | Accuracy: 20.3125%\n",
            "GB | Epoch 0 | Loss: 1.6127241849899292 | Accuracy: 7.8125%\n",
            "GB | Epoch 0 | Loss: 1.6172258853912354 | Accuracy: 10.9375%\n",
            "GB | Epoch 0 | Loss: 1.6151703596115112 | Accuracy: 20.3125%\n"
          ]
        },
        {
          "output_type": "stream",
          "name": "stderr",
          "text": [
            "Epoch 0:  40%|████      | 302/751 [00:06<00:09, 48.06batch/s, accuracy=23.4375%, loss=1.61]"
          ]
        },
        {
          "output_type": "stream",
          "name": "stdout",
          "text": [
            "GB | Epoch 0 | Loss: 1.6133828163146973 | Accuracy: 12.5%\n",
            "GB | Epoch 0 | Loss: 1.6151182651519775 | Accuracy: 10.9375%\n",
            "GB | Epoch 0 | Loss: 1.6056864261627197 | Accuracy: 20.3125%\n",
            "GB | Epoch 0 | Loss: 1.6123123168945312 | Accuracy: 14.0625%\n",
            "GB | Epoch 0 | Loss: 1.6078788042068481 | Accuracy: 17.1875%\n",
            "GB | Epoch 0 | Loss: 1.6030333042144775 | Accuracy: 28.125%\n",
            "GB | Epoch 0 | Loss: 1.6089611053466797 | Accuracy: 12.5%\n",
            "GB | Epoch 0 | Loss: 1.6138466596603394 | Accuracy: 18.75%\n",
            "GB | Epoch 0 | Loss: 1.607385277748108 | Accuracy: 17.1875%\n",
            "GB | Epoch 0 | Loss: 1.6105717420578003 | Accuracy: 23.4375%\n"
          ]
        },
        {
          "output_type": "stream",
          "name": "stderr",
          "text": [
            "Epoch 0:  41%|████      | 307/751 [00:06<00:10, 42.47batch/s, accuracy=26.5625%, loss=1.6] "
          ]
        },
        {
          "output_type": "stream",
          "name": "stdout",
          "text": [
            "GB | Epoch 0 | Loss: 1.6065330505371094 | Accuracy: 15.625%\n",
            "GB | Epoch 0 | Loss: 1.6101046800613403 | Accuracy: 18.75%\n",
            "GB | Epoch 0 | Loss: 1.6044788360595703 | Accuracy: 17.1875%\n",
            "GB | Epoch 0 | Loss: 1.6120389699935913 | Accuracy: 23.4375%\n",
            "GB | Epoch 0 | Loss: 1.6132845878601074 | Accuracy: 14.0625%\n",
            "GB | Epoch 0 | Loss: 1.6008185148239136 | Accuracy: 26.5625%\n"
          ]
        },
        {
          "output_type": "stream",
          "name": "stderr",
          "text": [
            "Epoch 0:  42%|████▏     | 316/751 [00:07<00:12, 33.85batch/s, accuracy=21.875%, loss=1.6]"
          ]
        },
        {
          "output_type": "stream",
          "name": "stdout",
          "text": [
            "GB | Epoch 0 | Loss: 1.6011505126953125 | Accuracy: 21.875%\n",
            "GB | Epoch 0 | Loss: 1.6117603778839111 | Accuracy: 21.875%\n",
            "GB | Epoch 0 | Loss: 1.6096997261047363 | Accuracy: 18.75%\n",
            "GB | Epoch 0 | Loss: 1.6137583255767822 | Accuracy: 20.3125%\n",
            "GB | Epoch 0 | Loss: 1.6106563806533813 | Accuracy: 12.5%\n",
            "GB | Epoch 0 | Loss: 1.602187156677246 | Accuracy: 21.875%\n"
          ]
        },
        {
          "output_type": "stream",
          "name": "stderr",
          "text": [
            "Epoch 0:  43%|████▎     | 320/751 [00:07<00:13, 32.61batch/s, accuracy=18.75%, loss=1.61]"
          ]
        },
        {
          "output_type": "stream",
          "name": "stdout",
          "text": [
            "GB | Epoch 0 | Loss: 1.601562738418579 | Accuracy: 20.3125%\n",
            "GB | Epoch 0 | Loss: 1.6048063039779663 | Accuracy: 17.1875%\n",
            "GB | Epoch 0 | Loss: 1.6118969917297363 | Accuracy: 20.3125%\n",
            "GB | Epoch 0 | Loss: 1.6169894933700562 | Accuracy: 12.5%\n",
            "GB | Epoch 0 | Loss: 1.6116483211517334 | Accuracy: 14.0625%\n",
            "GB | Epoch 0 | Loss: 1.6107091903686523 | Accuracy: 12.5%\n",
            "GB | Epoch 0 | Loss: 1.6083616018295288 | Accuracy: 18.75%\n"
          ]
        },
        {
          "output_type": "stream",
          "name": "stderr",
          "text": [
            "Epoch 0:  44%|████▎     | 328/751 [00:07<00:13, 30.78batch/s, accuracy=21.875%, loss=1.61]"
          ]
        },
        {
          "output_type": "stream",
          "name": "stdout",
          "text": [
            "GB | Epoch 0 | Loss: 1.6077136993408203 | Accuracy: 26.5625%\n",
            "GB | Epoch 0 | Loss: 1.6188759803771973 | Accuracy: 10.9375%\n",
            "GB | Epoch 0 | Loss: 1.6090209484100342 | Accuracy: 18.75%\n",
            "GB | Epoch 0 | Loss: 1.6083077192306519 | Accuracy: 10.9375%\n",
            "GB | Epoch 0 | Loss: 1.6050760746002197 | Accuracy: 21.875%\n"
          ]
        },
        {
          "output_type": "stream",
          "name": "stderr",
          "text": [
            "Epoch 0:  44%|████▎     | 328/751 [00:07<00:13, 30.78batch/s, accuracy=20.3125%, loss=1.61]"
          ]
        },
        {
          "output_type": "stream",
          "name": "stdout",
          "text": [
            "GB | Epoch 0 | Loss: 1.615077257156372 | Accuracy: 7.8125%\n",
            "GB | Epoch 0 | Loss: 1.6108862161636353 | Accuracy: 20.3125%\n",
            "GB | Epoch 0 | Loss: 1.608367919921875 | Accuracy: 20.3125%\n"
          ]
        },
        {
          "output_type": "stream",
          "name": "stderr",
          "text": [
            "Epoch 0:  44%|████▍     | 332/751 [00:07<00:19, 21.50batch/s, accuracy=17.1875%, loss=1.61]"
          ]
        },
        {
          "output_type": "stream",
          "name": "stdout",
          "text": [
            "GB | Epoch 0 | Loss: 1.6082842350006104 | Accuracy: 17.1875%\n",
            "GB | Epoch 0 | Loss: 1.6101014614105225 | Accuracy: 15.625%\n",
            "GB | Epoch 0 | Loss: 1.6085951328277588 | Accuracy: 17.1875%\n"
          ]
        },
        {
          "output_type": "stream",
          "name": "stderr",
          "text": [
            "Epoch 0:  45%|████▍     | 335/751 [00:08<00:22, 18.59batch/s, accuracy=12.5%, loss=1.61]  "
          ]
        },
        {
          "output_type": "stream",
          "name": "stdout",
          "text": [
            "GB | Epoch 0 | Loss: 1.611122965812683 | Accuracy: 15.625%\n",
            "GB | Epoch 0 | Loss: 1.6105382442474365 | Accuracy: 12.5%\n"
          ]
        },
        {
          "output_type": "stream",
          "name": "stderr",
          "text": [
            "Epoch 0:  45%|████▌     | 338/751 [00:08<00:27, 15.07batch/s, accuracy=17.1875%, loss=1.61]"
          ]
        },
        {
          "output_type": "stream",
          "name": "stdout",
          "text": [
            "GB | Epoch 0 | Loss: 1.6082183122634888 | Accuracy: 21.875%\n",
            "GB | Epoch 0 | Loss: 1.6067456007003784 | Accuracy: 10.9375%\n",
            "GB | Epoch 0 | Loss: 1.6110374927520752 | Accuracy: 17.1875%\n"
          ]
        },
        {
          "output_type": "stream",
          "name": "stderr",
          "text": [
            "Epoch 0:  46%|████▌     | 342/751 [00:08<00:30, 13.52batch/s, accuracy=18.75%, loss=1.61]"
          ]
        },
        {
          "output_type": "stream",
          "name": "stdout",
          "text": [
            "GB | Epoch 0 | Loss: 1.6084017753601074 | Accuracy: 21.875%\n",
            "GB | Epoch 0 | Loss: 1.613444447517395 | Accuracy: 15.625%\n",
            "GB | Epoch 0 | Loss: 1.609860897064209 | Accuracy: 18.75%\n"
          ]
        },
        {
          "output_type": "stream",
          "name": "stderr",
          "text": [
            "Epoch 0:  46%|████▌     | 344/751 [00:08<00:35, 11.36batch/s, accuracy=17.1875%, loss=1.6]"
          ]
        },
        {
          "output_type": "stream",
          "name": "stdout",
          "text": [
            "GB | Epoch 0 | Loss: 1.6043306589126587 | Accuracy: 21.875%\n",
            "GB | Epoch 0 | Loss: 1.6029711961746216 | Accuracy: 17.1875%\n"
          ]
        },
        {
          "output_type": "stream",
          "name": "stderr",
          "text": [
            "Epoch 0:  46%|████▌     | 346/751 [00:09<00:41,  9.77batch/s, accuracy=15.625%, loss=1.61]"
          ]
        },
        {
          "output_type": "stream",
          "name": "stdout",
          "text": [
            "GB | Epoch 0 | Loss: 1.606789469718933 | Accuracy: 21.875%\n",
            "GB | Epoch 0 | Loss: 1.6096901893615723 | Accuracy: 15.625%\n"
          ]
        },
        {
          "output_type": "stream",
          "name": "stderr",
          "text": [
            "Epoch 0:  46%|████▋     | 348/751 [00:09<00:39, 10.20batch/s, accuracy=12.5%, loss=1.62]   "
          ]
        },
        {
          "output_type": "stream",
          "name": "stdout",
          "text": [
            "GB | Epoch 0 | Loss: 1.6111637353897095 | Accuracy: 15.625%\n",
            "GB | Epoch 0 | Loss: 1.605187177658081 | Accuracy: 17.1875%\n",
            "GB | Epoch 0 | Loss: 1.6188619136810303 | Accuracy: 12.5%\n"
          ]
        },
        {
          "output_type": "stream",
          "name": "stderr",
          "text": [
            "Epoch 0:  47%|████▋     | 352/751 [00:09<00:32, 12.28batch/s, accuracy=14.0625%, loss=1.61]"
          ]
        },
        {
          "output_type": "stream",
          "name": "stdout",
          "text": [
            "GB | Epoch 0 | Loss: 1.6111871004104614 | Accuracy: 14.0625%\n",
            "GB | Epoch 0 | Loss: 1.6081370115280151 | Accuracy: 14.0625%\n",
            "GB | Epoch 0 | Loss: 1.611377239227295 | Accuracy: 14.0625%\n"
          ]
        },
        {
          "output_type": "stream",
          "name": "stderr",
          "text": [
            "Epoch 0:  47%|████▋     | 354/751 [00:09<00:33, 11.81batch/s, accuracy=9.375%, loss=1.62]  "
          ]
        },
        {
          "output_type": "stream",
          "name": "stdout",
          "text": [
            "GB | Epoch 0 | Loss: 1.6149163246154785 | Accuracy: 20.3125%\n",
            "GB | Epoch 0 | Loss: 1.6093043088912964 | Accuracy: 17.1875%\n",
            "GB | Epoch 0 | Loss: 1.6176544427871704 | Accuracy: 9.375%\n"
          ]
        },
        {
          "output_type": "stream",
          "name": "stderr",
          "text": [
            "Epoch 0:  48%|████▊     | 358/751 [00:10<00:31, 12.44batch/s, accuracy=17.1875%, loss=1.61]"
          ]
        },
        {
          "output_type": "stream",
          "name": "stdout",
          "text": [
            "GB | Epoch 0 | Loss: 1.6059576272964478 | Accuracy: 14.0625%\n",
            "GB | Epoch 0 | Loss: 1.604612946510315 | Accuracy: 18.75%\n",
            "GB | Epoch 0 | Loss: 1.6081451177597046 | Accuracy: 14.0625%\n",
            "GB | Epoch 0 | Loss: 1.6063896417617798 | Accuracy: 17.1875%\n"
          ]
        },
        {
          "output_type": "stream",
          "name": "stderr",
          "text": [
            "Epoch 0:  48%|████▊     | 362/751 [00:10<00:27, 14.04batch/s, accuracy=20.3125%, loss=1.61]"
          ]
        },
        {
          "output_type": "stream",
          "name": "stdout",
          "text": [
            "GB | Epoch 0 | Loss: 1.611901044845581 | Accuracy: 21.875%\n",
            "GB | Epoch 0 | Loss: 1.6075927019119263 | Accuracy: 15.625%\n",
            "GB | Epoch 0 | Loss: 1.6090422868728638 | Accuracy: 20.3125%\n"
          ]
        },
        {
          "output_type": "stream",
          "name": "stderr",
          "text": [
            "Epoch 0:  48%|████▊     | 364/751 [00:10<00:31, 12.30batch/s, accuracy=18.75%, loss=1.61]"
          ]
        },
        {
          "output_type": "stream",
          "name": "stdout",
          "text": [
            "GB | Epoch 0 | Loss: 1.6163831949234009 | Accuracy: 12.5%\n",
            "GB | Epoch 0 | Loss: 1.6098172664642334 | Accuracy: 6.25%\n",
            "GB | Epoch 0 | Loss: 1.6106210947036743 | Accuracy: 18.75%\n"
          ]
        },
        {
          "output_type": "stream",
          "name": "stderr",
          "text": [
            "Epoch 0:  49%|████▉     | 368/751 [00:11<00:32, 11.91batch/s, accuracy=23.4375%, loss=1.6] "
          ]
        },
        {
          "output_type": "stream",
          "name": "stdout",
          "text": [
            "GB | Epoch 0 | Loss: 1.6075632572174072 | Accuracy: 15.625%\n",
            "GB | Epoch 0 | Loss: 1.608283281326294 | Accuracy: 20.3125%\n",
            "GB | Epoch 0 | Loss: 1.608271598815918 | Accuracy: 23.4375%\n",
            "GB | Epoch 0 | Loss: 1.6012134552001953 | Accuracy: 23.4375%\n"
          ]
        },
        {
          "output_type": "stream",
          "name": "stderr",
          "text": [
            "Epoch 0:  50%|████▉     | 374/751 [00:11<00:22, 16.74batch/s, accuracy=23.4375%, loss=1.61]"
          ]
        },
        {
          "output_type": "stream",
          "name": "stdout",
          "text": [
            "GB | Epoch 0 | Loss: 1.6126796007156372 | Accuracy: 10.9375%\n",
            "GB | Epoch 0 | Loss: 1.6043375730514526 | Accuracy: 26.5625%\n",
            "GB | Epoch 0 | Loss: 1.6010832786560059 | Accuracy: 15.625%\n",
            "GB | Epoch 0 | Loss: 1.608107566833496 | Accuracy: 12.5%\n",
            "GB | Epoch 0 | Loss: 1.606887936592102 | Accuracy: 23.4375%\n"
          ]
        },
        {
          "output_type": "stream",
          "name": "stderr",
          "text": [
            "Epoch 0:  50%|█████     | 378/751 [00:11<00:23, 16.00batch/s, accuracy=20.3125%, loss=1.61]"
          ]
        },
        {
          "output_type": "stream",
          "name": "stdout",
          "text": [
            "GB | Epoch 0 | Loss: 1.6097326278686523 | Accuracy: 17.1875%\n",
            "GB | Epoch 0 | Loss: 1.6041914224624634 | Accuracy: 20.3125%\n",
            "GB | Epoch 0 | Loss: 1.6067571640014648 | Accuracy: 14.0625%\n",
            "GB | Epoch 0 | Loss: 1.6079399585723877 | Accuracy: 20.3125%\n"
          ]
        },
        {
          "output_type": "stream",
          "name": "stderr",
          "text": [
            "Epoch 0:  51%|█████     | 384/751 [00:11<00:17, 21.29batch/s, accuracy=15.625%, loss=1.61]"
          ]
        },
        {
          "output_type": "stream",
          "name": "stdout",
          "text": [
            "GB | Epoch 0 | Loss: 1.6107511520385742 | Accuracy: 17.1875%\n",
            "GB | Epoch 0 | Loss: 1.6102908849716187 | Accuracy: 17.1875%\n",
            "GB | Epoch 0 | Loss: 1.6100594997406006 | Accuracy: 21.875%\n",
            "GB | Epoch 0 | Loss: 1.6097193956375122 | Accuracy: 17.1875%\n",
            "GB | Epoch 0 | Loss: 1.6107722520828247 | Accuracy: 18.75%\n",
            "GB | Epoch 0 | Loss: 1.6108969449996948 | Accuracy: 15.625%\n"
          ]
        },
        {
          "output_type": "stream",
          "name": "stderr",
          "text": [
            "Epoch 0:  52%|█████▏    | 391/751 [00:11<00:14, 25.37batch/s, accuracy=14.0625%, loss=1.62]"
          ]
        },
        {
          "output_type": "stream",
          "name": "stdout",
          "text": [
            "GB | Epoch 0 | Loss: 1.6126956939697266 | Accuracy: 12.5%\n",
            "GB | Epoch 0 | Loss: 1.6141266822814941 | Accuracy: 10.9375%\n",
            "GB | Epoch 0 | Loss: 1.6161363124847412 | Accuracy: 18.75%\n",
            "GB | Epoch 0 | Loss: 1.6072477102279663 | Accuracy: 17.1875%\n",
            "GB | Epoch 0 | Loss: 1.6112192869186401 | Accuracy: 10.9375%\n",
            "GB | Epoch 0 | Loss: 1.6107897758483887 | Accuracy: 14.0625%\n",
            "GB | Epoch 0 | Loss: 1.6168830394744873 | Accuracy: 14.0625%\n"
          ]
        },
        {
          "output_type": "stream",
          "name": "stderr",
          "text": [
            "Epoch 0:  52%|█████▏    | 394/751 [00:12<00:15, 22.98batch/s, accuracy=14.0625%, loss=1.61]"
          ]
        },
        {
          "output_type": "stream",
          "name": "stdout",
          "text": [
            "GB | Epoch 0 | Loss: 1.6090106964111328 | Accuracy: 18.75%\n",
            "GB | Epoch 0 | Loss: 1.6041443347930908 | Accuracy: 17.1875%\n",
            "GB | Epoch 0 | Loss: 1.6101399660110474 | Accuracy: 14.0625%\n",
            "GB | Epoch 0 | Loss: 1.6134370565414429 | Accuracy: 14.0625%\n"
          ]
        },
        {
          "output_type": "stream",
          "name": "stderr",
          "text": [
            "Epoch 0:  53%|█████▎    | 397/751 [00:12<00:17, 19.89batch/s, accuracy=9.375%, loss=1.61]"
          ]
        },
        {
          "output_type": "stream",
          "name": "stdout",
          "text": [
            "GB | Epoch 0 | Loss: 1.6143789291381836 | Accuracy: 12.5%\n",
            "GB | Epoch 0 | Loss: 1.6059225797653198 | Accuracy: 14.0625%\n",
            "GB | Epoch 0 | Loss: 1.6074466705322266 | Accuracy: 12.5%\n"
          ]
        },
        {
          "output_type": "stream",
          "name": "stderr",
          "text": [
            "Epoch 0:  53%|█████▎    | 400/751 [00:12<00:21, 16.33batch/s, accuracy=23.4375%, loss=1.6]"
          ]
        },
        {
          "output_type": "stream",
          "name": "stdout",
          "text": [
            "GB | Epoch 0 | Loss: 1.6127699613571167 | Accuracy: 9.375%\n",
            "GB | Epoch 0 | Loss: 1.611370325088501 | Accuracy: 9.375%\n",
            "GB | Epoch 0 | Loss: 1.6011277437210083 | Accuracy: 23.4375%\n"
          ]
        },
        {
          "output_type": "stream",
          "name": "stderr",
          "text": [
            "Epoch 0:  54%|█████▍    | 405/751 [00:12<00:21, 16.05batch/s, accuracy=18.75%, loss=1.61]"
          ]
        },
        {
          "output_type": "stream",
          "name": "stdout",
          "text": [
            "GB | Epoch 0 | Loss: 1.6125136613845825 | Accuracy: 17.1875%\n",
            "GB | Epoch 0 | Loss: 1.6108722686767578 | Accuracy: 14.0625%\n",
            "GB | Epoch 0 | Loss: 1.6061159372329712 | Accuracy: 21.875%\n",
            "GB | Epoch 0 | Loss: 1.6123781204223633 | Accuracy: 18.75%\n"
          ]
        },
        {
          "output_type": "stream",
          "name": "stderr",
          "text": [
            "Epoch 0:  54%|█████▍    | 409/751 [00:13<00:21, 16.06batch/s, accuracy=17.1875%, loss=1.61]"
          ]
        },
        {
          "output_type": "stream",
          "name": "stdout",
          "text": [
            "GB | Epoch 0 | Loss: 1.6055715084075928 | Accuracy: 23.4375%\n",
            "GB | Epoch 0 | Loss: 1.6088035106658936 | Accuracy: 26.5625%\n",
            "GB | Epoch 0 | Loss: 1.6105217933654785 | Accuracy: 15.625%\n",
            "GB | Epoch 0 | Loss: 1.6106513738632202 | Accuracy: 17.1875%\n"
          ]
        },
        {
          "output_type": "stream",
          "name": "stderr",
          "text": [
            "Epoch 0:  55%|█████▍    | 413/751 [00:13<00:19, 17.36batch/s, accuracy=28.125%, loss=1.6] "
          ]
        },
        {
          "output_type": "stream",
          "name": "stdout",
          "text": [
            "GB | Epoch 0 | Loss: 1.6103237867355347 | Accuracy: 18.75%\n",
            "GB | Epoch 0 | Loss: 1.6050313711166382 | Accuracy: 18.75%\n",
            "GB | Epoch 0 | Loss: 1.6100482940673828 | Accuracy: 12.5%\n",
            "GB | Epoch 0 | Loss: 1.6124860048294067 | Accuracy: 15.625%\n",
            "GB | Epoch 0 | Loss: 1.6010416746139526 | Accuracy: 28.125%\n"
          ]
        },
        {
          "output_type": "stream",
          "name": "stderr",
          "text": [
            "Epoch 0:  55%|█████▌    | 416/751 [00:13<00:16, 19.93batch/s, accuracy=21.875%, loss=1.61] "
          ]
        },
        {
          "output_type": "stream",
          "name": "stdout",
          "text": [
            "GB | Epoch 0 | Loss: 1.614806890487671 | Accuracy: 15.625%\n",
            "GB | Epoch 0 | Loss: 1.607460379600525 | Accuracy: 17.1875%\n",
            "GB | Epoch 0 | Loss: 1.6058789491653442 | Accuracy: 21.875%\n"
          ]
        },
        {
          "output_type": "stream",
          "name": "stderr",
          "text": [
            "Epoch 0:  56%|█████▌    | 421/751 [00:13<00:19, 16.85batch/s, accuracy=15.625%, loss=1.61]"
          ]
        },
        {
          "output_type": "stream",
          "name": "stdout",
          "text": [
            "GB | Epoch 0 | Loss: 1.6050983667373657 | Accuracy: 14.0625%\n",
            "GB | Epoch 0 | Loss: 1.6131736040115356 | Accuracy: 10.9375%\n",
            "GB | Epoch 0 | Loss: 1.6179612874984741 | Accuracy: 17.1875%\n",
            "GB | Epoch 0 | Loss: 1.6123461723327637 | Accuracy: 15.625%\n"
          ]
        },
        {
          "output_type": "stream",
          "name": "stderr",
          "text": [
            "Epoch 0:  57%|█████▋    | 425/751 [00:14<00:19, 16.85batch/s, accuracy=14.0625%, loss=1.61]"
          ]
        },
        {
          "output_type": "stream",
          "name": "stdout",
          "text": [
            "GB | Epoch 0 | Loss: 1.6088297367095947 | Accuracy: 18.75%\n",
            "GB | Epoch 0 | Loss: 1.6082091331481934 | Accuracy: 20.3125%\n",
            "GB | Epoch 0 | Loss: 1.6140730381011963 | Accuracy: 20.3125%\n",
            "GB | Epoch 0 | Loss: 1.6137750148773193 | Accuracy: 14.0625%\n"
          ]
        },
        {
          "output_type": "stream",
          "name": "stderr",
          "text": [
            "Epoch 0:  57%|█████▋    | 430/751 [00:14<00:16, 19.56batch/s, accuracy=18.75%, loss=1.61]"
          ]
        },
        {
          "output_type": "stream",
          "name": "stdout",
          "text": [
            "GB | Epoch 0 | Loss: 1.6081717014312744 | Accuracy: 21.875%\n",
            "GB | Epoch 0 | Loss: 1.6066491603851318 | Accuracy: 23.4375%\n",
            "GB | Epoch 0 | Loss: 1.6071127653121948 | Accuracy: 20.3125%\n",
            "GB | Epoch 0 | Loss: 1.6150087118148804 | Accuracy: 17.1875%\n",
            "GB | Epoch 0 | Loss: 1.6108813285827637 | Accuracy: 18.75%\n"
          ]
        },
        {
          "output_type": "stream",
          "name": "stderr",
          "text": [
            "Epoch 0:  58%|█████▊    | 433/751 [00:14<00:15, 20.76batch/s, accuracy=14.0625%, loss=1.6]"
          ]
        },
        {
          "output_type": "stream",
          "name": "stdout",
          "text": [
            "GB | Epoch 0 | Loss: 1.6106321811676025 | Accuracy: 18.75%\n",
            "GB | Epoch 0 | Loss: 1.602673888206482 | Accuracy: 17.1875%\n",
            "GB | Epoch 0 | Loss: 1.606095790863037 | Accuracy: 23.4375%\n",
            "GB | Epoch 0 | Loss: 1.5977288484573364 | Accuracy: 29.6875%\n",
            "GB | Epoch 0 | Loss: 1.6033458709716797 | Accuracy: 14.0625%\n"
          ]
        },
        {
          "output_type": "stream",
          "name": "stderr",
          "text": [
            "Epoch 0:  58%|█████▊    | 439/751 [00:14<00:16, 19.21batch/s, accuracy=12.5%, loss=1.62]   "
          ]
        },
        {
          "output_type": "stream",
          "name": "stdout",
          "text": [
            "GB | Epoch 0 | Loss: 1.6096546649932861 | Accuracy: 12.5%\n",
            "GB | Epoch 0 | Loss: 1.6119015216827393 | Accuracy: 15.625%\n",
            "GB | Epoch 0 | Loss: 1.6095978021621704 | Accuracy: 14.0625%\n",
            "GB | Epoch 0 | Loss: 1.6145626306533813 | Accuracy: 14.0625%\n",
            "GB | Epoch 0 | Loss: 1.616707444190979 | Accuracy: 12.5%\n"
          ]
        },
        {
          "output_type": "stream",
          "name": "stderr",
          "text": [
            "Epoch 0:  59%|█████▉    | 445/751 [00:15<00:13, 22.63batch/s, accuracy=14.0625%, loss=1.61]"
          ]
        },
        {
          "output_type": "stream",
          "name": "stdout",
          "text": [
            "GB | Epoch 0 | Loss: 1.606153130531311 | Accuracy: 12.5%\n",
            "GB | Epoch 0 | Loss: 1.6110204458236694 | Accuracy: 12.5%\n",
            "GB | Epoch 0 | Loss: 1.61910080909729 | Accuracy: 6.25%\n",
            "GB | Epoch 0 | Loss: 1.6054669618606567 | Accuracy: 18.75%\n",
            "GB | Epoch 0 | Loss: 1.6068438291549683 | Accuracy: 14.0625%\n",
            "GB | Epoch 0 | Loss: 1.6089203357696533 | Accuracy: 14.0625%\n"
          ]
        },
        {
          "output_type": "stream",
          "name": "stderr",
          "text": [
            "Epoch 0:  60%|██████    | 452/751 [00:15<00:11, 25.80batch/s, accuracy=23.4375%, loss=1.6]"
          ]
        },
        {
          "output_type": "stream",
          "name": "stdout",
          "text": [
            "GB | Epoch 0 | Loss: 1.6023211479187012 | Accuracy: 20.3125%\n",
            "GB | Epoch 0 | Loss: 1.612743616104126 | Accuracy: 20.3125%\n",
            "GB | Epoch 0 | Loss: 1.6073410511016846 | Accuracy: 15.625%\n",
            "GB | Epoch 0 | Loss: 1.6113911867141724 | Accuracy: 18.75%\n",
            "GB | Epoch 0 | Loss: 1.6116576194763184 | Accuracy: 9.375%\n",
            "GB | Epoch 0 | Loss: 1.6013407707214355 | Accuracy: 23.4375%\n"
          ]
        },
        {
          "output_type": "stream",
          "name": "stderr",
          "text": [
            "Epoch 0:  61%|██████    | 455/751 [00:15<00:12, 24.23batch/s, accuracy=15.625%, loss=1.61] "
          ]
        },
        {
          "output_type": "stream",
          "name": "stdout",
          "text": [
            "GB | Epoch 0 | Loss: 1.6111170053482056 | Accuracy: 18.75%\n",
            "GB | Epoch 0 | Loss: 1.6053519248962402 | Accuracy: 21.875%\n",
            "GB | Epoch 0 | Loss: 1.610161542892456 | Accuracy: 17.1875%\n",
            "GB | Epoch 0 | Loss: 1.6101958751678467 | Accuracy: 15.625%\n"
          ]
        },
        {
          "output_type": "stream",
          "name": "stderr",
          "text": [
            "Epoch 0:  61%|██████▏   | 461/751 [00:15<00:13, 21.15batch/s, accuracy=21.875%, loss=1.61]"
          ]
        },
        {
          "output_type": "stream",
          "name": "stdout",
          "text": [
            "GB | Epoch 0 | Loss: 1.611781120300293 | Accuracy: 10.9375%\n",
            "GB | Epoch 0 | Loss: 1.6064499616622925 | Accuracy: 10.9375%\n",
            "GB | Epoch 0 | Loss: 1.6033166646957397 | Accuracy: 14.0625%\n",
            "GB | Epoch 0 | Loss: 1.6136960983276367 | Accuracy: 9.375%\n",
            "GB | Epoch 0 | Loss: 1.6062138080596924 | Accuracy: 21.875%\n"
          ]
        },
        {
          "output_type": "stream",
          "name": "stderr",
          "text": [
            "Epoch 0:  62%|██████▏   | 464/751 [00:15<00:14, 20.18batch/s, accuracy=15.625%, loss=1.61] "
          ]
        },
        {
          "output_type": "stream",
          "name": "stdout",
          "text": [
            "GB | Epoch 0 | Loss: 1.605830192565918 | Accuracy: 15.625%\n",
            "GB | Epoch 0 | Loss: 1.6076558828353882 | Accuracy: 17.1875%\n",
            "GB | Epoch 0 | Loss: 1.6110740900039673 | Accuracy: 14.0625%\n",
            "GB | Epoch 0 | Loss: 1.6098456382751465 | Accuracy: 15.625%\n"
          ]
        },
        {
          "output_type": "stream",
          "name": "stderr",
          "text": [
            "Epoch 0:  63%|██████▎   | 470/751 [00:16<00:12, 22.23batch/s, accuracy=21.875%, loss=1.6]  "
          ]
        },
        {
          "output_type": "stream",
          "name": "stdout",
          "text": [
            "GB | Epoch 0 | Loss: 1.607860803604126 | Accuracy: 10.9375%\n",
            "GB | Epoch 0 | Loss: 1.6112453937530518 | Accuracy: 21.875%\n",
            "GB | Epoch 0 | Loss: 1.6021935939788818 | Accuracy: 18.75%\n",
            "GB | Epoch 0 | Loss: 1.6103068590164185 | Accuracy: 17.1875%\n",
            "GB | Epoch 0 | Loss: 1.608380913734436 | Accuracy: 17.1875%\n",
            "GB | Epoch 0 | Loss: 1.6048176288604736 | Accuracy: 21.875%\n"
          ]
        },
        {
          "output_type": "stream",
          "name": "stderr",
          "text": [
            "Epoch 0:  63%|██████▎   | 473/751 [00:16<00:12, 22.13batch/s, accuracy=14.0625%, loss=1.61]"
          ]
        },
        {
          "output_type": "stream",
          "name": "stdout",
          "text": [
            "GB | Epoch 0 | Loss: 1.6170953512191772 | Accuracy: 9.375%\n",
            "GB | Epoch 0 | Loss: 1.6066782474517822 | Accuracy: 20.3125%\n",
            "GB | Epoch 0 | Loss: 1.6099106073379517 | Accuracy: 28.125%\n",
            "GB | Epoch 0 | Loss: 1.6108689308166504 | Accuracy: 14.0625%\n"
          ]
        },
        {
          "output_type": "stream",
          "name": "stderr",
          "text": [
            "Epoch 0:  64%|██████▍   | 479/751 [00:16<00:12, 21.28batch/s, accuracy=9.375%, loss=1.62]"
          ]
        },
        {
          "output_type": "stream",
          "name": "stdout",
          "text": [
            "GB | Epoch 0 | Loss: 1.6092602014541626 | Accuracy: 17.1875%\n",
            "GB | Epoch 0 | Loss: 1.604176640510559 | Accuracy: 17.1875%\n",
            "GB | Epoch 0 | Loss: 1.6101913452148438 | Accuracy: 21.875%\n",
            "GB | Epoch 0 | Loss: 1.6111247539520264 | Accuracy: 12.5%\n",
            "GB | Epoch 0 | Loss: 1.6154640913009644 | Accuracy: 9.375%\n"
          ]
        },
        {
          "output_type": "stream",
          "name": "stderr",
          "text": [
            "Epoch 0:  64%|██████▍   | 482/751 [00:16<00:12, 20.90batch/s, accuracy=9.375%, loss=1.61]"
          ]
        },
        {
          "output_type": "stream",
          "name": "stdout",
          "text": [
            "GB | Epoch 0 | Loss: 1.6110248565673828 | Accuracy: 15.625%\n",
            "GB | Epoch 0 | Loss: 1.605695128440857 | Accuracy: 20.3125%\n",
            "GB | Epoch 0 | Loss: 1.6147910356521606 | Accuracy: 18.75%\n",
            "GB | Epoch 0 | Loss: 1.6077041625976562 | Accuracy: 9.375%\n"
          ]
        },
        {
          "output_type": "stream",
          "name": "stderr",
          "text": [
            "Epoch 0:  65%|██████▍   | 487/751 [00:17<00:14, 18.44batch/s, accuracy=17.1875%, loss=1.61]"
          ]
        },
        {
          "output_type": "stream",
          "name": "stdout",
          "text": [
            "GB | Epoch 0 | Loss: 1.6058223247528076 | Accuracy: 28.125%\n",
            "GB | Epoch 0 | Loss: 1.6153713464736938 | Accuracy: 7.8125%\n",
            "GB | Epoch 0 | Loss: 1.609508991241455 | Accuracy: 12.5%\n",
            "GB | Epoch 0 | Loss: 1.6098411083221436 | Accuracy: 17.1875%\n"
          ]
        },
        {
          "output_type": "stream",
          "name": "stderr",
          "text": [
            "Epoch 0:  65%|██████▌   | 491/751 [00:17<00:14, 17.63batch/s, accuracy=9.375%, loss=1.62]"
          ]
        },
        {
          "output_type": "stream",
          "name": "stdout",
          "text": [
            "GB | Epoch 0 | Loss: 1.6126863956451416 | Accuracy: 15.625%\n",
            "GB | Epoch 0 | Loss: 1.6096950769424438 | Accuracy: 17.1875%\n",
            "GB | Epoch 0 | Loss: 1.6228930950164795 | Accuracy: 9.375%\n"
          ]
        },
        {
          "output_type": "stream",
          "name": "stderr",
          "text": [
            "Epoch 0:  66%|██████▌   | 493/751 [00:17<00:16, 15.35batch/s, accuracy=20.3125%, loss=1.61]"
          ]
        },
        {
          "output_type": "stream",
          "name": "stdout",
          "text": [
            "GB | Epoch 0 | Loss: 1.6119602918624878 | Accuracy: 14.0625%\n",
            "GB | Epoch 0 | Loss: 1.6212375164031982 | Accuracy: 12.5%\n",
            "GB | Epoch 0 | Loss: 1.6220341920852661 | Accuracy: 15.625%\n",
            "GB | Epoch 0 | Loss: 1.602717638015747 | Accuracy: 21.875%\n"
          ]
        },
        {
          "output_type": "stream",
          "name": "stderr",
          "text": [
            "Epoch 0:  66%|██████▋   | 498/751 [00:17<00:14, 17.67batch/s, accuracy=23.4375%, loss=1.6] "
          ]
        },
        {
          "output_type": "stream",
          "name": "stdout",
          "text": [
            "GB | Epoch 0 | Loss: 1.608201503753662 | Accuracy: 20.3125%\n",
            "GB | Epoch 0 | Loss: 1.6091322898864746 | Accuracy: 17.1875%\n",
            "GB | Epoch 0 | Loss: 1.6161969900131226 | Accuracy: 7.8125%\n",
            "GB | Epoch 0 | Loss: 1.609239935874939 | Accuracy: 14.0625%\n",
            "GB | Epoch 0 | Loss: 1.604882001876831 | Accuracy: 23.4375%\n"
          ]
        },
        {
          "output_type": "stream",
          "name": "stderr",
          "text": [
            "Epoch 0:  67%|██████▋   | 504/751 [00:18<00:11, 20.77batch/s, accuracy=18.75%, loss=1.62] "
          ]
        },
        {
          "output_type": "stream",
          "name": "stdout",
          "text": [
            "GB | Epoch 0 | Loss: 1.6105515956878662 | Accuracy: 18.75%\n",
            "GB | Epoch 0 | Loss: 1.6080567836761475 | Accuracy: 14.0625%\n",
            "GB | Epoch 0 | Loss: 1.6035008430480957 | Accuracy: 21.875%\n",
            "GB | Epoch 0 | Loss: 1.6050891876220703 | Accuracy: 23.4375%\n",
            "GB | Epoch 0 | Loss: 1.6110682487487793 | Accuracy: 15.625%\n",
            "GB | Epoch 0 | Loss: 1.6150634288787842 | Accuracy: 18.75%\n"
          ]
        },
        {
          "output_type": "stream",
          "name": "stderr",
          "text": [
            "Epoch 0:  68%|██████▊   | 510/751 [00:18<00:10, 23.20batch/s, accuracy=18.75%, loss=1.61]"
          ]
        },
        {
          "output_type": "stream",
          "name": "stdout",
          "text": [
            "GB | Epoch 0 | Loss: 1.6131418943405151 | Accuracy: 14.0625%\n",
            "GB | Epoch 0 | Loss: 1.6075795888900757 | Accuracy: 15.625%\n",
            "GB | Epoch 0 | Loss: 1.6055468320846558 | Accuracy: 18.75%\n",
            "GB | Epoch 0 | Loss: 1.6067731380462646 | Accuracy: 20.3125%\n",
            "GB | Epoch 0 | Loss: 1.6061326265335083 | Accuracy: 18.75%\n",
            "GB | Epoch 0 | Loss: 1.6103050708770752 | Accuracy: 18.75%\n"
          ]
        },
        {
          "output_type": "stream",
          "name": "stderr",
          "text": [
            "Epoch 0:  69%|██████▊   | 516/751 [00:18<00:10, 23.14batch/s, accuracy=18.75%, loss=1.61]"
          ]
        },
        {
          "output_type": "stream",
          "name": "stdout",
          "text": [
            "GB | Epoch 0 | Loss: 1.6040267944335938 | Accuracy: 17.1875%\n",
            "GB | Epoch 0 | Loss: 1.612859845161438 | Accuracy: 15.625%\n",
            "GB | Epoch 0 | Loss: 1.6050498485565186 | Accuracy: 18.75%\n",
            "GB | Epoch 0 | Loss: 1.6109539270401 | Accuracy: 12.5%\n",
            "GB | Epoch 0 | Loss: 1.6054630279541016 | Accuracy: 18.75%\n"
          ]
        },
        {
          "output_type": "stream",
          "name": "stderr",
          "text": [
            "Epoch 0:  70%|██████▉   | 522/751 [00:18<00:10, 22.07batch/s, accuracy=25.0%, loss=1.61]"
          ]
        },
        {
          "output_type": "stream",
          "name": "stdout",
          "text": [
            "GB | Epoch 0 | Loss: 1.6149275302886963 | Accuracy: 12.5%\n",
            "GB | Epoch 0 | Loss: 1.6111953258514404 | Accuracy: 18.75%\n",
            "GB | Epoch 0 | Loss: 1.6194390058517456 | Accuracy: 10.9375%\n",
            "GB | Epoch 0 | Loss: 1.6043741703033447 | Accuracy: 20.3125%\n",
            "GB | Epoch 0 | Loss: 1.6060105562210083 | Accuracy: 25.0%\n"
          ]
        },
        {
          "output_type": "stream",
          "name": "stderr",
          "text": [
            "Epoch 0:  70%|██████▉   | 525/751 [00:19<00:12, 18.35batch/s, accuracy=14.0625%, loss=1.61]"
          ]
        },
        {
          "output_type": "stream",
          "name": "stdout",
          "text": [
            "GB | Epoch 0 | Loss: 1.6130130290985107 | Accuracy: 14.0625%\n",
            "GB | Epoch 0 | Loss: 1.6117442846298218 | Accuracy: 15.625%\n",
            "GB | Epoch 0 | Loss: 1.6069616079330444 | Accuracy: 17.1875%\n",
            "GB | Epoch 0 | Loss: 1.6106021404266357 | Accuracy: 14.0625%\n"
          ]
        },
        {
          "output_type": "stream",
          "name": "stderr",
          "text": [
            "Epoch 0:  70%|███████   | 529/751 [00:19<00:13, 16.51batch/s, accuracy=12.5%, loss=1.61]"
          ]
        },
        {
          "output_type": "stream",
          "name": "stdout",
          "text": [
            "GB | Epoch 0 | Loss: 1.612553358078003 | Accuracy: 12.5%\n",
            "GB | Epoch 0 | Loss: 1.6083054542541504 | Accuracy: 20.3125%\n",
            "GB | Epoch 0 | Loss: 1.6130030155181885 | Accuracy: 12.5%\n",
            "GB | Epoch 0 | Loss: 1.614194631576538 | Accuracy: 12.5%\n"
          ]
        },
        {
          "output_type": "stream",
          "name": "stderr",
          "text": [
            "Epoch 0:  71%|███████   | 534/751 [00:19<00:12, 17.09batch/s, accuracy=14.0625%, loss=1.61]"
          ]
        },
        {
          "output_type": "stream",
          "name": "stdout",
          "text": [
            "GB | Epoch 0 | Loss: 1.6029961109161377 | Accuracy: 17.1875%\n",
            "GB | Epoch 0 | Loss: 1.6037330627441406 | Accuracy: 23.4375%\n",
            "GB | Epoch 0 | Loss: 1.6051312685012817 | Accuracy: 15.625%\n",
            "GB | Epoch 0 | Loss: 1.6155811548233032 | Accuracy: 10.9375%\n",
            "GB | Epoch 0 | Loss: 1.6119449138641357 | Accuracy: 14.0625%\n"
          ]
        },
        {
          "output_type": "stream",
          "name": "stderr",
          "text": [
            "Epoch 0:  72%|███████▏  | 540/751 [00:19<00:09, 21.14batch/s, accuracy=14.0625%, loss=1.61]"
          ]
        },
        {
          "output_type": "stream",
          "name": "stdout",
          "text": [
            "GB | Epoch 0 | Loss: 1.6140708923339844 | Accuracy: 10.9375%\n",
            "GB | Epoch 0 | Loss: 1.6052864789962769 | Accuracy: 23.4375%\n",
            "GB | Epoch 0 | Loss: 1.6087623834609985 | Accuracy: 12.5%\n",
            "GB | Epoch 0 | Loss: 1.6099549531936646 | Accuracy: 15.625%\n",
            "GB | Epoch 0 | Loss: 1.6123777627944946 | Accuracy: 14.0625%\n",
            "GB | Epoch 0 | Loss: 1.6086978912353516 | Accuracy: 14.0625%\n"
          ]
        },
        {
          "output_type": "stream",
          "name": "stderr",
          "text": [
            "Epoch 0:  73%|███████▎  | 546/751 [00:20<00:09, 21.51batch/s, accuracy=20.3125%, loss=1.61]"
          ]
        },
        {
          "output_type": "stream",
          "name": "stdout",
          "text": [
            "GB | Epoch 0 | Loss: 1.6037044525146484 | Accuracy: 18.75%\n",
            "GB | Epoch 0 | Loss: 1.614505410194397 | Accuracy: 17.1875%\n",
            "GB | Epoch 0 | Loss: 1.6121329069137573 | Accuracy: 21.875%\n",
            "GB | Epoch 0 | Loss: 1.6033457517623901 | Accuracy: 23.4375%\n",
            "GB | Epoch 0 | Loss: 1.610247015953064 | Accuracy: 20.3125%\n"
          ]
        },
        {
          "output_type": "stream",
          "name": "stderr",
          "text": [
            "Epoch 0:  74%|███████▎  | 552/751 [00:20<00:08, 23.86batch/s, accuracy=12.5%, loss=1.61]"
          ]
        },
        {
          "output_type": "stream",
          "name": "stdout",
          "text": [
            "GB | Epoch 0 | Loss: 1.6160447597503662 | Accuracy: 15.625%\n",
            "GB | Epoch 0 | Loss: 1.605666160583496 | Accuracy: 25.0%\n",
            "GB | Epoch 0 | Loss: 1.6174322366714478 | Accuracy: 17.1875%\n",
            "GB | Epoch 0 | Loss: 1.6050015687942505 | Accuracy: 17.1875%\n",
            "GB | Epoch 0 | Loss: 1.611440658569336 | Accuracy: 15.625%\n",
            "GB | Epoch 0 | Loss: 1.611302375793457 | Accuracy: 12.5%\n"
          ]
        },
        {
          "output_type": "stream",
          "name": "stderr",
          "text": [
            "Epoch 0:  74%|███████▍  | 558/751 [00:20<00:07, 24.32batch/s, accuracy=10.9375%, loss=1.61]"
          ]
        },
        {
          "output_type": "stream",
          "name": "stdout",
          "text": [
            "GB | Epoch 0 | Loss: 1.6186901330947876 | Accuracy: 15.625%\n",
            "GB | Epoch 0 | Loss: 1.6029527187347412 | Accuracy: 23.4375%\n",
            "GB | Epoch 0 | Loss: 1.599050521850586 | Accuracy: 21.875%\n",
            "GB | Epoch 0 | Loss: 1.6119600534439087 | Accuracy: 18.75%\n",
            "GB | Epoch 0 | Loss: 1.610595703125 | Accuracy: 12.5%\n",
            "GB | Epoch 0 | Loss: 1.6062743663787842 | Accuracy: 10.9375%\n"
          ]
        },
        {
          "output_type": "stream",
          "name": "stderr",
          "text": [
            "Epoch 0:  75%|███████▍  | 561/751 [00:20<00:09, 20.35batch/s, accuracy=10.9375%, loss=1.61]"
          ]
        },
        {
          "output_type": "stream",
          "name": "stdout",
          "text": [
            "GB | Epoch 0 | Loss: 1.6074556112289429 | Accuracy: 21.875%\n",
            "GB | Epoch 0 | Loss: 1.6152578592300415 | Accuracy: 20.3125%\n",
            "GB | Epoch 0 | Loss: 1.6101322174072266 | Accuracy: 25.0%\n",
            "GB | Epoch 0 | Loss: 1.6104705333709717 | Accuracy: 10.9375%\n"
          ]
        },
        {
          "output_type": "stream",
          "name": "stderr",
          "text": [
            "Epoch 0:  75%|███████▌  | 564/751 [00:20<00:09, 20.54batch/s, accuracy=7.8125%, loss=1.61] "
          ]
        },
        {
          "output_type": "stream",
          "name": "stdout",
          "text": [
            "GB | Epoch 0 | Loss: 1.6069622039794922 | Accuracy: 17.1875%\n",
            "GB | Epoch 0 | Loss: 1.6096757650375366 | Accuracy: 17.1875%\n",
            "GB | Epoch 0 | Loss: 1.6148011684417725 | Accuracy: 7.8125%\n"
          ]
        },
        {
          "output_type": "stream",
          "name": "stderr",
          "text": [
            "Epoch 0:  75%|███████▌  | 567/751 [00:21<00:11, 16.01batch/s, accuracy=21.875%, loss=1.61] "
          ]
        },
        {
          "output_type": "stream",
          "name": "stdout",
          "text": [
            "GB | Epoch 0 | Loss: 1.6135227680206299 | Accuracy: 14.0625%\n",
            "GB | Epoch 0 | Loss: 1.6112897396087646 | Accuracy: 20.3125%\n",
            "GB | Epoch 0 | Loss: 1.6065922975540161 | Accuracy: 21.875%\n"
          ]
        },
        {
          "output_type": "stream",
          "name": "stderr",
          "text": [
            "Epoch 0:  76%|███████▌  | 571/751 [00:21<00:12, 14.95batch/s, accuracy=15.625%, loss=1.61] "
          ]
        },
        {
          "output_type": "stream",
          "name": "stdout",
          "text": [
            "GB | Epoch 0 | Loss: 1.6051589250564575 | Accuracy: 25.0%\n",
            "GB | Epoch 0 | Loss: 1.6104469299316406 | Accuracy: 15.625%\n",
            "GB | Epoch 0 | Loss: 1.6078379154205322 | Accuracy: 14.0625%\n",
            "GB | Epoch 0 | Loss: 1.6050338745117188 | Accuracy: 15.625%\n"
          ]
        },
        {
          "output_type": "stream",
          "name": "stderr",
          "text": [
            "Epoch 0:  77%|███████▋  | 576/751 [00:21<00:10, 16.91batch/s, accuracy=21.875%, loss=1.61]"
          ]
        },
        {
          "output_type": "stream",
          "name": "stdout",
          "text": [
            "GB | Epoch 0 | Loss: 1.60035240650177 | Accuracy: 25.0%\n",
            "GB | Epoch 0 | Loss: 1.6056807041168213 | Accuracy: 18.75%\n",
            "GB | Epoch 0 | Loss: 1.6177985668182373 | Accuracy: 14.0625%\n",
            "GB | Epoch 0 | Loss: 1.6067150831222534 | Accuracy: 21.875%\n"
          ]
        },
        {
          "output_type": "stream",
          "name": "stderr",
          "text": [
            "Epoch 0:  77%|███████▋  | 578/751 [00:21<00:11, 14.85batch/s, accuracy=9.375%, loss=1.61]"
          ]
        },
        {
          "output_type": "stream",
          "name": "stdout",
          "text": [
            "GB | Epoch 0 | Loss: 1.6113171577453613 | Accuracy: 15.625%\n",
            "GB | Epoch 0 | Loss: 1.604627013206482 | Accuracy: 21.875%\n",
            "GB | Epoch 0 | Loss: 1.6135963201522827 | Accuracy: 9.375%\n"
          ]
        },
        {
          "output_type": "stream",
          "name": "stderr",
          "text": [
            "Epoch 0:  77%|███████▋  | 582/751 [00:22<00:12, 13.55batch/s, accuracy=17.1875%, loss=1.61]"
          ]
        },
        {
          "output_type": "stream",
          "name": "stdout",
          "text": [
            "GB | Epoch 0 | Loss: 1.6087926626205444 | Accuracy: 14.0625%\n",
            "GB | Epoch 0 | Loss: 1.6024694442749023 | Accuracy: 17.1875%\n",
            "GB | Epoch 0 | Loss: 1.6098530292510986 | Accuracy: 14.0625%\n",
            "GB | Epoch 0 | Loss: 1.6107711791992188 | Accuracy: 17.1875%\n"
          ]
        },
        {
          "output_type": "stream",
          "name": "stderr",
          "text": [
            "Epoch 0:  78%|███████▊  | 585/751 [00:22<00:11, 15.00batch/s, accuracy=17.1875%, loss=1.61]"
          ]
        },
        {
          "output_type": "stream",
          "name": "stdout",
          "text": [
            "GB | Epoch 0 | Loss: 1.611992359161377 | Accuracy: 10.9375%\n",
            "GB | Epoch 0 | Loss: 1.605402946472168 | Accuracy: 23.4375%\n",
            "GB | Epoch 0 | Loss: 1.6079485416412354 | Accuracy: 17.1875%\n"
          ]
        },
        {
          "output_type": "stream",
          "name": "stderr",
          "text": [
            "Epoch 0:  78%|███████▊  | 589/751 [00:22<00:11, 13.94batch/s, accuracy=17.1875%, loss=1.61]"
          ]
        },
        {
          "output_type": "stream",
          "name": "stdout",
          "text": [
            "GB | Epoch 0 | Loss: 1.614471673965454 | Accuracy: 12.5%\n",
            "GB | Epoch 0 | Loss: 1.614428162574768 | Accuracy: 12.5%\n",
            "GB | Epoch 0 | Loss: 1.6078726053237915 | Accuracy: 17.1875%\n"
          ]
        },
        {
          "output_type": "stream",
          "name": "stderr",
          "text": [
            "Epoch 0:  79%|███████▊  | 591/751 [00:22<00:11, 14.26batch/s, accuracy=17.1875%, loss=1.61]"
          ]
        },
        {
          "output_type": "stream",
          "name": "stdout",
          "text": [
            "GB | Epoch 0 | Loss: 1.6127724647521973 | Accuracy: 17.1875%\n",
            "GB | Epoch 0 | Loss: 1.618147373199463 | Accuracy: 14.0625%\n",
            "GB | Epoch 0 | Loss: 1.610895037651062 | Accuracy: 10.9375%\n"
          ]
        },
        {
          "output_type": "stream",
          "name": "stderr",
          "text": [
            "Epoch 0:  79%|███████▉  | 595/751 [00:23<00:11, 13.37batch/s, accuracy=15.625%, loss=1.61]"
          ]
        },
        {
          "output_type": "stream",
          "name": "stdout",
          "text": [
            "GB | Epoch 0 | Loss: 1.6085141897201538 | Accuracy: 17.1875%\n",
            "GB | Epoch 0 | Loss: 1.6125051975250244 | Accuracy: 10.9375%\n",
            "GB | Epoch 0 | Loss: 1.6117074489593506 | Accuracy: 15.625%\n"
          ]
        },
        {
          "output_type": "stream",
          "name": "stderr",
          "text": [
            "Epoch 0:  79%|███████▉  | 597/751 [00:23<00:12, 12.36batch/s, accuracy=15.625%, loss=1.62]"
          ]
        },
        {
          "output_type": "stream",
          "name": "stdout",
          "text": [
            "GB | Epoch 0 | Loss: 1.606787919998169 | Accuracy: 14.0625%\n",
            "GB | Epoch 0 | Loss: 1.6110607385635376 | Accuracy: 12.5%\n",
            "GB | Epoch 0 | Loss: 1.6151278018951416 | Accuracy: 15.625%\n"
          ]
        },
        {
          "output_type": "stream",
          "name": "stderr",
          "text": [
            "Epoch 0:  80%|████████  | 601/751 [00:23<00:11, 12.68batch/s, accuracy=15.625%, loss=1.61]"
          ]
        },
        {
          "output_type": "stream",
          "name": "stdout",
          "text": [
            "GB | Epoch 0 | Loss: 1.6046491861343384 | Accuracy: 14.0625%\n",
            "GB | Epoch 0 | Loss: 1.6076089143753052 | Accuracy: 14.0625%\n",
            "GB | Epoch 0 | Loss: 1.6073331832885742 | Accuracy: 15.625%\n"
          ]
        },
        {
          "output_type": "stream",
          "name": "stderr",
          "text": [
            "Epoch 0:  80%|████████  | 603/751 [00:23<00:11, 13.11batch/s, accuracy=12.5%, loss=1.61]"
          ]
        },
        {
          "output_type": "stream",
          "name": "stdout",
          "text": [
            "GB | Epoch 0 | Loss: 1.6131595373153687 | Accuracy: 14.0625%\n",
            "GB | Epoch 0 | Loss: 1.6136363744735718 | Accuracy: 12.5%\n",
            "GB | Epoch 0 | Loss: 1.6087031364440918 | Accuracy: 12.5%\n"
          ]
        },
        {
          "output_type": "stream",
          "name": "stderr",
          "text": [
            "Epoch 0:  81%|████████  | 607/751 [00:24<00:11, 13.07batch/s, accuracy=21.875%, loss=1.61]"
          ]
        },
        {
          "output_type": "stream",
          "name": "stdout",
          "text": [
            "GB | Epoch 0 | Loss: 1.6164040565490723 | Accuracy: 14.0625%\n",
            "GB | Epoch 0 | Loss: 1.6108229160308838 | Accuracy: 15.625%\n",
            "GB | Epoch 0 | Loss: 1.6141928434371948 | Accuracy: 21.875%\n"
          ]
        },
        {
          "output_type": "stream",
          "name": "stderr",
          "text": [
            "Epoch 0:  81%|████████  | 609/751 [00:24<00:10, 12.96batch/s, accuracy=14.0625%, loss=1.61]"
          ]
        },
        {
          "output_type": "stream",
          "name": "stdout",
          "text": [
            "GB | Epoch 0 | Loss: 1.6029853820800781 | Accuracy: 21.875%\n",
            "GB | Epoch 0 | Loss: 1.6077815294265747 | Accuracy: 15.625%\n",
            "GB | Epoch 0 | Loss: 1.611497402191162 | Accuracy: 14.0625%\n"
          ]
        },
        {
          "output_type": "stream",
          "name": "stderr",
          "text": [
            "Epoch 0:  82%|████████▏ | 613/751 [00:24<00:10, 12.94batch/s, accuracy=18.75%, loss=1.61]"
          ]
        },
        {
          "output_type": "stream",
          "name": "stdout",
          "text": [
            "GB | Epoch 0 | Loss: 1.60904061794281 | Accuracy: 15.625%\n",
            "GB | Epoch 0 | Loss: 1.6075687408447266 | Accuracy: 23.4375%\n",
            "GB | Epoch 0 | Loss: 1.609147548675537 | Accuracy: 18.75%\n"
          ]
        },
        {
          "output_type": "stream",
          "name": "stderr",
          "text": [
            "Epoch 0:  82%|████████▏ | 615/751 [00:24<00:10, 12.77batch/s, accuracy=21.875%, loss=1.61] "
          ]
        },
        {
          "output_type": "stream",
          "name": "stdout",
          "text": [
            "GB | Epoch 0 | Loss: 1.6132750511169434 | Accuracy: 10.9375%\n",
            "GB | Epoch 0 | Loss: 1.6124160289764404 | Accuracy: 17.1875%\n",
            "GB | Epoch 0 | Loss: 1.6109424829483032 | Accuracy: 21.875%\n"
          ]
        },
        {
          "output_type": "stream",
          "name": "stderr",
          "text": [
            "Epoch 0:  82%|████████▏ | 619/751 [00:25<00:09, 13.67batch/s, accuracy=18.75%, loss=1.61]"
          ]
        },
        {
          "output_type": "stream",
          "name": "stdout",
          "text": [
            "GB | Epoch 0 | Loss: 1.6094036102294922 | Accuracy: 21.875%\n",
            "GB | Epoch 0 | Loss: 1.6143404245376587 | Accuracy: 15.625%\n",
            "GB | Epoch 0 | Loss: 1.611551284790039 | Accuracy: 9.375%\n",
            "GB | Epoch 0 | Loss: 1.6050426959991455 | Accuracy: 18.75%\n"
          ]
        },
        {
          "output_type": "stream",
          "name": "stderr",
          "text": [
            "Epoch 0:  83%|████████▎ | 623/751 [00:25<00:08, 15.35batch/s, accuracy=17.1875%, loss=1.61]"
          ]
        },
        {
          "output_type": "stream",
          "name": "stdout",
          "text": [
            "GB | Epoch 0 | Loss: 1.6054414510726929 | Accuracy: 15.625%\n",
            "GB | Epoch 0 | Loss: 1.6151397228240967 | Accuracy: 9.375%\n",
            "GB | Epoch 0 | Loss: 1.6107982397079468 | Accuracy: 18.75%\n",
            "GB | Epoch 0 | Loss: 1.6093409061431885 | Accuracy: 17.1875%\n"
          ]
        },
        {
          "output_type": "stream",
          "name": "stderr",
          "text": [
            "Epoch 0:  83%|████████▎ | 627/751 [00:25<00:09, 12.86batch/s, accuracy=18.75%, loss=1.61]"
          ]
        },
        {
          "output_type": "stream",
          "name": "stdout",
          "text": [
            "GB | Epoch 0 | Loss: 1.6066385507583618 | Accuracy: 18.75%\n",
            "GB | Epoch 0 | Loss: 1.610883355140686 | Accuracy: 17.1875%\n",
            "GB | Epoch 0 | Loss: 1.611566185951233 | Accuracy: 18.75%\n"
          ]
        },
        {
          "output_type": "stream",
          "name": "stderr",
          "text": [
            "Epoch 0:  84%|████████▍ | 629/751 [00:25<00:09, 13.28batch/s, accuracy=18.75%, loss=1.6]"
          ]
        },
        {
          "output_type": "stream",
          "name": "stdout",
          "text": [
            "GB | Epoch 0 | Loss: 1.6036075353622437 | Accuracy: 21.875%\n",
            "GB | Epoch 0 | Loss: 1.6094012260437012 | Accuracy: 12.5%\n",
            "GB | Epoch 0 | Loss: 1.6047536134719849 | Accuracy: 18.75%\n"
          ]
        },
        {
          "output_type": "stream",
          "name": "stderr",
          "text": [
            "Epoch 0:  84%|████████▍ | 633/751 [00:26<00:09, 12.55batch/s, accuracy=9.375%, loss=1.62]"
          ]
        },
        {
          "output_type": "stream",
          "name": "stdout",
          "text": [
            "GB | Epoch 0 | Loss: 1.6104838848114014 | Accuracy: 20.3125%\n",
            "GB | Epoch 0 | Loss: 1.6079612970352173 | Accuracy: 21.875%\n",
            "GB | Epoch 0 | Loss: 1.61940598487854 | Accuracy: 9.375%\n"
          ]
        },
        {
          "output_type": "stream",
          "name": "stderr",
          "text": [
            "Epoch 0:  85%|████████▍ | 635/751 [00:26<00:09, 11.66batch/s, accuracy=17.1875%, loss=1.61]"
          ]
        },
        {
          "output_type": "stream",
          "name": "stdout",
          "text": [
            "GB | Epoch 0 | Loss: 1.6168811321258545 | Accuracy: 18.75%\n",
            "GB | Epoch 0 | Loss: 1.609964370727539 | Accuracy: 23.4375%\n",
            "GB | Epoch 0 | Loss: 1.6082541942596436 | Accuracy: 17.1875%\n"
          ]
        },
        {
          "output_type": "stream",
          "name": "stderr",
          "text": [
            "Epoch 0:  85%|████████▌ | 640/751 [00:26<00:07, 15.20batch/s, accuracy=21.875%, loss=1.61]"
          ]
        },
        {
          "output_type": "stream",
          "name": "stdout",
          "text": [
            "GB | Epoch 0 | Loss: 1.6054431200027466 | Accuracy: 20.3125%\n",
            "GB | Epoch 0 | Loss: 1.609520673751831 | Accuracy: 20.3125%\n",
            "GB | Epoch 0 | Loss: 1.611809492111206 | Accuracy: 14.0625%\n",
            "GB | Epoch 0 | Loss: 1.6050368547439575 | Accuracy: 21.875%\n",
            "GB | Epoch 0 | Loss: 1.6114941835403442 | Accuracy: 21.875%\n"
          ]
        },
        {
          "output_type": "stream",
          "name": "stderr",
          "text": [
            "Epoch 0:  86%|████████▌ | 646/751 [00:26<00:05, 18.75batch/s, accuracy=17.1875%, loss=1.62]"
          ]
        },
        {
          "output_type": "stream",
          "name": "stdout",
          "text": [
            "GB | Epoch 0 | Loss: 1.6121703386306763 | Accuracy: 20.3125%\n",
            "GB | Epoch 0 | Loss: 1.6095831394195557 | Accuracy: 17.1875%\n",
            "GB | Epoch 0 | Loss: 1.6071178913116455 | Accuracy: 21.875%\n",
            "GB | Epoch 0 | Loss: 1.6060477495193481 | Accuracy: 15.625%\n",
            "GB | Epoch 0 | Loss: 1.6154191493988037 | Accuracy: 17.1875%\n"
          ]
        },
        {
          "output_type": "stream",
          "name": "stderr",
          "text": [
            "Epoch 0:  87%|████████▋ | 652/751 [00:27<00:04, 21.64batch/s, accuracy=17.1875%, loss=1.61]"
          ]
        },
        {
          "output_type": "stream",
          "name": "stdout",
          "text": [
            "GB | Epoch 0 | Loss: 1.608343482017517 | Accuracy: 15.625%\n",
            "GB | Epoch 0 | Loss: 1.6107738018035889 | Accuracy: 17.1875%\n",
            "GB | Epoch 0 | Loss: 1.607454538345337 | Accuracy: 26.5625%\n",
            "GB | Epoch 0 | Loss: 1.6125086545944214 | Accuracy: 10.9375%\n",
            "GB | Epoch 0 | Loss: 1.6134870052337646 | Accuracy: 18.75%\n",
            "GB | Epoch 0 | Loss: 1.607363224029541 | Accuracy: 17.1875%\n"
          ]
        },
        {
          "output_type": "stream",
          "name": "stderr",
          "text": [
            "Epoch 0:  87%|████████▋ | 655/751 [00:27<00:04, 21.01batch/s, accuracy=28.125%, loss=1.61]"
          ]
        },
        {
          "output_type": "stream",
          "name": "stdout",
          "text": [
            "GB | Epoch 0 | Loss: 1.6114795207977295 | Accuracy: 18.75%\n",
            "GB | Epoch 0 | Loss: 1.613599181175232 | Accuracy: 10.9375%\n",
            "GB | Epoch 0 | Loss: 1.6060471534729004 | Accuracy: 17.1875%\n",
            "GB | Epoch 0 | Loss: 1.6096746921539307 | Accuracy: 15.625%\n",
            "GB | Epoch 0 | Loss: 1.6054022312164307 | Accuracy: 28.125%\n"
          ]
        },
        {
          "output_type": "stream",
          "name": "stderr",
          "text": [
            "Epoch 0:  88%|████████▊ | 661/751 [00:27<00:04, 22.25batch/s, accuracy=21.875%, loss=1.61] "
          ]
        },
        {
          "output_type": "stream",
          "name": "stdout",
          "text": [
            "GB | Epoch 0 | Loss: 1.608619213104248 | Accuracy: 14.0625%\n",
            "GB | Epoch 0 | Loss: 1.6077574491500854 | Accuracy: 23.4375%\n",
            "GB | Epoch 0 | Loss: 1.6135042905807495 | Accuracy: 15.625%\n",
            "GB | Epoch 0 | Loss: 1.6101709604263306 | Accuracy: 14.0625%\n",
            "GB | Epoch 0 | Loss: 1.6051232814788818 | Accuracy: 21.875%\n"
          ]
        },
        {
          "output_type": "stream",
          "name": "stderr",
          "text": [
            "Epoch 0:  89%|████████▉ | 667/751 [00:27<00:03, 21.20batch/s, accuracy=7.8125%, loss=1.61]"
          ]
        },
        {
          "output_type": "stream",
          "name": "stdout",
          "text": [
            "GB | Epoch 0 | Loss: 1.6083757877349854 | Accuracy: 18.75%\n",
            "GB | Epoch 0 | Loss: 1.6058224439620972 | Accuracy: 15.625%\n",
            "GB | Epoch 0 | Loss: 1.6121739149093628 | Accuracy: 14.0625%\n",
            "GB | Epoch 0 | Loss: 1.6085823774337769 | Accuracy: 21.875%\n",
            "GB | Epoch 0 | Loss: 1.6138300895690918 | Accuracy: 7.8125%\n"
          ]
        },
        {
          "output_type": "stream",
          "name": "stderr",
          "text": [
            "Epoch 0:  89%|████████▉ | 670/751 [00:27<00:03, 21.02batch/s, accuracy=10.9375%, loss=1.61]"
          ]
        },
        {
          "output_type": "stream",
          "name": "stdout",
          "text": [
            "GB | Epoch 0 | Loss: 1.6116530895233154 | Accuracy: 18.75%\n",
            "GB | Epoch 0 | Loss: 1.6051126718521118 | Accuracy: 18.75%\n",
            "GB | Epoch 0 | Loss: 1.60293447971344 | Accuracy: 10.9375%\n",
            "GB | Epoch 0 | Loss: 1.6115121841430664 | Accuracy: 14.0625%\n",
            "GB | Epoch 0 | Loss: 1.6104868650436401 | Accuracy: 10.9375%\n"
          ]
        },
        {
          "output_type": "stream",
          "name": "stderr",
          "text": [
            "Epoch 0:  90%|█████████ | 676/751 [00:28<00:03, 22.47batch/s, accuracy=17.1875%, loss=1.61]"
          ]
        },
        {
          "output_type": "stream",
          "name": "stdout",
          "text": [
            "GB | Epoch 0 | Loss: 1.6042249202728271 | Accuracy: 18.75%\n",
            "GB | Epoch 0 | Loss: 1.6106228828430176 | Accuracy: 17.1875%\n",
            "GB | Epoch 0 | Loss: 1.6025410890579224 | Accuracy: 26.5625%\n",
            "GB | Epoch 0 | Loss: 1.6114492416381836 | Accuracy: 12.5%\n",
            "GB | Epoch 0 | Loss: 1.6108779907226562 | Accuracy: 17.1875%\n"
          ]
        },
        {
          "output_type": "stream",
          "name": "stderr",
          "text": [
            "Epoch 0:  91%|█████████ | 682/751 [00:28<00:02, 23.06batch/s, accuracy=18.75%, loss=1.61] "
          ]
        },
        {
          "output_type": "stream",
          "name": "stdout",
          "text": [
            "GB | Epoch 0 | Loss: 1.608727216720581 | Accuracy: 21.875%\n",
            "GB | Epoch 0 | Loss: 1.6161538362503052 | Accuracy: 9.375%\n",
            "GB | Epoch 0 | Loss: 1.6093612909317017 | Accuracy: 10.9375%\n",
            "GB | Epoch 0 | Loss: 1.6010425090789795 | Accuracy: 17.1875%\n",
            "GB | Epoch 0 | Loss: 1.6136876344680786 | Accuracy: 15.625%\n",
            "GB | Epoch 0 | Loss: 1.6099058389663696 | Accuracy: 18.75%\n"
          ]
        },
        {
          "output_type": "stream",
          "name": "stderr",
          "text": [
            "Epoch 0:  92%|█████████▏| 688/751 [00:28<00:02, 23.42batch/s, accuracy=14.0625%, loss=1.61]"
          ]
        },
        {
          "output_type": "stream",
          "name": "stdout",
          "text": [
            "GB | Epoch 0 | Loss: 1.6044036149978638 | Accuracy: 18.75%\n",
            "GB | Epoch 0 | Loss: 1.6129745244979858 | Accuracy: 14.0625%\n",
            "GB | Epoch 0 | Loss: 1.6015194654464722 | Accuracy: 20.3125%\n",
            "GB | Epoch 0 | Loss: 1.60531747341156 | Accuracy: 23.4375%\n",
            "GB | Epoch 0 | Loss: 1.6090130805969238 | Accuracy: 14.0625%\n"
          ]
        },
        {
          "output_type": "stream",
          "name": "stderr",
          "text": [
            "Epoch 0:  92%|█████████▏| 691/751 [00:28<00:02, 21.18batch/s, accuracy=15.625%, loss=1.61] "
          ]
        },
        {
          "output_type": "stream",
          "name": "stdout",
          "text": [
            "GB | Epoch 0 | Loss: 1.6174027919769287 | Accuracy: 12.5%\n",
            "GB | Epoch 0 | Loss: 1.606037974357605 | Accuracy: 23.4375%\n",
            "GB | Epoch 0 | Loss: 1.6112215518951416 | Accuracy: 17.1875%\n",
            "GB | Epoch 0 | Loss: 1.608638048171997 | Accuracy: 17.1875%\n",
            "GB | Epoch 0 | Loss: 1.6095552444458008 | Accuracy: 15.625%\n"
          ]
        },
        {
          "output_type": "stream",
          "name": "stderr",
          "text": [
            "Epoch 0:  93%|█████████▎| 697/751 [00:29<00:02, 20.02batch/s, accuracy=21.875%, loss=1.6]"
          ]
        },
        {
          "output_type": "stream",
          "name": "stdout",
          "text": [
            "GB | Epoch 0 | Loss: 1.6142600774765015 | Accuracy: 14.0625%\n",
            "GB | Epoch 0 | Loss: 1.6124110221862793 | Accuracy: 17.1875%\n",
            "GB | Epoch 0 | Loss: 1.6070557832717896 | Accuracy: 20.3125%\n",
            "GB | Epoch 0 | Loss: 1.6034356355667114 | Accuracy: 21.875%\n"
          ]
        },
        {
          "output_type": "stream",
          "name": "stderr",
          "text": [
            "Epoch 0:  93%|█████████▎| 700/751 [00:29<00:02, 19.81batch/s, accuracy=9.375%, loss=1.62]"
          ]
        },
        {
          "output_type": "stream",
          "name": "stdout",
          "text": [
            "GB | Epoch 0 | Loss: 1.6112993955612183 | Accuracy: 18.75%\n",
            "GB | Epoch 0 | Loss: 1.610671043395996 | Accuracy: 15.625%\n",
            "GB | Epoch 0 | Loss: 1.6091490983963013 | Accuracy: 12.5%\n",
            "GB | Epoch 0 | Loss: 1.6092795133590698 | Accuracy: 25.0%\n",
            "GB | Epoch 0 | Loss: 1.615050196647644 | Accuracy: 9.375%\n"
          ]
        },
        {
          "output_type": "stream",
          "name": "stderr",
          "text": [
            "Epoch 0:  94%|█████████▍| 706/751 [00:29<00:02, 21.07batch/s, accuracy=15.625%, loss=1.61] "
          ]
        },
        {
          "output_type": "stream",
          "name": "stdout",
          "text": [
            "GB | Epoch 0 | Loss: 1.6062556505203247 | Accuracy: 15.625%\n",
            "GB | Epoch 0 | Loss: 1.6079089641571045 | Accuracy: 17.1875%\n",
            "GB | Epoch 0 | Loss: 1.5979219675064087 | Accuracy: 26.5625%\n",
            "GB | Epoch 0 | Loss: 1.6144658327102661 | Accuracy: 17.1875%\n",
            "GB | Epoch 0 | Loss: 1.6084743738174438 | Accuracy: 15.625%\n"
          ]
        },
        {
          "output_type": "stream",
          "name": "stderr",
          "text": [
            "Epoch 0:  95%|█████████▍| 712/751 [00:29<00:01, 21.22batch/s, accuracy=20.3125%, loss=1.61]"
          ]
        },
        {
          "output_type": "stream",
          "name": "stdout",
          "text": [
            "GB | Epoch 0 | Loss: 1.6063766479492188 | Accuracy: 23.4375%\n",
            "GB | Epoch 0 | Loss: 1.6061906814575195 | Accuracy: 21.875%\n",
            "GB | Epoch 0 | Loss: 1.606407642364502 | Accuracy: 18.75%\n",
            "GB | Epoch 0 | Loss: 1.6102311611175537 | Accuracy: 12.5%\n",
            "GB | Epoch 0 | Loss: 1.609115481376648 | Accuracy: 20.3125%\n"
          ]
        },
        {
          "output_type": "stream",
          "name": "stderr",
          "text": [
            "Epoch 0:  96%|█████████▌| 718/751 [00:30<00:01, 23.13batch/s, accuracy=15.625%, loss=1.61]"
          ]
        },
        {
          "output_type": "stream",
          "name": "stdout",
          "text": [
            "GB | Epoch 0 | Loss: 1.6062543392181396 | Accuracy: 25.0%\n",
            "GB | Epoch 0 | Loss: 1.610703468322754 | Accuracy: 17.1875%\n",
            "GB | Epoch 0 | Loss: 1.6149147748947144 | Accuracy: 14.0625%\n",
            "GB | Epoch 0 | Loss: 1.6063075065612793 | Accuracy: 10.9375%\n",
            "GB | Epoch 0 | Loss: 1.6097742319107056 | Accuracy: 17.1875%\n",
            "GB | Epoch 0 | Loss: 1.6056751012802124 | Accuracy: 15.625%\n"
          ]
        },
        {
          "output_type": "stream",
          "name": "stderr",
          "text": [
            "Epoch 0:  96%|█████████▌| 721/751 [00:30<00:01, 21.36batch/s, accuracy=21.875%, loss=1.6]  "
          ]
        },
        {
          "output_type": "stream",
          "name": "stdout",
          "text": [
            "GB | Epoch 0 | Loss: 1.6119464635849 | Accuracy: 17.1875%\n",
            "GB | Epoch 0 | Loss: 1.614165186882019 | Accuracy: 15.625%\n",
            "GB | Epoch 0 | Loss: 1.6145542860031128 | Accuracy: 14.0625%\n",
            "GB | Epoch 0 | Loss: 1.6035526990890503 | Accuracy: 21.875%\n"
          ]
        },
        {
          "output_type": "stream",
          "name": "stderr",
          "text": [
            "Epoch 0:  97%|█████████▋| 727/751 [00:30<00:01, 22.18batch/s, accuracy=17.1875%, loss=1.6]"
          ]
        },
        {
          "output_type": "stream",
          "name": "stdout",
          "text": [
            "GB | Epoch 0 | Loss: 1.615190863609314 | Accuracy: 12.5%\n",
            "GB | Epoch 0 | Loss: 1.6056946516036987 | Accuracy: 15.625%\n",
            "GB | Epoch 0 | Loss: 1.6060982942581177 | Accuracy: 20.3125%\n",
            "GB | Epoch 0 | Loss: 1.606990933418274 | Accuracy: 18.75%\n",
            "GB | Epoch 0 | Loss: 1.6043351888656616 | Accuracy: 17.1875%\n"
          ]
        },
        {
          "output_type": "stream",
          "name": "stderr",
          "text": [
            "Epoch 0:  97%|█████████▋| 730/751 [00:30<00:00, 22.26batch/s, accuracy=26.5625%, loss=1.6]"
          ]
        },
        {
          "output_type": "stream",
          "name": "stdout",
          "text": [
            "GB | Epoch 0 | Loss: 1.6073273420333862 | Accuracy: 18.75%\n",
            "GB | Epoch 0 | Loss: 1.6082199811935425 | Accuracy: 18.75%\n",
            "GB | Epoch 0 | Loss: 1.606986165046692 | Accuracy: 14.0625%\n",
            "GB | Epoch 0 | Loss: 1.6013509035110474 | Accuracy: 20.3125%\n",
            "GB | Epoch 0 | Loss: 1.5997077226638794 | Accuracy: 26.5625%\n"
          ]
        },
        {
          "output_type": "stream",
          "name": "stderr",
          "text": [
            "Epoch 0:  98%|█████████▊| 736/751 [00:30<00:00, 23.42batch/s, accuracy=18.75%, loss=1.61] "
          ]
        },
        {
          "output_type": "stream",
          "name": "stdout",
          "text": [
            "GB | Epoch 0 | Loss: 1.6061375141143799 | Accuracy: 10.9375%\n",
            "GB | Epoch 0 | Loss: 1.5997787714004517 | Accuracy: 21.875%\n",
            "GB | Epoch 0 | Loss: 1.6134850978851318 | Accuracy: 10.9375%\n",
            "GB | Epoch 0 | Loss: 1.6060621738433838 | Accuracy: 21.875%\n",
            "GB | Epoch 0 | Loss: 1.6064395904541016 | Accuracy: 18.75%\n"
          ]
        },
        {
          "output_type": "stream",
          "name": "stderr",
          "text": [
            "Epoch 0:  99%|█████████▉| 742/751 [00:31<00:00, 23.83batch/s, accuracy=6.25%, loss=1.62]  "
          ]
        },
        {
          "output_type": "stream",
          "name": "stdout",
          "text": [
            "GB | Epoch 0 | Loss: 1.6118360757827759 | Accuracy: 17.1875%\n",
            "GB | Epoch 0 | Loss: 1.6093330383300781 | Accuracy: 14.0625%\n",
            "GB | Epoch 0 | Loss: 1.616741418838501 | Accuracy: 14.0625%\n",
            "GB | Epoch 0 | Loss: 1.6071633100509644 | Accuracy: 25.0%\n",
            "GB | Epoch 0 | Loss: 1.6059411764144897 | Accuracy: 15.625%\n",
            "GB | Epoch 0 | Loss: 1.617523193359375 | Accuracy: 6.25%\n"
          ]
        },
        {
          "output_type": "stream",
          "name": "stderr",
          "text": [
            "Epoch 0: 100%|█████████▉| 748/751 [00:31<00:00, 24.44batch/s, accuracy=20.3125%, loss=1.61]"
          ]
        },
        {
          "output_type": "stream",
          "name": "stdout",
          "text": [
            "GB | Epoch 0 | Loss: 1.6136554479599 | Accuracy: 18.75%\n",
            "GB | Epoch 0 | Loss: 1.6085399389266968 | Accuracy: 14.0625%\n",
            "GB | Epoch 0 | Loss: 1.609065294265747 | Accuracy: 17.1875%\n",
            "GB | Epoch 0 | Loss: 1.6035170555114746 | Accuracy: 18.75%\n",
            "GB | Epoch 0 | Loss: 1.6081349849700928 | Accuracy: 20.3125%\n",
            "GB | Epoch 0 | Loss: 1.6069419384002686 | Accuracy: 20.3125%\n"
          ]
        },
        {
          "output_type": "stream",
          "name": "stderr",
          "text": [
            "Epoch 0: 100%|██████████| 751/751 [00:31<00:00, 25.53batch/s, accuracy=50.0%, loss=1.58]"
          ]
        },
        {
          "output_type": "stream",
          "name": "stdout",
          "text": [
            "GB | Epoch 0 | Loss: 1.608494520187378 | Accuracy: 14.0625%\n",
            "GB | Epoch 0 | Loss: 1.582450032234192 | Accuracy: 50.0%\n"
          ]
        },
        {
          "output_type": "stream",
          "name": "stderr",
          "text": [
            "\rEpoch 0: 100%|██████████| 751/751 [00:31<00:00, 23.67batch/s, accuracy=50.0%, loss=1.58]\n"
          ]
        }
      ]
    },
    {
      "cell_type": "code",
      "source": [
        "gbb_evaluator = Evaluator(\n",
        "    testset=testset,\n",
        "    group_partition=testset.group_partition,\n",
        "    group_weights=trainset.group_weights,\n",
        "    batch_size=64,\n",
        "    model=gbb_model,\n",
        "    device=\"cpu\",\n",
        "    verbose=True\n",
        ")\n",
        "gbb_evaluator.evaluate()"
      ],
      "metadata": {
        "id": "6HZQBZNQ_pQK",
        "colab": {
          "base_uri": "https://localhost:8080/"
        },
        "outputId": "0a868f6c-d989-4bbb-c2ae-0cc2c6810fd3"
      },
      "execution_count": null,
      "outputs": [
        {
          "output_type": "stream",
          "name": "stderr",
          "text": [
            "Evaluating group-wise accuracy:   4%|▍         | 1/25 [00:00<00:20,  1.19it/s]"
          ]
        },
        {
          "output_type": "stream",
          "name": "stdout",
          "text": [
            "Group (0, 0) Accuracy: 0.0\n"
          ]
        },
        {
          "output_type": "stream",
          "name": "stderr",
          "text": [
            "\rEvaluating group-wise accuracy:   8%|▊         | 2/25 [00:01<00:19,  1.18it/s]"
          ]
        },
        {
          "output_type": "stream",
          "name": "stdout",
          "text": [
            "Group (0, 1) Accuracy: 0.0\n"
          ]
        },
        {
          "output_type": "stream",
          "name": "stderr",
          "text": [
            "\rEvaluating group-wise accuracy:  12%|█▏        | 3/25 [00:02<00:17,  1.22it/s]"
          ]
        },
        {
          "output_type": "stream",
          "name": "stdout",
          "text": [
            "Group (0, 2) Accuracy: 0.0\n"
          ]
        },
        {
          "output_type": "stream",
          "name": "stderr",
          "text": [
            "\rEvaluating group-wise accuracy:  16%|█▌        | 4/25 [00:03<00:17,  1.20it/s]"
          ]
        },
        {
          "output_type": "stream",
          "name": "stdout",
          "text": [
            "Group (0, 3) Accuracy: 0.0\n"
          ]
        },
        {
          "output_type": "stream",
          "name": "stderr",
          "text": [
            "\rEvaluating group-wise accuracy:  20%|██        | 5/25 [00:04<00:16,  1.22it/s]"
          ]
        },
        {
          "output_type": "stream",
          "name": "stdout",
          "text": [
            "Group (0, 4) Accuracy: 0.0\n"
          ]
        },
        {
          "output_type": "stream",
          "name": "stderr",
          "text": [
            "\rEvaluating group-wise accuracy:  24%|██▍       | 6/25 [00:05<00:16,  1.18it/s]"
          ]
        },
        {
          "output_type": "stream",
          "name": "stdout",
          "text": [
            "Group (1, 0) Accuracy: 0.0\n"
          ]
        },
        {
          "output_type": "stream",
          "name": "stderr",
          "text": [
            "\rEvaluating group-wise accuracy:  28%|██▊       | 7/25 [00:06<00:17,  1.01it/s]"
          ]
        },
        {
          "output_type": "stream",
          "name": "stdout",
          "text": [
            "Group (1, 1) Accuracy: 0.0\n"
          ]
        },
        {
          "output_type": "stream",
          "name": "stderr",
          "text": [
            "\rEvaluating group-wise accuracy:  32%|███▏      | 8/25 [00:07<00:17,  1.06s/it]"
          ]
        },
        {
          "output_type": "stream",
          "name": "stdout",
          "text": [
            "Group (1, 2) Accuracy: 0.0\n"
          ]
        },
        {
          "output_type": "stream",
          "name": "stderr",
          "text": [
            "\rEvaluating group-wise accuracy:  36%|███▌      | 9/25 [00:09<00:19,  1.24s/it]"
          ]
        },
        {
          "output_type": "stream",
          "name": "stdout",
          "text": [
            "Group (1, 3) Accuracy: 10.049019607843137\n"
          ]
        },
        {
          "output_type": "stream",
          "name": "stderr",
          "text": [
            "\rEvaluating group-wise accuracy:  40%|████      | 10/25 [00:10<00:19,  1.33s/it]"
          ]
        },
        {
          "output_type": "stream",
          "name": "stdout",
          "text": [
            "Group (1, 4) Accuracy: 0.0\n"
          ]
        },
        {
          "output_type": "stream",
          "name": "stderr",
          "text": [
            "\rEvaluating group-wise accuracy:  44%|████▍     | 11/25 [00:11<00:16,  1.15s/it]"
          ]
        },
        {
          "output_type": "stream",
          "name": "stdout",
          "text": [
            "Group (2, 0) Accuracy: 100.0\n"
          ]
        },
        {
          "output_type": "stream",
          "name": "stderr",
          "text": [
            "\rEvaluating group-wise accuracy:  48%|████▊     | 12/25 [00:12<00:13,  1.03s/it]"
          ]
        },
        {
          "output_type": "stream",
          "name": "stdout",
          "text": [
            "Group (2, 1) Accuracy: 100.0\n"
          ]
        },
        {
          "output_type": "stream",
          "name": "stderr",
          "text": [
            "\rEvaluating group-wise accuracy:  52%|█████▏    | 13/25 [00:12<00:11,  1.05it/s]"
          ]
        },
        {
          "output_type": "stream",
          "name": "stdout",
          "text": [
            "Group (2, 2) Accuracy: 100.0\n"
          ]
        },
        {
          "output_type": "stream",
          "name": "stderr",
          "text": [
            "\rEvaluating group-wise accuracy:  56%|█████▌    | 14/25 [00:13<00:09,  1.11it/s]"
          ]
        },
        {
          "output_type": "stream",
          "name": "stdout",
          "text": [
            "Group (2, 3) Accuracy: 99.2\n"
          ]
        },
        {
          "output_type": "stream",
          "name": "stderr",
          "text": [
            "\rEvaluating group-wise accuracy:  60%|██████    | 15/25 [00:14<00:08,  1.15it/s]"
          ]
        },
        {
          "output_type": "stream",
          "name": "stdout",
          "text": [
            "Group (2, 4) Accuracy: 100.0\n"
          ]
        },
        {
          "output_type": "stream",
          "name": "stderr",
          "text": [
            "\rEvaluating group-wise accuracy:  64%|██████▍   | 16/25 [00:15<00:07,  1.19it/s]"
          ]
        },
        {
          "output_type": "stream",
          "name": "stdout",
          "text": [
            "Group (3, 0) Accuracy: 0.0\n"
          ]
        },
        {
          "output_type": "stream",
          "name": "stderr",
          "text": [
            "\rEvaluating group-wise accuracy:  68%|██████▊   | 17/25 [00:16<00:06,  1.22it/s]"
          ]
        },
        {
          "output_type": "stream",
          "name": "stdout",
          "text": [
            "Group (3, 1) Accuracy: 0.0\n"
          ]
        },
        {
          "output_type": "stream",
          "name": "stderr",
          "text": [
            "\rEvaluating group-wise accuracy:  72%|███████▏  | 18/25 [00:16<00:05,  1.24it/s]"
          ]
        },
        {
          "output_type": "stream",
          "name": "stdout",
          "text": [
            "Group (3, 2) Accuracy: 0.0\n"
          ]
        },
        {
          "output_type": "stream",
          "name": "stderr",
          "text": [
            "\rEvaluating group-wise accuracy:  76%|███████▌  | 19/25 [00:17<00:04,  1.24it/s]"
          ]
        },
        {
          "output_type": "stream",
          "name": "stdout",
          "text": [
            "Group (3, 3) Accuracy: 0.0\n"
          ]
        },
        {
          "output_type": "stream",
          "name": "stderr",
          "text": [
            "\rEvaluating group-wise accuracy:  80%|████████  | 20/25 [00:18<00:03,  1.26it/s]"
          ]
        },
        {
          "output_type": "stream",
          "name": "stdout",
          "text": [
            "Group (3, 4) Accuracy: 0.0\n"
          ]
        },
        {
          "output_type": "stream",
          "name": "stderr",
          "text": [
            "\rEvaluating group-wise accuracy:  84%|████████▍ | 21/25 [00:19<00:03,  1.09it/s]"
          ]
        },
        {
          "output_type": "stream",
          "name": "stdout",
          "text": [
            "Group (4, 0) Accuracy: 0.0\n"
          ]
        },
        {
          "output_type": "stream",
          "name": "stderr",
          "text": [
            "\rEvaluating group-wise accuracy:  88%|████████▊ | 22/25 [00:20<00:03,  1.04s/it]"
          ]
        },
        {
          "output_type": "stream",
          "name": "stdout",
          "text": [
            "Group (4, 1) Accuracy: 0.0\n"
          ]
        },
        {
          "output_type": "stream",
          "name": "stderr",
          "text": [
            "\rEvaluating group-wise accuracy:  92%|█████████▏| 23/25 [00:22<00:02,  1.08s/it]"
          ]
        },
        {
          "output_type": "stream",
          "name": "stdout",
          "text": [
            "Group (4, 2) Accuracy: 0.0\n"
          ]
        },
        {
          "output_type": "stream",
          "name": "stderr",
          "text": [
            "\rEvaluating group-wise accuracy:  96%|█████████▌| 24/25 [00:23<00:01,  1.08s/it]"
          ]
        },
        {
          "output_type": "stream",
          "name": "stdout",
          "text": [
            "Group (4, 3) Accuracy: 0.0\n"
          ]
        },
        {
          "output_type": "stream",
          "name": "stderr",
          "text": [
            "Evaluating group-wise accuracy: 100%|██████████| 25/25 [00:24<00:00,  1.04it/s]"
          ]
        },
        {
          "output_type": "stream",
          "name": "stdout",
          "text": [
            "Group (4, 4) Accuracy: 0.0\n"
          ]
        },
        {
          "output_type": "stream",
          "name": "stderr",
          "text": [
            "\n"
          ]
        },
        {
          "output_type": "execute_result",
          "data": {
            "text/plain": [
              "{(0, 0): 0.0,\n",
              " (0, 1): 0.0,\n",
              " (0, 2): 0.0,\n",
              " (0, 3): 0.0,\n",
              " (0, 4): 0.0,\n",
              " (1, 0): 0.0,\n",
              " (1, 1): 0.0,\n",
              " (1, 2): 0.0,\n",
              " (1, 3): 10.049019607843137,\n",
              " (1, 4): 0.0,\n",
              " (2, 0): 100.0,\n",
              " (2, 1): 100.0,\n",
              " (2, 2): 100.0,\n",
              " (2, 3): 99.2,\n",
              " (2, 4): 100.0,\n",
              " (3, 0): 0.0,\n",
              " (3, 1): 0.0,\n",
              " (3, 2): 0.0,\n",
              " (3, 3): 0.0,\n",
              " (3, 4): 0.0,\n",
              " (4, 0): 0.0,\n",
              " (4, 1): 0.0,\n",
              " (4, 2): 0.0,\n",
              " (4, 3): 0.0,\n",
              " (4, 4): 0.0}"
            ]
          },
          "metadata": {},
          "execution_count": 50
        }
      ]
    },
    {
      "cell_type": "code",
      "source": [
        "gbb_evaluator.worst_group_accuracy"
      ],
      "metadata": {
        "id": "WOiQCxwhBPZU",
        "colab": {
          "base_uri": "https://localhost:8080/"
        },
        "outputId": "43044dec-6b6e-42e2-a6a2-38673d36672d"
      },
      "execution_count": null,
      "outputs": [
        {
          "output_type": "execute_result",
          "data": {
            "text/plain": [
              "((0, 0), 0.0)"
            ]
          },
          "metadata": {},
          "execution_count": 51
        }
      ]
    },
    {
      "cell_type": "code",
      "source": [
        "gbb_evaluator.average_accuracy"
      ],
      "metadata": {
        "id": "mtokXevjPIhz",
        "colab": {
          "base_uri": "https://localhost:8080/"
        },
        "outputId": "aa75a525-37f8-4f19-e6d0-5b5296a21fae"
      },
      "execution_count": null,
      "outputs": [
        {
          "output_type": "execute_result",
          "data": {
            "text/plain": [
              "18.773086433973642"
            ]
          },
          "metadata": {},
          "execution_count": 52
        }
      ]
    },
    {
      "cell_type": "code",
      "source": [
        "gbb_evaluator.evaluate_spurious_attribute_prediction()"
      ],
      "metadata": {
        "id": "YZzoW-dQPJp6",
        "colab": {
          "base_uri": "https://localhost:8080/"
        },
        "outputId": "557404f5-e306-4302-f3f5-79201847704d"
      },
      "execution_count": null,
      "outputs": [
        {
          "output_type": "execute_result",
          "data": {
            "text/plain": [
              "19.95"
            ]
          },
          "metadata": {},
          "execution_count": 53
        }
      ]
    },
    {
      "cell_type": "markdown",
      "source": [
        "Conclusion:\n",
        "\n",
        "- The retrained model appears to predict superclass almost exclusively\n",
        "- Possible next steps: reduce overfitting (regularization, reduce model complexity, etc.)"
      ],
      "metadata": {
        "id": "3uYmbQPxXF_4"
      }
    }
  ]
}